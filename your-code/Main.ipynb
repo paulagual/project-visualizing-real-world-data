{
 "cells": [
  {
   "cell_type": "markdown",
   "metadata": {},
   "source": [
    "# FIFA19 PLAYERS VISUALITAZION PROJECT"
   ]
  },
  {
   "cell_type": "markdown",
   "metadata": {},
   "source": [
    "### 0.- Environment"
   ]
  },
  {
   "cell_type": "markdown",
   "metadata": {},
   "source": [
    "All the imports and notebook settings are in this section"
   ]
  },
  {
   "cell_type": "code",
   "execution_count": 1,
   "metadata": {},
   "outputs": [
    {
     "data": {
      "text/html": [
       "        <script type=\"text/javascript\">\n",
       "        window.PlotlyConfig = {MathJaxConfig: 'local'};\n",
       "        if (window.MathJax) {MathJax.Hub.Config({SVG: {font: \"STIX-Web\"}});}\n",
       "        if (typeof require !== 'undefined') {\n",
       "        require.undef(\"plotly\");\n",
       "        requirejs.config({\n",
       "            paths: {\n",
       "                'plotly': ['https://cdn.plot.ly/plotly-latest.min']\n",
       "            }\n",
       "        });\n",
       "        require(['plotly'], function(Plotly) {\n",
       "            window._Plotly = Plotly;\n",
       "        });\n",
       "        }\n",
       "        </script>\n",
       "        "
      ]
     },
     "metadata": {},
     "output_type": "display_data"
    }
   ],
   "source": [
    "###DATAFRAME###\n",
    "import numpy as np\n",
    "import pandas as pd\n",
    "\n",
    "###VISUALIZATION###\n",
    "import matplotlib as mpl\n",
    "import matplotlib.pyplot as plt\n",
    "import seaborn as sns\n",
    "%matplotlib inline\n",
    "import plotly.plotly as py\n",
    "import cufflinks as cf\n",
    "from ipywidgets import interact\n",
    "import plotly.graph_objs as go\n",
    "cf.go_offline()\n",
    "\n",
    "###SYSTEM###\n",
    "import warnings\n",
    "warnings.filterwarnings('ignore')\n"
   ]
  },
  {
   "cell_type": "markdown",
   "metadata": {},
   "source": [
    "### 1.- The dataset: FIFA19 players details"
   ]
  },
  {
   "cell_type": "markdown",
   "metadata": {},
   "source": [
    "#### 1.1. Download and unzip the dataset from  https://www.kaggle.com/karangadiya/fifa19/downloads/fifa19.zip/4"
   ]
  },
  {
   "cell_type": "markdown",
   "metadata": {},
   "source": [
    "#### 1.2. Insert the dataset in a pandas dataframe data"
   ]
  },
  {
   "cell_type": "code",
   "execution_count": 2,
   "metadata": {},
   "outputs": [],
   "source": [
    "fifa = pd.read_csv(\"data/data.csv\")"
   ]
  },
  {
   "cell_type": "markdown",
   "metadata": {},
   "source": [
    "#### 1.3. Overview of the dataset and ir characteristics"
   ]
  },
  {
   "cell_type": "code",
   "execution_count": 3,
   "metadata": {},
   "outputs": [
    {
     "data": {
      "text/plain": [
       "(18207, 89)"
      ]
     },
     "execution_count": 3,
     "metadata": {},
     "output_type": "execute_result"
    }
   ],
   "source": [
    "fifa.shape"
   ]
  },
  {
   "cell_type": "code",
   "execution_count": 4,
   "metadata": {},
   "outputs": [
    {
     "name": "stdout",
     "output_type": "stream",
     "text": [
      "<class 'pandas.core.frame.DataFrame'>\n",
      "RangeIndex: 18207 entries, 0 to 18206\n",
      "Data columns (total 89 columns):\n",
      "Unnamed: 0                  18207 non-null int64\n",
      "ID                          18207 non-null int64\n",
      "Name                        18207 non-null object\n",
      "Age                         18207 non-null int64\n",
      "Photo                       18207 non-null object\n",
      "Nationality                 18207 non-null object\n",
      "Flag                        18207 non-null object\n",
      "Overall                     18207 non-null int64\n",
      "Potential                   18207 non-null int64\n",
      "Club                        17966 non-null object\n",
      "Club Logo                   18207 non-null object\n",
      "Value                       18207 non-null object\n",
      "Wage                        18207 non-null object\n",
      "Special                     18207 non-null int64\n",
      "Preferred Foot              18159 non-null object\n",
      "International Reputation    18159 non-null float64\n",
      "Weak Foot                   18159 non-null float64\n",
      "Skill Moves                 18159 non-null float64\n",
      "Work Rate                   18159 non-null object\n",
      "Body Type                   18159 non-null object\n",
      "Real Face                   18159 non-null object\n",
      "Position                    18147 non-null object\n",
      "Jersey Number               18147 non-null float64\n",
      "Joined                      16654 non-null object\n",
      "Loaned From                 1264 non-null object\n",
      "Contract Valid Until        17918 non-null object\n",
      "Height                      18159 non-null object\n",
      "Weight                      18159 non-null object\n",
      "LS                          16122 non-null object\n",
      "ST                          16122 non-null object\n",
      "RS                          16122 non-null object\n",
      "LW                          16122 non-null object\n",
      "LF                          16122 non-null object\n",
      "CF                          16122 non-null object\n",
      "RF                          16122 non-null object\n",
      "RW                          16122 non-null object\n",
      "LAM                         16122 non-null object\n",
      "CAM                         16122 non-null object\n",
      "RAM                         16122 non-null object\n",
      "LM                          16122 non-null object\n",
      "LCM                         16122 non-null object\n",
      "CM                          16122 non-null object\n",
      "RCM                         16122 non-null object\n",
      "RM                          16122 non-null object\n",
      "LWB                         16122 non-null object\n",
      "LDM                         16122 non-null object\n",
      "CDM                         16122 non-null object\n",
      "RDM                         16122 non-null object\n",
      "RWB                         16122 non-null object\n",
      "LB                          16122 non-null object\n",
      "LCB                         16122 non-null object\n",
      "CB                          16122 non-null object\n",
      "RCB                         16122 non-null object\n",
      "RB                          16122 non-null object\n",
      "Crossing                    18159 non-null float64\n",
      "Finishing                   18159 non-null float64\n",
      "HeadingAccuracy             18159 non-null float64\n",
      "ShortPassing                18159 non-null float64\n",
      "Volleys                     18159 non-null float64\n",
      "Dribbling                   18159 non-null float64\n",
      "Curve                       18159 non-null float64\n",
      "FKAccuracy                  18159 non-null float64\n",
      "LongPassing                 18159 non-null float64\n",
      "BallControl                 18159 non-null float64\n",
      "Acceleration                18159 non-null float64\n",
      "SprintSpeed                 18159 non-null float64\n",
      "Agility                     18159 non-null float64\n",
      "Reactions                   18159 non-null float64\n",
      "Balance                     18159 non-null float64\n",
      "ShotPower                   18159 non-null float64\n",
      "Jumping                     18159 non-null float64\n",
      "Stamina                     18159 non-null float64\n",
      "Strength                    18159 non-null float64\n",
      "LongShots                   18159 non-null float64\n",
      "Aggression                  18159 non-null float64\n",
      "Interceptions               18159 non-null float64\n",
      "Positioning                 18159 non-null float64\n",
      "Vision                      18159 non-null float64\n",
      "Penalties                   18159 non-null float64\n",
      "Composure                   18159 non-null float64\n",
      "Marking                     18159 non-null float64\n",
      "StandingTackle              18159 non-null float64\n",
      "SlidingTackle               18159 non-null float64\n",
      "GKDiving                    18159 non-null float64\n",
      "GKHandling                  18159 non-null float64\n",
      "GKKicking                   18159 non-null float64\n",
      "GKPositioning               18159 non-null float64\n",
      "GKReflexes                  18159 non-null float64\n",
      "Release Clause              16643 non-null object\n",
      "dtypes: float64(38), int64(6), object(45)\n",
      "memory usage: 12.4+ MB\n"
     ]
    }
   ],
   "source": [
    "fifa.info()"
   ]
  },
  {
   "cell_type": "code",
   "execution_count": 5,
   "metadata": {},
   "outputs": [
    {
     "data": {
      "text/html": [
       "<div>\n",
       "<style scoped>\n",
       "    .dataframe tbody tr th:only-of-type {\n",
       "        vertical-align: middle;\n",
       "    }\n",
       "\n",
       "    .dataframe tbody tr th {\n",
       "        vertical-align: top;\n",
       "    }\n",
       "\n",
       "    .dataframe thead th {\n",
       "        text-align: right;\n",
       "    }\n",
       "</style>\n",
       "<table border=\"1\" class=\"dataframe\">\n",
       "  <thead>\n",
       "    <tr style=\"text-align: right;\">\n",
       "      <th></th>\n",
       "      <th>Unnamed: 0</th>\n",
       "      <th>ID</th>\n",
       "      <th>Name</th>\n",
       "      <th>Age</th>\n",
       "      <th>Photo</th>\n",
       "      <th>Nationality</th>\n",
       "      <th>Flag</th>\n",
       "      <th>Overall</th>\n",
       "      <th>Potential</th>\n",
       "      <th>Club</th>\n",
       "      <th>...</th>\n",
       "      <th>Composure</th>\n",
       "      <th>Marking</th>\n",
       "      <th>StandingTackle</th>\n",
       "      <th>SlidingTackle</th>\n",
       "      <th>GKDiving</th>\n",
       "      <th>GKHandling</th>\n",
       "      <th>GKKicking</th>\n",
       "      <th>GKPositioning</th>\n",
       "      <th>GKReflexes</th>\n",
       "      <th>Release Clause</th>\n",
       "    </tr>\n",
       "  </thead>\n",
       "  <tbody>\n",
       "    <tr>\n",
       "      <th>0</th>\n",
       "      <td>0</td>\n",
       "      <td>158023</td>\n",
       "      <td>L. Messi</td>\n",
       "      <td>31</td>\n",
       "      <td>https://cdn.sofifa.org/players/4/19/158023.png</td>\n",
       "      <td>Argentina</td>\n",
       "      <td>https://cdn.sofifa.org/flags/52.png</td>\n",
       "      <td>94</td>\n",
       "      <td>94</td>\n",
       "      <td>FC Barcelona</td>\n",
       "      <td>...</td>\n",
       "      <td>96.0</td>\n",
       "      <td>33.0</td>\n",
       "      <td>28.0</td>\n",
       "      <td>26.0</td>\n",
       "      <td>6.0</td>\n",
       "      <td>11.0</td>\n",
       "      <td>15.0</td>\n",
       "      <td>14.0</td>\n",
       "      <td>8.0</td>\n",
       "      <td>€226.5M</td>\n",
       "    </tr>\n",
       "    <tr>\n",
       "      <th>1</th>\n",
       "      <td>1</td>\n",
       "      <td>20801</td>\n",
       "      <td>Cristiano Ronaldo</td>\n",
       "      <td>33</td>\n",
       "      <td>https://cdn.sofifa.org/players/4/19/20801.png</td>\n",
       "      <td>Portugal</td>\n",
       "      <td>https://cdn.sofifa.org/flags/38.png</td>\n",
       "      <td>94</td>\n",
       "      <td>94</td>\n",
       "      <td>Juventus</td>\n",
       "      <td>...</td>\n",
       "      <td>95.0</td>\n",
       "      <td>28.0</td>\n",
       "      <td>31.0</td>\n",
       "      <td>23.0</td>\n",
       "      <td>7.0</td>\n",
       "      <td>11.0</td>\n",
       "      <td>15.0</td>\n",
       "      <td>14.0</td>\n",
       "      <td>11.0</td>\n",
       "      <td>€127.1M</td>\n",
       "    </tr>\n",
       "    <tr>\n",
       "      <th>2</th>\n",
       "      <td>2</td>\n",
       "      <td>190871</td>\n",
       "      <td>Neymar Jr</td>\n",
       "      <td>26</td>\n",
       "      <td>https://cdn.sofifa.org/players/4/19/190871.png</td>\n",
       "      <td>Brazil</td>\n",
       "      <td>https://cdn.sofifa.org/flags/54.png</td>\n",
       "      <td>92</td>\n",
       "      <td>93</td>\n",
       "      <td>Paris Saint-Germain</td>\n",
       "      <td>...</td>\n",
       "      <td>94.0</td>\n",
       "      <td>27.0</td>\n",
       "      <td>24.0</td>\n",
       "      <td>33.0</td>\n",
       "      <td>9.0</td>\n",
       "      <td>9.0</td>\n",
       "      <td>15.0</td>\n",
       "      <td>15.0</td>\n",
       "      <td>11.0</td>\n",
       "      <td>€228.1M</td>\n",
       "    </tr>\n",
       "    <tr>\n",
       "      <th>3</th>\n",
       "      <td>3</td>\n",
       "      <td>193080</td>\n",
       "      <td>De Gea</td>\n",
       "      <td>27</td>\n",
       "      <td>https://cdn.sofifa.org/players/4/19/193080.png</td>\n",
       "      <td>Spain</td>\n",
       "      <td>https://cdn.sofifa.org/flags/45.png</td>\n",
       "      <td>91</td>\n",
       "      <td>93</td>\n",
       "      <td>Manchester United</td>\n",
       "      <td>...</td>\n",
       "      <td>68.0</td>\n",
       "      <td>15.0</td>\n",
       "      <td>21.0</td>\n",
       "      <td>13.0</td>\n",
       "      <td>90.0</td>\n",
       "      <td>85.0</td>\n",
       "      <td>87.0</td>\n",
       "      <td>88.0</td>\n",
       "      <td>94.0</td>\n",
       "      <td>€138.6M</td>\n",
       "    </tr>\n",
       "    <tr>\n",
       "      <th>4</th>\n",
       "      <td>4</td>\n",
       "      <td>192985</td>\n",
       "      <td>K. De Bruyne</td>\n",
       "      <td>27</td>\n",
       "      <td>https://cdn.sofifa.org/players/4/19/192985.png</td>\n",
       "      <td>Belgium</td>\n",
       "      <td>https://cdn.sofifa.org/flags/7.png</td>\n",
       "      <td>91</td>\n",
       "      <td>92</td>\n",
       "      <td>Manchester City</td>\n",
       "      <td>...</td>\n",
       "      <td>88.0</td>\n",
       "      <td>68.0</td>\n",
       "      <td>58.0</td>\n",
       "      <td>51.0</td>\n",
       "      <td>15.0</td>\n",
       "      <td>13.0</td>\n",
       "      <td>5.0</td>\n",
       "      <td>10.0</td>\n",
       "      <td>13.0</td>\n",
       "      <td>€196.4M</td>\n",
       "    </tr>\n",
       "  </tbody>\n",
       "</table>\n",
       "<p>5 rows × 89 columns</p>\n",
       "</div>"
      ],
      "text/plain": [
       "   Unnamed: 0      ID               Name  Age  \\\n",
       "0           0  158023           L. Messi   31   \n",
       "1           1   20801  Cristiano Ronaldo   33   \n",
       "2           2  190871          Neymar Jr   26   \n",
       "3           3  193080             De Gea   27   \n",
       "4           4  192985       K. De Bruyne   27   \n",
       "\n",
       "                                            Photo Nationality  \\\n",
       "0  https://cdn.sofifa.org/players/4/19/158023.png   Argentina   \n",
       "1   https://cdn.sofifa.org/players/4/19/20801.png    Portugal   \n",
       "2  https://cdn.sofifa.org/players/4/19/190871.png      Brazil   \n",
       "3  https://cdn.sofifa.org/players/4/19/193080.png       Spain   \n",
       "4  https://cdn.sofifa.org/players/4/19/192985.png     Belgium   \n",
       "\n",
       "                                  Flag  Overall  Potential  \\\n",
       "0  https://cdn.sofifa.org/flags/52.png       94         94   \n",
       "1  https://cdn.sofifa.org/flags/38.png       94         94   \n",
       "2  https://cdn.sofifa.org/flags/54.png       92         93   \n",
       "3  https://cdn.sofifa.org/flags/45.png       91         93   \n",
       "4   https://cdn.sofifa.org/flags/7.png       91         92   \n",
       "\n",
       "                  Club  ... Composure Marking StandingTackle  SlidingTackle  \\\n",
       "0         FC Barcelona  ...      96.0    33.0           28.0           26.0   \n",
       "1             Juventus  ...      95.0    28.0           31.0           23.0   \n",
       "2  Paris Saint-Germain  ...      94.0    27.0           24.0           33.0   \n",
       "3    Manchester United  ...      68.0    15.0           21.0           13.0   \n",
       "4      Manchester City  ...      88.0    68.0           58.0           51.0   \n",
       "\n",
       "  GKDiving  GKHandling  GKKicking  GKPositioning GKReflexes Release Clause  \n",
       "0      6.0        11.0       15.0           14.0        8.0        €226.5M  \n",
       "1      7.0        11.0       15.0           14.0       11.0        €127.1M  \n",
       "2      9.0         9.0       15.0           15.0       11.0        €228.1M  \n",
       "3     90.0        85.0       87.0           88.0       94.0        €138.6M  \n",
       "4     15.0        13.0        5.0           10.0       13.0        €196.4M  \n",
       "\n",
       "[5 rows x 89 columns]"
      ]
     },
     "execution_count": 5,
     "metadata": {},
     "output_type": "execute_result"
    }
   ],
   "source": [
    "fifa.head()"
   ]
  },
  {
   "cell_type": "code",
   "execution_count": 6,
   "metadata": {},
   "outputs": [
    {
     "data": {
      "text/html": [
       "<div>\n",
       "<style scoped>\n",
       "    .dataframe tbody tr th:only-of-type {\n",
       "        vertical-align: middle;\n",
       "    }\n",
       "\n",
       "    .dataframe tbody tr th {\n",
       "        vertical-align: top;\n",
       "    }\n",
       "\n",
       "    .dataframe thead th {\n",
       "        text-align: right;\n",
       "    }\n",
       "</style>\n",
       "<table border=\"1\" class=\"dataframe\">\n",
       "  <thead>\n",
       "    <tr style=\"text-align: right;\">\n",
       "      <th></th>\n",
       "      <th>Unnamed: 0</th>\n",
       "      <th>ID</th>\n",
       "      <th>Name</th>\n",
       "      <th>Age</th>\n",
       "      <th>Photo</th>\n",
       "      <th>Nationality</th>\n",
       "      <th>Flag</th>\n",
       "      <th>Overall</th>\n",
       "      <th>Potential</th>\n",
       "      <th>Club</th>\n",
       "      <th>...</th>\n",
       "      <th>Composure</th>\n",
       "      <th>Marking</th>\n",
       "      <th>StandingTackle</th>\n",
       "      <th>SlidingTackle</th>\n",
       "      <th>GKDiving</th>\n",
       "      <th>GKHandling</th>\n",
       "      <th>GKKicking</th>\n",
       "      <th>GKPositioning</th>\n",
       "      <th>GKReflexes</th>\n",
       "      <th>Release Clause</th>\n",
       "    </tr>\n",
       "  </thead>\n",
       "  <tbody>\n",
       "    <tr>\n",
       "      <th>18202</th>\n",
       "      <td>18202</td>\n",
       "      <td>238813</td>\n",
       "      <td>J. Lundstram</td>\n",
       "      <td>19</td>\n",
       "      <td>https://cdn.sofifa.org/players/4/19/238813.png</td>\n",
       "      <td>England</td>\n",
       "      <td>https://cdn.sofifa.org/flags/14.png</td>\n",
       "      <td>47</td>\n",
       "      <td>65</td>\n",
       "      <td>Crewe Alexandra</td>\n",
       "      <td>...</td>\n",
       "      <td>45.0</td>\n",
       "      <td>40.0</td>\n",
       "      <td>48.0</td>\n",
       "      <td>47.0</td>\n",
       "      <td>10.0</td>\n",
       "      <td>13.0</td>\n",
       "      <td>7.0</td>\n",
       "      <td>8.0</td>\n",
       "      <td>9.0</td>\n",
       "      <td>€143K</td>\n",
       "    </tr>\n",
       "    <tr>\n",
       "      <th>18203</th>\n",
       "      <td>18203</td>\n",
       "      <td>243165</td>\n",
       "      <td>N. Christoffersson</td>\n",
       "      <td>19</td>\n",
       "      <td>https://cdn.sofifa.org/players/4/19/243165.png</td>\n",
       "      <td>Sweden</td>\n",
       "      <td>https://cdn.sofifa.org/flags/46.png</td>\n",
       "      <td>47</td>\n",
       "      <td>63</td>\n",
       "      <td>Trelleborgs FF</td>\n",
       "      <td>...</td>\n",
       "      <td>42.0</td>\n",
       "      <td>22.0</td>\n",
       "      <td>15.0</td>\n",
       "      <td>19.0</td>\n",
       "      <td>10.0</td>\n",
       "      <td>9.0</td>\n",
       "      <td>9.0</td>\n",
       "      <td>5.0</td>\n",
       "      <td>12.0</td>\n",
       "      <td>€113K</td>\n",
       "    </tr>\n",
       "    <tr>\n",
       "      <th>18204</th>\n",
       "      <td>18204</td>\n",
       "      <td>241638</td>\n",
       "      <td>B. Worman</td>\n",
       "      <td>16</td>\n",
       "      <td>https://cdn.sofifa.org/players/4/19/241638.png</td>\n",
       "      <td>England</td>\n",
       "      <td>https://cdn.sofifa.org/flags/14.png</td>\n",
       "      <td>47</td>\n",
       "      <td>67</td>\n",
       "      <td>Cambridge United</td>\n",
       "      <td>...</td>\n",
       "      <td>41.0</td>\n",
       "      <td>32.0</td>\n",
       "      <td>13.0</td>\n",
       "      <td>11.0</td>\n",
       "      <td>6.0</td>\n",
       "      <td>5.0</td>\n",
       "      <td>10.0</td>\n",
       "      <td>6.0</td>\n",
       "      <td>13.0</td>\n",
       "      <td>€165K</td>\n",
       "    </tr>\n",
       "    <tr>\n",
       "      <th>18205</th>\n",
       "      <td>18205</td>\n",
       "      <td>246268</td>\n",
       "      <td>D. Walker-Rice</td>\n",
       "      <td>17</td>\n",
       "      <td>https://cdn.sofifa.org/players/4/19/246268.png</td>\n",
       "      <td>England</td>\n",
       "      <td>https://cdn.sofifa.org/flags/14.png</td>\n",
       "      <td>47</td>\n",
       "      <td>66</td>\n",
       "      <td>Tranmere Rovers</td>\n",
       "      <td>...</td>\n",
       "      <td>46.0</td>\n",
       "      <td>20.0</td>\n",
       "      <td>25.0</td>\n",
       "      <td>27.0</td>\n",
       "      <td>14.0</td>\n",
       "      <td>6.0</td>\n",
       "      <td>14.0</td>\n",
       "      <td>8.0</td>\n",
       "      <td>9.0</td>\n",
       "      <td>€143K</td>\n",
       "    </tr>\n",
       "    <tr>\n",
       "      <th>18206</th>\n",
       "      <td>18206</td>\n",
       "      <td>246269</td>\n",
       "      <td>G. Nugent</td>\n",
       "      <td>16</td>\n",
       "      <td>https://cdn.sofifa.org/players/4/19/246269.png</td>\n",
       "      <td>England</td>\n",
       "      <td>https://cdn.sofifa.org/flags/14.png</td>\n",
       "      <td>46</td>\n",
       "      <td>66</td>\n",
       "      <td>Tranmere Rovers</td>\n",
       "      <td>...</td>\n",
       "      <td>43.0</td>\n",
       "      <td>40.0</td>\n",
       "      <td>43.0</td>\n",
       "      <td>50.0</td>\n",
       "      <td>10.0</td>\n",
       "      <td>15.0</td>\n",
       "      <td>9.0</td>\n",
       "      <td>12.0</td>\n",
       "      <td>9.0</td>\n",
       "      <td>€165K</td>\n",
       "    </tr>\n",
       "  </tbody>\n",
       "</table>\n",
       "<p>5 rows × 89 columns</p>\n",
       "</div>"
      ],
      "text/plain": [
       "       Unnamed: 0      ID                Name  Age  \\\n",
       "18202       18202  238813        J. Lundstram   19   \n",
       "18203       18203  243165  N. Christoffersson   19   \n",
       "18204       18204  241638           B. Worman   16   \n",
       "18205       18205  246268      D. Walker-Rice   17   \n",
       "18206       18206  246269           G. Nugent   16   \n",
       "\n",
       "                                                Photo Nationality  \\\n",
       "18202  https://cdn.sofifa.org/players/4/19/238813.png     England   \n",
       "18203  https://cdn.sofifa.org/players/4/19/243165.png      Sweden   \n",
       "18204  https://cdn.sofifa.org/players/4/19/241638.png     England   \n",
       "18205  https://cdn.sofifa.org/players/4/19/246268.png     England   \n",
       "18206  https://cdn.sofifa.org/players/4/19/246269.png     England   \n",
       "\n",
       "                                      Flag  Overall  Potential  \\\n",
       "18202  https://cdn.sofifa.org/flags/14.png       47         65   \n",
       "18203  https://cdn.sofifa.org/flags/46.png       47         63   \n",
       "18204  https://cdn.sofifa.org/flags/14.png       47         67   \n",
       "18205  https://cdn.sofifa.org/flags/14.png       47         66   \n",
       "18206  https://cdn.sofifa.org/flags/14.png       46         66   \n",
       "\n",
       "                   Club  ... Composure Marking StandingTackle  SlidingTackle  \\\n",
       "18202   Crewe Alexandra  ...      45.0    40.0           48.0           47.0   \n",
       "18203    Trelleborgs FF  ...      42.0    22.0           15.0           19.0   \n",
       "18204  Cambridge United  ...      41.0    32.0           13.0           11.0   \n",
       "18205   Tranmere Rovers  ...      46.0    20.0           25.0           27.0   \n",
       "18206   Tranmere Rovers  ...      43.0    40.0           43.0           50.0   \n",
       "\n",
       "      GKDiving  GKHandling  GKKicking  GKPositioning GKReflexes Release Clause  \n",
       "18202     10.0        13.0        7.0            8.0        9.0          €143K  \n",
       "18203     10.0         9.0        9.0            5.0       12.0          €113K  \n",
       "18204      6.0         5.0       10.0            6.0       13.0          €165K  \n",
       "18205     14.0         6.0       14.0            8.0        9.0          €143K  \n",
       "18206     10.0        15.0        9.0           12.0        9.0          €165K  \n",
       "\n",
       "[5 rows x 89 columns]"
      ]
     },
     "execution_count": 6,
     "metadata": {},
     "output_type": "execute_result"
    }
   ],
   "source": [
    "fifa.tail()"
   ]
  },
  {
   "cell_type": "code",
   "execution_count": 7,
   "metadata": {},
   "outputs": [
    {
     "data": {
      "text/html": [
       "<div>\n",
       "<style scoped>\n",
       "    .dataframe tbody tr th:only-of-type {\n",
       "        vertical-align: middle;\n",
       "    }\n",
       "\n",
       "    .dataframe tbody tr th {\n",
       "        vertical-align: top;\n",
       "    }\n",
       "\n",
       "    .dataframe thead th {\n",
       "        text-align: right;\n",
       "    }\n",
       "</style>\n",
       "<table border=\"1\" class=\"dataframe\">\n",
       "  <thead>\n",
       "    <tr style=\"text-align: right;\">\n",
       "      <th></th>\n",
       "      <th>count</th>\n",
       "      <th>mean</th>\n",
       "      <th>std</th>\n",
       "      <th>min</th>\n",
       "      <th>25%</th>\n",
       "      <th>50%</th>\n",
       "      <th>75%</th>\n",
       "      <th>max</th>\n",
       "    </tr>\n",
       "  </thead>\n",
       "  <tbody>\n",
       "    <tr>\n",
       "      <th>Unnamed: 0</th>\n",
       "      <td>18207.0</td>\n",
       "      <td>9103.000000</td>\n",
       "      <td>5256.052511</td>\n",
       "      <td>0.0</td>\n",
       "      <td>4551.5</td>\n",
       "      <td>9103.0</td>\n",
       "      <td>13654.5</td>\n",
       "      <td>18206.0</td>\n",
       "    </tr>\n",
       "    <tr>\n",
       "      <th>ID</th>\n",
       "      <td>18207.0</td>\n",
       "      <td>214298.338606</td>\n",
       "      <td>29965.244204</td>\n",
       "      <td>16.0</td>\n",
       "      <td>200315.5</td>\n",
       "      <td>221759.0</td>\n",
       "      <td>236529.5</td>\n",
       "      <td>246620.0</td>\n",
       "    </tr>\n",
       "    <tr>\n",
       "      <th>Age</th>\n",
       "      <td>18207.0</td>\n",
       "      <td>25.122206</td>\n",
       "      <td>4.669943</td>\n",
       "      <td>16.0</td>\n",
       "      <td>21.0</td>\n",
       "      <td>25.0</td>\n",
       "      <td>28.0</td>\n",
       "      <td>45.0</td>\n",
       "    </tr>\n",
       "    <tr>\n",
       "      <th>Overall</th>\n",
       "      <td>18207.0</td>\n",
       "      <td>66.238699</td>\n",
       "      <td>6.908930</td>\n",
       "      <td>46.0</td>\n",
       "      <td>62.0</td>\n",
       "      <td>66.0</td>\n",
       "      <td>71.0</td>\n",
       "      <td>94.0</td>\n",
       "    </tr>\n",
       "    <tr>\n",
       "      <th>Potential</th>\n",
       "      <td>18207.0</td>\n",
       "      <td>71.307299</td>\n",
       "      <td>6.136496</td>\n",
       "      <td>48.0</td>\n",
       "      <td>67.0</td>\n",
       "      <td>71.0</td>\n",
       "      <td>75.0</td>\n",
       "      <td>95.0</td>\n",
       "    </tr>\n",
       "    <tr>\n",
       "      <th>Special</th>\n",
       "      <td>18207.0</td>\n",
       "      <td>1597.809908</td>\n",
       "      <td>272.586016</td>\n",
       "      <td>731.0</td>\n",
       "      <td>1457.0</td>\n",
       "      <td>1635.0</td>\n",
       "      <td>1787.0</td>\n",
       "      <td>2346.0</td>\n",
       "    </tr>\n",
       "    <tr>\n",
       "      <th>International Reputation</th>\n",
       "      <td>18159.0</td>\n",
       "      <td>1.113222</td>\n",
       "      <td>0.394031</td>\n",
       "      <td>1.0</td>\n",
       "      <td>1.0</td>\n",
       "      <td>1.0</td>\n",
       "      <td>1.0</td>\n",
       "      <td>5.0</td>\n",
       "    </tr>\n",
       "    <tr>\n",
       "      <th>Weak Foot</th>\n",
       "      <td>18159.0</td>\n",
       "      <td>2.947299</td>\n",
       "      <td>0.660456</td>\n",
       "      <td>1.0</td>\n",
       "      <td>3.0</td>\n",
       "      <td>3.0</td>\n",
       "      <td>3.0</td>\n",
       "      <td>5.0</td>\n",
       "    </tr>\n",
       "    <tr>\n",
       "      <th>Skill Moves</th>\n",
       "      <td>18159.0</td>\n",
       "      <td>2.361308</td>\n",
       "      <td>0.756164</td>\n",
       "      <td>1.0</td>\n",
       "      <td>2.0</td>\n",
       "      <td>2.0</td>\n",
       "      <td>3.0</td>\n",
       "      <td>5.0</td>\n",
       "    </tr>\n",
       "    <tr>\n",
       "      <th>Jersey Number</th>\n",
       "      <td>18147.0</td>\n",
       "      <td>19.546096</td>\n",
       "      <td>15.947765</td>\n",
       "      <td>1.0</td>\n",
       "      <td>8.0</td>\n",
       "      <td>17.0</td>\n",
       "      <td>26.0</td>\n",
       "      <td>99.0</td>\n",
       "    </tr>\n",
       "    <tr>\n",
       "      <th>Crossing</th>\n",
       "      <td>18159.0</td>\n",
       "      <td>49.734181</td>\n",
       "      <td>18.364524</td>\n",
       "      <td>5.0</td>\n",
       "      <td>38.0</td>\n",
       "      <td>54.0</td>\n",
       "      <td>64.0</td>\n",
       "      <td>93.0</td>\n",
       "    </tr>\n",
       "    <tr>\n",
       "      <th>Finishing</th>\n",
       "      <td>18159.0</td>\n",
       "      <td>45.550911</td>\n",
       "      <td>19.525820</td>\n",
       "      <td>2.0</td>\n",
       "      <td>30.0</td>\n",
       "      <td>49.0</td>\n",
       "      <td>62.0</td>\n",
       "      <td>95.0</td>\n",
       "    </tr>\n",
       "    <tr>\n",
       "      <th>HeadingAccuracy</th>\n",
       "      <td>18159.0</td>\n",
       "      <td>52.298144</td>\n",
       "      <td>17.379909</td>\n",
       "      <td>4.0</td>\n",
       "      <td>44.0</td>\n",
       "      <td>56.0</td>\n",
       "      <td>64.0</td>\n",
       "      <td>94.0</td>\n",
       "    </tr>\n",
       "    <tr>\n",
       "      <th>ShortPassing</th>\n",
       "      <td>18159.0</td>\n",
       "      <td>58.686712</td>\n",
       "      <td>14.699495</td>\n",
       "      <td>7.0</td>\n",
       "      <td>54.0</td>\n",
       "      <td>62.0</td>\n",
       "      <td>68.0</td>\n",
       "      <td>93.0</td>\n",
       "    </tr>\n",
       "    <tr>\n",
       "      <th>Volleys</th>\n",
       "      <td>18159.0</td>\n",
       "      <td>42.909026</td>\n",
       "      <td>17.694408</td>\n",
       "      <td>4.0</td>\n",
       "      <td>30.0</td>\n",
       "      <td>44.0</td>\n",
       "      <td>57.0</td>\n",
       "      <td>90.0</td>\n",
       "    </tr>\n",
       "    <tr>\n",
       "      <th>Dribbling</th>\n",
       "      <td>18159.0</td>\n",
       "      <td>55.371001</td>\n",
       "      <td>18.910371</td>\n",
       "      <td>4.0</td>\n",
       "      <td>49.0</td>\n",
       "      <td>61.0</td>\n",
       "      <td>68.0</td>\n",
       "      <td>97.0</td>\n",
       "    </tr>\n",
       "    <tr>\n",
       "      <th>Curve</th>\n",
       "      <td>18159.0</td>\n",
       "      <td>47.170824</td>\n",
       "      <td>18.395264</td>\n",
       "      <td>6.0</td>\n",
       "      <td>34.0</td>\n",
       "      <td>48.0</td>\n",
       "      <td>62.0</td>\n",
       "      <td>94.0</td>\n",
       "    </tr>\n",
       "    <tr>\n",
       "      <th>FKAccuracy</th>\n",
       "      <td>18159.0</td>\n",
       "      <td>42.863153</td>\n",
       "      <td>17.478763</td>\n",
       "      <td>3.0</td>\n",
       "      <td>31.0</td>\n",
       "      <td>41.0</td>\n",
       "      <td>57.0</td>\n",
       "      <td>94.0</td>\n",
       "    </tr>\n",
       "    <tr>\n",
       "      <th>LongPassing</th>\n",
       "      <td>18159.0</td>\n",
       "      <td>52.711933</td>\n",
       "      <td>15.327870</td>\n",
       "      <td>9.0</td>\n",
       "      <td>43.0</td>\n",
       "      <td>56.0</td>\n",
       "      <td>64.0</td>\n",
       "      <td>93.0</td>\n",
       "    </tr>\n",
       "    <tr>\n",
       "      <th>BallControl</th>\n",
       "      <td>18159.0</td>\n",
       "      <td>58.369459</td>\n",
       "      <td>16.686595</td>\n",
       "      <td>5.0</td>\n",
       "      <td>54.0</td>\n",
       "      <td>63.0</td>\n",
       "      <td>69.0</td>\n",
       "      <td>96.0</td>\n",
       "    </tr>\n",
       "    <tr>\n",
       "      <th>Acceleration</th>\n",
       "      <td>18159.0</td>\n",
       "      <td>64.614076</td>\n",
       "      <td>14.927780</td>\n",
       "      <td>12.0</td>\n",
       "      <td>57.0</td>\n",
       "      <td>67.0</td>\n",
       "      <td>75.0</td>\n",
       "      <td>97.0</td>\n",
       "    </tr>\n",
       "    <tr>\n",
       "      <th>SprintSpeed</th>\n",
       "      <td>18159.0</td>\n",
       "      <td>64.726967</td>\n",
       "      <td>14.649953</td>\n",
       "      <td>12.0</td>\n",
       "      <td>57.0</td>\n",
       "      <td>67.0</td>\n",
       "      <td>75.0</td>\n",
       "      <td>96.0</td>\n",
       "    </tr>\n",
       "    <tr>\n",
       "      <th>Agility</th>\n",
       "      <td>18159.0</td>\n",
       "      <td>63.503607</td>\n",
       "      <td>14.766049</td>\n",
       "      <td>14.0</td>\n",
       "      <td>55.0</td>\n",
       "      <td>66.0</td>\n",
       "      <td>74.0</td>\n",
       "      <td>96.0</td>\n",
       "    </tr>\n",
       "    <tr>\n",
       "      <th>Reactions</th>\n",
       "      <td>18159.0</td>\n",
       "      <td>61.836610</td>\n",
       "      <td>9.010464</td>\n",
       "      <td>21.0</td>\n",
       "      <td>56.0</td>\n",
       "      <td>62.0</td>\n",
       "      <td>68.0</td>\n",
       "      <td>96.0</td>\n",
       "    </tr>\n",
       "    <tr>\n",
       "      <th>Balance</th>\n",
       "      <td>18159.0</td>\n",
       "      <td>63.966573</td>\n",
       "      <td>14.136166</td>\n",
       "      <td>16.0</td>\n",
       "      <td>56.0</td>\n",
       "      <td>66.0</td>\n",
       "      <td>74.0</td>\n",
       "      <td>96.0</td>\n",
       "    </tr>\n",
       "    <tr>\n",
       "      <th>ShotPower</th>\n",
       "      <td>18159.0</td>\n",
       "      <td>55.460047</td>\n",
       "      <td>17.237958</td>\n",
       "      <td>2.0</td>\n",
       "      <td>45.0</td>\n",
       "      <td>59.0</td>\n",
       "      <td>68.0</td>\n",
       "      <td>95.0</td>\n",
       "    </tr>\n",
       "    <tr>\n",
       "      <th>Jumping</th>\n",
       "      <td>18159.0</td>\n",
       "      <td>65.089432</td>\n",
       "      <td>11.820044</td>\n",
       "      <td>15.0</td>\n",
       "      <td>58.0</td>\n",
       "      <td>66.0</td>\n",
       "      <td>73.0</td>\n",
       "      <td>95.0</td>\n",
       "    </tr>\n",
       "    <tr>\n",
       "      <th>Stamina</th>\n",
       "      <td>18159.0</td>\n",
       "      <td>63.219946</td>\n",
       "      <td>15.894741</td>\n",
       "      <td>12.0</td>\n",
       "      <td>56.0</td>\n",
       "      <td>66.0</td>\n",
       "      <td>74.0</td>\n",
       "      <td>96.0</td>\n",
       "    </tr>\n",
       "    <tr>\n",
       "      <th>Strength</th>\n",
       "      <td>18159.0</td>\n",
       "      <td>65.311967</td>\n",
       "      <td>12.557000</td>\n",
       "      <td>17.0</td>\n",
       "      <td>58.0</td>\n",
       "      <td>67.0</td>\n",
       "      <td>74.0</td>\n",
       "      <td>97.0</td>\n",
       "    </tr>\n",
       "    <tr>\n",
       "      <th>LongShots</th>\n",
       "      <td>18159.0</td>\n",
       "      <td>47.109973</td>\n",
       "      <td>19.260524</td>\n",
       "      <td>3.0</td>\n",
       "      <td>33.0</td>\n",
       "      <td>51.0</td>\n",
       "      <td>62.0</td>\n",
       "      <td>94.0</td>\n",
       "    </tr>\n",
       "    <tr>\n",
       "      <th>Aggression</th>\n",
       "      <td>18159.0</td>\n",
       "      <td>55.868991</td>\n",
       "      <td>17.367967</td>\n",
       "      <td>11.0</td>\n",
       "      <td>44.0</td>\n",
       "      <td>59.0</td>\n",
       "      <td>69.0</td>\n",
       "      <td>95.0</td>\n",
       "    </tr>\n",
       "    <tr>\n",
       "      <th>Interceptions</th>\n",
       "      <td>18159.0</td>\n",
       "      <td>46.698276</td>\n",
       "      <td>20.696909</td>\n",
       "      <td>3.0</td>\n",
       "      <td>26.0</td>\n",
       "      <td>52.0</td>\n",
       "      <td>64.0</td>\n",
       "      <td>92.0</td>\n",
       "    </tr>\n",
       "    <tr>\n",
       "      <th>Positioning</th>\n",
       "      <td>18159.0</td>\n",
       "      <td>49.958478</td>\n",
       "      <td>19.529036</td>\n",
       "      <td>2.0</td>\n",
       "      <td>38.0</td>\n",
       "      <td>55.0</td>\n",
       "      <td>64.0</td>\n",
       "      <td>95.0</td>\n",
       "    </tr>\n",
       "    <tr>\n",
       "      <th>Vision</th>\n",
       "      <td>18159.0</td>\n",
       "      <td>53.400903</td>\n",
       "      <td>14.146881</td>\n",
       "      <td>10.0</td>\n",
       "      <td>44.0</td>\n",
       "      <td>55.0</td>\n",
       "      <td>64.0</td>\n",
       "      <td>94.0</td>\n",
       "    </tr>\n",
       "    <tr>\n",
       "      <th>Penalties</th>\n",
       "      <td>18159.0</td>\n",
       "      <td>48.548598</td>\n",
       "      <td>15.704053</td>\n",
       "      <td>5.0</td>\n",
       "      <td>39.0</td>\n",
       "      <td>49.0</td>\n",
       "      <td>60.0</td>\n",
       "      <td>92.0</td>\n",
       "    </tr>\n",
       "    <tr>\n",
       "      <th>Composure</th>\n",
       "      <td>18159.0</td>\n",
       "      <td>58.648274</td>\n",
       "      <td>11.436133</td>\n",
       "      <td>3.0</td>\n",
       "      <td>51.0</td>\n",
       "      <td>60.0</td>\n",
       "      <td>67.0</td>\n",
       "      <td>96.0</td>\n",
       "    </tr>\n",
       "    <tr>\n",
       "      <th>Marking</th>\n",
       "      <td>18159.0</td>\n",
       "      <td>47.281623</td>\n",
       "      <td>19.904397</td>\n",
       "      <td>3.0</td>\n",
       "      <td>30.0</td>\n",
       "      <td>53.0</td>\n",
       "      <td>64.0</td>\n",
       "      <td>94.0</td>\n",
       "    </tr>\n",
       "    <tr>\n",
       "      <th>StandingTackle</th>\n",
       "      <td>18159.0</td>\n",
       "      <td>47.697836</td>\n",
       "      <td>21.664004</td>\n",
       "      <td>2.0</td>\n",
       "      <td>27.0</td>\n",
       "      <td>55.0</td>\n",
       "      <td>66.0</td>\n",
       "      <td>93.0</td>\n",
       "    </tr>\n",
       "    <tr>\n",
       "      <th>SlidingTackle</th>\n",
       "      <td>18159.0</td>\n",
       "      <td>45.661435</td>\n",
       "      <td>21.289135</td>\n",
       "      <td>3.0</td>\n",
       "      <td>24.0</td>\n",
       "      <td>52.0</td>\n",
       "      <td>64.0</td>\n",
       "      <td>91.0</td>\n",
       "    </tr>\n",
       "    <tr>\n",
       "      <th>GKDiving</th>\n",
       "      <td>18159.0</td>\n",
       "      <td>16.616223</td>\n",
       "      <td>17.695349</td>\n",
       "      <td>1.0</td>\n",
       "      <td>8.0</td>\n",
       "      <td>11.0</td>\n",
       "      <td>14.0</td>\n",
       "      <td>90.0</td>\n",
       "    </tr>\n",
       "    <tr>\n",
       "      <th>GKHandling</th>\n",
       "      <td>18159.0</td>\n",
       "      <td>16.391596</td>\n",
       "      <td>16.906900</td>\n",
       "      <td>1.0</td>\n",
       "      <td>8.0</td>\n",
       "      <td>11.0</td>\n",
       "      <td>14.0</td>\n",
       "      <td>92.0</td>\n",
       "    </tr>\n",
       "    <tr>\n",
       "      <th>GKKicking</th>\n",
       "      <td>18159.0</td>\n",
       "      <td>16.232061</td>\n",
       "      <td>16.502864</td>\n",
       "      <td>1.0</td>\n",
       "      <td>8.0</td>\n",
       "      <td>11.0</td>\n",
       "      <td>14.0</td>\n",
       "      <td>91.0</td>\n",
       "    </tr>\n",
       "    <tr>\n",
       "      <th>GKPositioning</th>\n",
       "      <td>18159.0</td>\n",
       "      <td>16.388898</td>\n",
       "      <td>17.034669</td>\n",
       "      <td>1.0</td>\n",
       "      <td>8.0</td>\n",
       "      <td>11.0</td>\n",
       "      <td>14.0</td>\n",
       "      <td>90.0</td>\n",
       "    </tr>\n",
       "    <tr>\n",
       "      <th>GKReflexes</th>\n",
       "      <td>18159.0</td>\n",
       "      <td>16.710887</td>\n",
       "      <td>17.955119</td>\n",
       "      <td>1.0</td>\n",
       "      <td>8.0</td>\n",
       "      <td>11.0</td>\n",
       "      <td>14.0</td>\n",
       "      <td>94.0</td>\n",
       "    </tr>\n",
       "  </tbody>\n",
       "</table>\n",
       "</div>"
      ],
      "text/plain": [
       "                            count           mean           std    min  \\\n",
       "Unnamed: 0                18207.0    9103.000000   5256.052511    0.0   \n",
       "ID                        18207.0  214298.338606  29965.244204   16.0   \n",
       "Age                       18207.0      25.122206      4.669943   16.0   \n",
       "Overall                   18207.0      66.238699      6.908930   46.0   \n",
       "Potential                 18207.0      71.307299      6.136496   48.0   \n",
       "Special                   18207.0    1597.809908    272.586016  731.0   \n",
       "International Reputation  18159.0       1.113222      0.394031    1.0   \n",
       "Weak Foot                 18159.0       2.947299      0.660456    1.0   \n",
       "Skill Moves               18159.0       2.361308      0.756164    1.0   \n",
       "Jersey Number             18147.0      19.546096     15.947765    1.0   \n",
       "Crossing                  18159.0      49.734181     18.364524    5.0   \n",
       "Finishing                 18159.0      45.550911     19.525820    2.0   \n",
       "HeadingAccuracy           18159.0      52.298144     17.379909    4.0   \n",
       "ShortPassing              18159.0      58.686712     14.699495    7.0   \n",
       "Volleys                   18159.0      42.909026     17.694408    4.0   \n",
       "Dribbling                 18159.0      55.371001     18.910371    4.0   \n",
       "Curve                     18159.0      47.170824     18.395264    6.0   \n",
       "FKAccuracy                18159.0      42.863153     17.478763    3.0   \n",
       "LongPassing               18159.0      52.711933     15.327870    9.0   \n",
       "BallControl               18159.0      58.369459     16.686595    5.0   \n",
       "Acceleration              18159.0      64.614076     14.927780   12.0   \n",
       "SprintSpeed               18159.0      64.726967     14.649953   12.0   \n",
       "Agility                   18159.0      63.503607     14.766049   14.0   \n",
       "Reactions                 18159.0      61.836610      9.010464   21.0   \n",
       "Balance                   18159.0      63.966573     14.136166   16.0   \n",
       "ShotPower                 18159.0      55.460047     17.237958    2.0   \n",
       "Jumping                   18159.0      65.089432     11.820044   15.0   \n",
       "Stamina                   18159.0      63.219946     15.894741   12.0   \n",
       "Strength                  18159.0      65.311967     12.557000   17.0   \n",
       "LongShots                 18159.0      47.109973     19.260524    3.0   \n",
       "Aggression                18159.0      55.868991     17.367967   11.0   \n",
       "Interceptions             18159.0      46.698276     20.696909    3.0   \n",
       "Positioning               18159.0      49.958478     19.529036    2.0   \n",
       "Vision                    18159.0      53.400903     14.146881   10.0   \n",
       "Penalties                 18159.0      48.548598     15.704053    5.0   \n",
       "Composure                 18159.0      58.648274     11.436133    3.0   \n",
       "Marking                   18159.0      47.281623     19.904397    3.0   \n",
       "StandingTackle            18159.0      47.697836     21.664004    2.0   \n",
       "SlidingTackle             18159.0      45.661435     21.289135    3.0   \n",
       "GKDiving                  18159.0      16.616223     17.695349    1.0   \n",
       "GKHandling                18159.0      16.391596     16.906900    1.0   \n",
       "GKKicking                 18159.0      16.232061     16.502864    1.0   \n",
       "GKPositioning             18159.0      16.388898     17.034669    1.0   \n",
       "GKReflexes                18159.0      16.710887     17.955119    1.0   \n",
       "\n",
       "                               25%       50%       75%       max  \n",
       "Unnamed: 0                  4551.5    9103.0   13654.5   18206.0  \n",
       "ID                        200315.5  221759.0  236529.5  246620.0  \n",
       "Age                           21.0      25.0      28.0      45.0  \n",
       "Overall                       62.0      66.0      71.0      94.0  \n",
       "Potential                     67.0      71.0      75.0      95.0  \n",
       "Special                     1457.0    1635.0    1787.0    2346.0  \n",
       "International Reputation       1.0       1.0       1.0       5.0  \n",
       "Weak Foot                      3.0       3.0       3.0       5.0  \n",
       "Skill Moves                    2.0       2.0       3.0       5.0  \n",
       "Jersey Number                  8.0      17.0      26.0      99.0  \n",
       "Crossing                      38.0      54.0      64.0      93.0  \n",
       "Finishing                     30.0      49.0      62.0      95.0  \n",
       "HeadingAccuracy               44.0      56.0      64.0      94.0  \n",
       "ShortPassing                  54.0      62.0      68.0      93.0  \n",
       "Volleys                       30.0      44.0      57.0      90.0  \n",
       "Dribbling                     49.0      61.0      68.0      97.0  \n",
       "Curve                         34.0      48.0      62.0      94.0  \n",
       "FKAccuracy                    31.0      41.0      57.0      94.0  \n",
       "LongPassing                   43.0      56.0      64.0      93.0  \n",
       "BallControl                   54.0      63.0      69.0      96.0  \n",
       "Acceleration                  57.0      67.0      75.0      97.0  \n",
       "SprintSpeed                   57.0      67.0      75.0      96.0  \n",
       "Agility                       55.0      66.0      74.0      96.0  \n",
       "Reactions                     56.0      62.0      68.0      96.0  \n",
       "Balance                       56.0      66.0      74.0      96.0  \n",
       "ShotPower                     45.0      59.0      68.0      95.0  \n",
       "Jumping                       58.0      66.0      73.0      95.0  \n",
       "Stamina                       56.0      66.0      74.0      96.0  \n",
       "Strength                      58.0      67.0      74.0      97.0  \n",
       "LongShots                     33.0      51.0      62.0      94.0  \n",
       "Aggression                    44.0      59.0      69.0      95.0  \n",
       "Interceptions                 26.0      52.0      64.0      92.0  \n",
       "Positioning                   38.0      55.0      64.0      95.0  \n",
       "Vision                        44.0      55.0      64.0      94.0  \n",
       "Penalties                     39.0      49.0      60.0      92.0  \n",
       "Composure                     51.0      60.0      67.0      96.0  \n",
       "Marking                       30.0      53.0      64.0      94.0  \n",
       "StandingTackle                27.0      55.0      66.0      93.0  \n",
       "SlidingTackle                 24.0      52.0      64.0      91.0  \n",
       "GKDiving                       8.0      11.0      14.0      90.0  \n",
       "GKHandling                     8.0      11.0      14.0      92.0  \n",
       "GKKicking                      8.0      11.0      14.0      91.0  \n",
       "GKPositioning                  8.0      11.0      14.0      90.0  \n",
       "GKReflexes                     8.0      11.0      14.0      94.0  "
      ]
     },
     "execution_count": 7,
     "metadata": {},
     "output_type": "execute_result"
    }
   ],
   "source": [
    "fifa.describe().T"
   ]
  },
  {
   "cell_type": "markdown",
   "metadata": {},
   "source": [
    "#### 1.4. Data cleaning"
   ]
  },
  {
   "cell_type": "markdown",
   "metadata": {},
   "source": [
    "I create a copy of the dataframe for cleaning purposes"
   ]
  },
  {
   "cell_type": "code",
   "execution_count": 8,
   "metadata": {},
   "outputs": [],
   "source": [
    "data = fifa"
   ]
  },
  {
   "cell_type": "markdown",
   "metadata": {},
   "source": [
    "##### 1.4.1 Columns"
   ]
  },
  {
   "cell_type": "markdown",
   "metadata": {},
   "source": [
    "Delete the columns of the index duplicate and the columns I'm not going to use"
   ]
  },
  {
   "cell_type": "code",
   "execution_count": 9,
   "metadata": {},
   "outputs": [],
   "source": [
    "data = data.drop('Unnamed: 0', axis=1)"
   ]
  },
  {
   "cell_type": "code",
   "execution_count": 10,
   "metadata": {},
   "outputs": [],
   "source": [
    "data = data.drop('Release Clause', axis=1)"
   ]
  },
  {
   "cell_type": "code",
   "execution_count": 11,
   "metadata": {},
   "outputs": [],
   "source": [
    "data = data.drop('Joined', axis=1)"
   ]
  },
  {
   "cell_type": "code",
   "execution_count": 12,
   "metadata": {},
   "outputs": [],
   "source": [
    "data = data.drop('Loaned From', axis=1)"
   ]
  },
  {
   "cell_type": "code",
   "execution_count": 13,
   "metadata": {},
   "outputs": [],
   "source": [
    "data = data.drop('Contract Valid Until', axis=1)"
   ]
  },
  {
   "cell_type": "code",
   "execution_count": 14,
   "metadata": {},
   "outputs": [],
   "source": [
    "data = data.drop(['LS', 'ST', 'RS', 'LW', 'LF', 'CF', 'RF', 'RW','LAM', 'CAM', 'RAM', 'LM', 'LCM', 'CM', 'RCM', 'RM', 'LWB', 'LDM','CDM', 'RDM', 'RWB', 'LB', 'LCB', 'CB', 'RCB', 'RB'], axis=1)\n"
   ]
  },
  {
   "cell_type": "code",
   "execution_count": 44,
   "metadata": {},
   "outputs": [],
   "source": [
    "data = data.drop('Special', axis=1)"
   ]
  },
  {
   "cell_type": "code",
   "execution_count": 43,
   "metadata": {},
   "outputs": [],
   "source": [
    "data = data.drop('Club Logo', axis=1)"
   ]
  },
  {
   "cell_type": "code",
   "execution_count": 45,
   "metadata": {},
   "outputs": [],
   "source": [
    "data = data.drop('Body Type', axis=1)"
   ]
  },
  {
   "cell_type": "code",
   "execution_count": 15,
   "metadata": {},
   "outputs": [
    {
     "data": {
      "text/html": [
       "<div>\n",
       "<style scoped>\n",
       "    .dataframe tbody tr th:only-of-type {\n",
       "        vertical-align: middle;\n",
       "    }\n",
       "\n",
       "    .dataframe tbody tr th {\n",
       "        vertical-align: top;\n",
       "    }\n",
       "\n",
       "    .dataframe thead th {\n",
       "        text-align: right;\n",
       "    }\n",
       "</style>\n",
       "<table border=\"1\" class=\"dataframe\">\n",
       "  <thead>\n",
       "    <tr style=\"text-align: right;\">\n",
       "      <th></th>\n",
       "      <th>ID</th>\n",
       "      <th>Name</th>\n",
       "      <th>Age</th>\n",
       "      <th>Photo</th>\n",
       "      <th>Nationality</th>\n",
       "      <th>Flag</th>\n",
       "      <th>Overall</th>\n",
       "      <th>Potential</th>\n",
       "      <th>Club</th>\n",
       "      <th>Club Logo</th>\n",
       "      <th>...</th>\n",
       "      <th>Penalties</th>\n",
       "      <th>Composure</th>\n",
       "      <th>Marking</th>\n",
       "      <th>StandingTackle</th>\n",
       "      <th>SlidingTackle</th>\n",
       "      <th>GKDiving</th>\n",
       "      <th>GKHandling</th>\n",
       "      <th>GKKicking</th>\n",
       "      <th>GKPositioning</th>\n",
       "      <th>GKReflexes</th>\n",
       "    </tr>\n",
       "  </thead>\n",
       "  <tbody>\n",
       "    <tr>\n",
       "      <th>0</th>\n",
       "      <td>158023</td>\n",
       "      <td>L. Messi</td>\n",
       "      <td>31</td>\n",
       "      <td>https://cdn.sofifa.org/players/4/19/158023.png</td>\n",
       "      <td>Argentina</td>\n",
       "      <td>https://cdn.sofifa.org/flags/52.png</td>\n",
       "      <td>94</td>\n",
       "      <td>94</td>\n",
       "      <td>FC Barcelona</td>\n",
       "      <td>https://cdn.sofifa.org/teams/2/light/241.png</td>\n",
       "      <td>...</td>\n",
       "      <td>75.0</td>\n",
       "      <td>96.0</td>\n",
       "      <td>33.0</td>\n",
       "      <td>28.0</td>\n",
       "      <td>26.0</td>\n",
       "      <td>6.0</td>\n",
       "      <td>11.0</td>\n",
       "      <td>15.0</td>\n",
       "      <td>14.0</td>\n",
       "      <td>8.0</td>\n",
       "    </tr>\n",
       "    <tr>\n",
       "      <th>1</th>\n",
       "      <td>20801</td>\n",
       "      <td>Cristiano Ronaldo</td>\n",
       "      <td>33</td>\n",
       "      <td>https://cdn.sofifa.org/players/4/19/20801.png</td>\n",
       "      <td>Portugal</td>\n",
       "      <td>https://cdn.sofifa.org/flags/38.png</td>\n",
       "      <td>94</td>\n",
       "      <td>94</td>\n",
       "      <td>Juventus</td>\n",
       "      <td>https://cdn.sofifa.org/teams/2/light/45.png</td>\n",
       "      <td>...</td>\n",
       "      <td>85.0</td>\n",
       "      <td>95.0</td>\n",
       "      <td>28.0</td>\n",
       "      <td>31.0</td>\n",
       "      <td>23.0</td>\n",
       "      <td>7.0</td>\n",
       "      <td>11.0</td>\n",
       "      <td>15.0</td>\n",
       "      <td>14.0</td>\n",
       "      <td>11.0</td>\n",
       "    </tr>\n",
       "    <tr>\n",
       "      <th>2</th>\n",
       "      <td>190871</td>\n",
       "      <td>Neymar Jr</td>\n",
       "      <td>26</td>\n",
       "      <td>https://cdn.sofifa.org/players/4/19/190871.png</td>\n",
       "      <td>Brazil</td>\n",
       "      <td>https://cdn.sofifa.org/flags/54.png</td>\n",
       "      <td>92</td>\n",
       "      <td>93</td>\n",
       "      <td>Paris Saint-Germain</td>\n",
       "      <td>https://cdn.sofifa.org/teams/2/light/73.png</td>\n",
       "      <td>...</td>\n",
       "      <td>81.0</td>\n",
       "      <td>94.0</td>\n",
       "      <td>27.0</td>\n",
       "      <td>24.0</td>\n",
       "      <td>33.0</td>\n",
       "      <td>9.0</td>\n",
       "      <td>9.0</td>\n",
       "      <td>15.0</td>\n",
       "      <td>15.0</td>\n",
       "      <td>11.0</td>\n",
       "    </tr>\n",
       "    <tr>\n",
       "      <th>3</th>\n",
       "      <td>193080</td>\n",
       "      <td>De Gea</td>\n",
       "      <td>27</td>\n",
       "      <td>https://cdn.sofifa.org/players/4/19/193080.png</td>\n",
       "      <td>Spain</td>\n",
       "      <td>https://cdn.sofifa.org/flags/45.png</td>\n",
       "      <td>91</td>\n",
       "      <td>93</td>\n",
       "      <td>Manchester United</td>\n",
       "      <td>https://cdn.sofifa.org/teams/2/light/11.png</td>\n",
       "      <td>...</td>\n",
       "      <td>40.0</td>\n",
       "      <td>68.0</td>\n",
       "      <td>15.0</td>\n",
       "      <td>21.0</td>\n",
       "      <td>13.0</td>\n",
       "      <td>90.0</td>\n",
       "      <td>85.0</td>\n",
       "      <td>87.0</td>\n",
       "      <td>88.0</td>\n",
       "      <td>94.0</td>\n",
       "    </tr>\n",
       "    <tr>\n",
       "      <th>4</th>\n",
       "      <td>192985</td>\n",
       "      <td>K. De Bruyne</td>\n",
       "      <td>27</td>\n",
       "      <td>https://cdn.sofifa.org/players/4/19/192985.png</td>\n",
       "      <td>Belgium</td>\n",
       "      <td>https://cdn.sofifa.org/flags/7.png</td>\n",
       "      <td>91</td>\n",
       "      <td>92</td>\n",
       "      <td>Manchester City</td>\n",
       "      <td>https://cdn.sofifa.org/teams/2/light/10.png</td>\n",
       "      <td>...</td>\n",
       "      <td>79.0</td>\n",
       "      <td>88.0</td>\n",
       "      <td>68.0</td>\n",
       "      <td>58.0</td>\n",
       "      <td>51.0</td>\n",
       "      <td>15.0</td>\n",
       "      <td>13.0</td>\n",
       "      <td>5.0</td>\n",
       "      <td>10.0</td>\n",
       "      <td>13.0</td>\n",
       "    </tr>\n",
       "  </tbody>\n",
       "</table>\n",
       "<p>5 rows × 58 columns</p>\n",
       "</div>"
      ],
      "text/plain": [
       "       ID               Name  Age  \\\n",
       "0  158023           L. Messi   31   \n",
       "1   20801  Cristiano Ronaldo   33   \n",
       "2  190871          Neymar Jr   26   \n",
       "3  193080             De Gea   27   \n",
       "4  192985       K. De Bruyne   27   \n",
       "\n",
       "                                            Photo Nationality  \\\n",
       "0  https://cdn.sofifa.org/players/4/19/158023.png   Argentina   \n",
       "1   https://cdn.sofifa.org/players/4/19/20801.png    Portugal   \n",
       "2  https://cdn.sofifa.org/players/4/19/190871.png      Brazil   \n",
       "3  https://cdn.sofifa.org/players/4/19/193080.png       Spain   \n",
       "4  https://cdn.sofifa.org/players/4/19/192985.png     Belgium   \n",
       "\n",
       "                                  Flag  Overall  Potential  \\\n",
       "0  https://cdn.sofifa.org/flags/52.png       94         94   \n",
       "1  https://cdn.sofifa.org/flags/38.png       94         94   \n",
       "2  https://cdn.sofifa.org/flags/54.png       92         93   \n",
       "3  https://cdn.sofifa.org/flags/45.png       91         93   \n",
       "4   https://cdn.sofifa.org/flags/7.png       91         92   \n",
       "\n",
       "                  Club                                     Club Logo  ...  \\\n",
       "0         FC Barcelona  https://cdn.sofifa.org/teams/2/light/241.png  ...   \n",
       "1             Juventus   https://cdn.sofifa.org/teams/2/light/45.png  ...   \n",
       "2  Paris Saint-Germain   https://cdn.sofifa.org/teams/2/light/73.png  ...   \n",
       "3    Manchester United   https://cdn.sofifa.org/teams/2/light/11.png  ...   \n",
       "4      Manchester City   https://cdn.sofifa.org/teams/2/light/10.png  ...   \n",
       "\n",
       "  Penalties Composure  Marking StandingTackle  SlidingTackle  GKDiving  \\\n",
       "0      75.0      96.0     33.0           28.0           26.0       6.0   \n",
       "1      85.0      95.0     28.0           31.0           23.0       7.0   \n",
       "2      81.0      94.0     27.0           24.0           33.0       9.0   \n",
       "3      40.0      68.0     15.0           21.0           13.0      90.0   \n",
       "4      79.0      88.0     68.0           58.0           51.0      15.0   \n",
       "\n",
       "   GKHandling GKKicking GKPositioning GKReflexes  \n",
       "0        11.0      15.0          14.0        8.0  \n",
       "1        11.0      15.0          14.0       11.0  \n",
       "2         9.0      15.0          15.0       11.0  \n",
       "3        85.0      87.0          88.0       94.0  \n",
       "4        13.0       5.0          10.0       13.0  \n",
       "\n",
       "[5 rows x 58 columns]"
      ]
     },
     "execution_count": 15,
     "metadata": {},
     "output_type": "execute_result"
    }
   ],
   "source": [
    "data.head()"
   ]
  },
  {
   "cell_type": "code",
   "execution_count": 16,
   "metadata": {},
   "outputs": [
    {
     "data": {
      "text/plain": [
       "Index(['ID', 'Name', 'Age', 'Photo', 'Nationality', 'Flag', 'Overall',\n",
       "       'Potential', 'Club', 'Club Logo', 'Value', 'Wage', 'Special',\n",
       "       'Preferred Foot', 'International Reputation', 'Weak Foot',\n",
       "       'Skill Moves', 'Work Rate', 'Body Type', 'Real Face', 'Position',\n",
       "       'Jersey Number', 'Height', 'Weight', 'Crossing', 'Finishing',\n",
       "       'HeadingAccuracy', 'ShortPassing', 'Volleys', 'Dribbling', 'Curve',\n",
       "       'FKAccuracy', 'LongPassing', 'BallControl', 'Acceleration',\n",
       "       'SprintSpeed', 'Agility', 'Reactions', 'Balance', 'ShotPower',\n",
       "       'Jumping', 'Stamina', 'Strength', 'LongShots', 'Aggression',\n",
       "       'Interceptions', 'Positioning', 'Vision', 'Penalties', 'Composure',\n",
       "       'Marking', 'StandingTackle', 'SlidingTackle', 'GKDiving', 'GKHandling',\n",
       "       'GKKicking', 'GKPositioning', 'GKReflexes'],\n",
       "      dtype='object')"
      ]
     },
     "execution_count": 16,
     "metadata": {},
     "output_type": "execute_result"
    }
   ],
   "source": [
    "data.columns"
   ]
  },
  {
   "cell_type": "markdown",
   "metadata": {},
   "source": [
    "##### 1.4.1.2 Fill the non available data of the columns"
   ]
  },
  {
   "cell_type": "code",
   "execution_count": 17,
   "metadata": {},
   "outputs": [
    {
     "data": {
      "text/html": [
       "<div>\n",
       "<style scoped>\n",
       "    .dataframe tbody tr th:only-of-type {\n",
       "        vertical-align: middle;\n",
       "    }\n",
       "\n",
       "    .dataframe tbody tr th {\n",
       "        vertical-align: top;\n",
       "    }\n",
       "\n",
       "    .dataframe thead th {\n",
       "        text-align: right;\n",
       "    }\n",
       "</style>\n",
       "<table border=\"1\" class=\"dataframe\">\n",
       "  <thead>\n",
       "    <tr style=\"text-align: right;\">\n",
       "      <th></th>\n",
       "      <th>ID</th>\n",
       "      <th>Name</th>\n",
       "      <th>Age</th>\n",
       "      <th>Photo</th>\n",
       "      <th>Nationality</th>\n",
       "      <th>Flag</th>\n",
       "      <th>Overall</th>\n",
       "      <th>Potential</th>\n",
       "      <th>Club</th>\n",
       "      <th>Club Logo</th>\n",
       "      <th>...</th>\n",
       "      <th>Penalties</th>\n",
       "      <th>Composure</th>\n",
       "      <th>Marking</th>\n",
       "      <th>StandingTackle</th>\n",
       "      <th>SlidingTackle</th>\n",
       "      <th>GKDiving</th>\n",
       "      <th>GKHandling</th>\n",
       "      <th>GKKicking</th>\n",
       "      <th>GKPositioning</th>\n",
       "      <th>GKReflexes</th>\n",
       "    </tr>\n",
       "  </thead>\n",
       "  <tbody>\n",
       "    <tr>\n",
       "      <th>452</th>\n",
       "      <td>207439</td>\n",
       "      <td>L. Paredes</td>\n",
       "      <td>24</td>\n",
       "      <td>https://cdn.sofifa.org/players/4/19/207439.png</td>\n",
       "      <td>Argentina</td>\n",
       "      <td>https://cdn.sofifa.org/flags/52.png</td>\n",
       "      <td>80</td>\n",
       "      <td>85</td>\n",
       "      <td>NaN</td>\n",
       "      <td>https://cdn.sofifa.org/flags/52.png</td>\n",
       "      <td>...</td>\n",
       "      <td>57.0</td>\n",
       "      <td>74.0</td>\n",
       "      <td>73.0</td>\n",
       "      <td>75.0</td>\n",
       "      <td>72.0</td>\n",
       "      <td>9.0</td>\n",
       "      <td>14.0</td>\n",
       "      <td>6.0</td>\n",
       "      <td>9.0</td>\n",
       "      <td>10.0</td>\n",
       "    </tr>\n",
       "    <tr>\n",
       "      <th>538</th>\n",
       "      <td>156713</td>\n",
       "      <td>A. Granqvist</td>\n",
       "      <td>33</td>\n",
       "      <td>https://cdn.sofifa.org/players/4/19/156713.png</td>\n",
       "      <td>Sweden</td>\n",
       "      <td>https://cdn.sofifa.org/flags/46.png</td>\n",
       "      <td>80</td>\n",
       "      <td>80</td>\n",
       "      <td>NaN</td>\n",
       "      <td>https://cdn.sofifa.org/flags/46.png</td>\n",
       "      <td>...</td>\n",
       "      <td>79.0</td>\n",
       "      <td>78.0</td>\n",
       "      <td>82.0</td>\n",
       "      <td>83.0</td>\n",
       "      <td>79.0</td>\n",
       "      <td>7.0</td>\n",
       "      <td>9.0</td>\n",
       "      <td>12.0</td>\n",
       "      <td>10.0</td>\n",
       "      <td>15.0</td>\n",
       "    </tr>\n",
       "    <tr>\n",
       "      <th>568</th>\n",
       "      <td>229909</td>\n",
       "      <td>A. Lunev</td>\n",
       "      <td>26</td>\n",
       "      <td>https://cdn.sofifa.org/players/4/19/229909.png</td>\n",
       "      <td>Russia</td>\n",
       "      <td>https://cdn.sofifa.org/flags/40.png</td>\n",
       "      <td>79</td>\n",
       "      <td>81</td>\n",
       "      <td>NaN</td>\n",
       "      <td>https://cdn.sofifa.org/flags/40.png</td>\n",
       "      <td>...</td>\n",
       "      <td>15.0</td>\n",
       "      <td>69.0</td>\n",
       "      <td>18.0</td>\n",
       "      <td>20.0</td>\n",
       "      <td>12.0</td>\n",
       "      <td>80.0</td>\n",
       "      <td>73.0</td>\n",
       "      <td>65.0</td>\n",
       "      <td>77.0</td>\n",
       "      <td>85.0</td>\n",
       "    </tr>\n",
       "    <tr>\n",
       "      <th>677</th>\n",
       "      <td>187347</td>\n",
       "      <td>I. Smolnikov</td>\n",
       "      <td>29</td>\n",
       "      <td>https://cdn.sofifa.org/players/4/19/187347.png</td>\n",
       "      <td>Russia</td>\n",
       "      <td>https://cdn.sofifa.org/flags/40.png</td>\n",
       "      <td>79</td>\n",
       "      <td>79</td>\n",
       "      <td>NaN</td>\n",
       "      <td>https://cdn.sofifa.org/flags/40.png</td>\n",
       "      <td>...</td>\n",
       "      <td>41.0</td>\n",
       "      <td>73.0</td>\n",
       "      <td>76.0</td>\n",
       "      <td>76.0</td>\n",
       "      <td>80.0</td>\n",
       "      <td>7.0</td>\n",
       "      <td>12.0</td>\n",
       "      <td>10.0</td>\n",
       "      <td>8.0</td>\n",
       "      <td>15.0</td>\n",
       "    </tr>\n",
       "    <tr>\n",
       "      <th>874</th>\n",
       "      <td>187607</td>\n",
       "      <td>A. Dzyuba</td>\n",
       "      <td>29</td>\n",
       "      <td>https://cdn.sofifa.org/players/4/19/187607.png</td>\n",
       "      <td>Russia</td>\n",
       "      <td>https://cdn.sofifa.org/flags/40.png</td>\n",
       "      <td>78</td>\n",
       "      <td>78</td>\n",
       "      <td>NaN</td>\n",
       "      <td>https://cdn.sofifa.org/flags/40.png</td>\n",
       "      <td>...</td>\n",
       "      <td>77.0</td>\n",
       "      <td>70.0</td>\n",
       "      <td>21.0</td>\n",
       "      <td>15.0</td>\n",
       "      <td>19.0</td>\n",
       "      <td>15.0</td>\n",
       "      <td>12.0</td>\n",
       "      <td>11.0</td>\n",
       "      <td>11.0</td>\n",
       "      <td>8.0</td>\n",
       "    </tr>\n",
       "  </tbody>\n",
       "</table>\n",
       "<p>5 rows × 58 columns</p>\n",
       "</div>"
      ],
      "text/plain": [
       "         ID          Name  Age  \\\n",
       "452  207439    L. Paredes   24   \n",
       "538  156713  A. Granqvist   33   \n",
       "568  229909      A. Lunev   26   \n",
       "677  187347  I. Smolnikov   29   \n",
       "874  187607     A. Dzyuba   29   \n",
       "\n",
       "                                              Photo Nationality  \\\n",
       "452  https://cdn.sofifa.org/players/4/19/207439.png   Argentina   \n",
       "538  https://cdn.sofifa.org/players/4/19/156713.png      Sweden   \n",
       "568  https://cdn.sofifa.org/players/4/19/229909.png      Russia   \n",
       "677  https://cdn.sofifa.org/players/4/19/187347.png      Russia   \n",
       "874  https://cdn.sofifa.org/players/4/19/187607.png      Russia   \n",
       "\n",
       "                                    Flag  Overall  Potential Club  \\\n",
       "452  https://cdn.sofifa.org/flags/52.png       80         85  NaN   \n",
       "538  https://cdn.sofifa.org/flags/46.png       80         80  NaN   \n",
       "568  https://cdn.sofifa.org/flags/40.png       79         81  NaN   \n",
       "677  https://cdn.sofifa.org/flags/40.png       79         79  NaN   \n",
       "874  https://cdn.sofifa.org/flags/40.png       78         78  NaN   \n",
       "\n",
       "                               Club Logo  ... Penalties Composure  Marking  \\\n",
       "452  https://cdn.sofifa.org/flags/52.png  ...      57.0      74.0     73.0   \n",
       "538  https://cdn.sofifa.org/flags/46.png  ...      79.0      78.0     82.0   \n",
       "568  https://cdn.sofifa.org/flags/40.png  ...      15.0      69.0     18.0   \n",
       "677  https://cdn.sofifa.org/flags/40.png  ...      41.0      73.0     76.0   \n",
       "874  https://cdn.sofifa.org/flags/40.png  ...      77.0      70.0     21.0   \n",
       "\n",
       "    StandingTackle  SlidingTackle  GKDiving  GKHandling GKKicking  \\\n",
       "452           75.0           72.0       9.0        14.0       6.0   \n",
       "538           83.0           79.0       7.0         9.0      12.0   \n",
       "568           20.0           12.0      80.0        73.0      65.0   \n",
       "677           76.0           80.0       7.0        12.0      10.0   \n",
       "874           15.0           19.0      15.0        12.0      11.0   \n",
       "\n",
       "    GKPositioning GKReflexes  \n",
       "452           9.0       10.0  \n",
       "538          10.0       15.0  \n",
       "568          77.0       85.0  \n",
       "677           8.0       15.0  \n",
       "874          11.0        8.0  \n",
       "\n",
       "[5 rows x 58 columns]"
      ]
     },
     "execution_count": 17,
     "metadata": {},
     "output_type": "execute_result"
    }
   ],
   "source": [
    "data.loc[data['Club'].isna()].head()"
   ]
  },
  {
   "cell_type": "code",
   "execution_count": 18,
   "metadata": {},
   "outputs": [],
   "source": [
    "data['Club'].loc[data['Club'].isna()] = 'NoClub'"
   ]
  },
  {
   "cell_type": "code",
   "execution_count": 19,
   "metadata": {},
   "outputs": [
    {
     "data": {
      "text/html": [
       "<div>\n",
       "<style scoped>\n",
       "    .dataframe tbody tr th:only-of-type {\n",
       "        vertical-align: middle;\n",
       "    }\n",
       "\n",
       "    .dataframe tbody tr th {\n",
       "        vertical-align: top;\n",
       "    }\n",
       "\n",
       "    .dataframe thead th {\n",
       "        text-align: right;\n",
       "    }\n",
       "</style>\n",
       "<table border=\"1\" class=\"dataframe\">\n",
       "  <thead>\n",
       "    <tr style=\"text-align: right;\">\n",
       "      <th></th>\n",
       "      <th>ID</th>\n",
       "      <th>Name</th>\n",
       "      <th>Age</th>\n",
       "      <th>Photo</th>\n",
       "      <th>Nationality</th>\n",
       "      <th>Flag</th>\n",
       "      <th>Overall</th>\n",
       "      <th>Potential</th>\n",
       "      <th>Club</th>\n",
       "      <th>Club Logo</th>\n",
       "      <th>...</th>\n",
       "      <th>Penalties</th>\n",
       "      <th>Composure</th>\n",
       "      <th>Marking</th>\n",
       "      <th>StandingTackle</th>\n",
       "      <th>SlidingTackle</th>\n",
       "      <th>GKDiving</th>\n",
       "      <th>GKHandling</th>\n",
       "      <th>GKKicking</th>\n",
       "      <th>GKPositioning</th>\n",
       "      <th>GKReflexes</th>\n",
       "    </tr>\n",
       "  </thead>\n",
       "  <tbody>\n",
       "    <tr>\n",
       "      <th>452</th>\n",
       "      <td>207439</td>\n",
       "      <td>L. Paredes</td>\n",
       "      <td>24</td>\n",
       "      <td>https://cdn.sofifa.org/players/4/19/207439.png</td>\n",
       "      <td>Argentina</td>\n",
       "      <td>https://cdn.sofifa.org/flags/52.png</td>\n",
       "      <td>80</td>\n",
       "      <td>85</td>\n",
       "      <td>NoClub</td>\n",
       "      <td>https://cdn.sofifa.org/flags/52.png</td>\n",
       "      <td>...</td>\n",
       "      <td>57.0</td>\n",
       "      <td>74.0</td>\n",
       "      <td>73.0</td>\n",
       "      <td>75.0</td>\n",
       "      <td>72.0</td>\n",
       "      <td>9.0</td>\n",
       "      <td>14.0</td>\n",
       "      <td>6.0</td>\n",
       "      <td>9.0</td>\n",
       "      <td>10.0</td>\n",
       "    </tr>\n",
       "    <tr>\n",
       "      <th>538</th>\n",
       "      <td>156713</td>\n",
       "      <td>A. Granqvist</td>\n",
       "      <td>33</td>\n",
       "      <td>https://cdn.sofifa.org/players/4/19/156713.png</td>\n",
       "      <td>Sweden</td>\n",
       "      <td>https://cdn.sofifa.org/flags/46.png</td>\n",
       "      <td>80</td>\n",
       "      <td>80</td>\n",
       "      <td>NoClub</td>\n",
       "      <td>https://cdn.sofifa.org/flags/46.png</td>\n",
       "      <td>...</td>\n",
       "      <td>79.0</td>\n",
       "      <td>78.0</td>\n",
       "      <td>82.0</td>\n",
       "      <td>83.0</td>\n",
       "      <td>79.0</td>\n",
       "      <td>7.0</td>\n",
       "      <td>9.0</td>\n",
       "      <td>12.0</td>\n",
       "      <td>10.0</td>\n",
       "      <td>15.0</td>\n",
       "    </tr>\n",
       "    <tr>\n",
       "      <th>568</th>\n",
       "      <td>229909</td>\n",
       "      <td>A. Lunev</td>\n",
       "      <td>26</td>\n",
       "      <td>https://cdn.sofifa.org/players/4/19/229909.png</td>\n",
       "      <td>Russia</td>\n",
       "      <td>https://cdn.sofifa.org/flags/40.png</td>\n",
       "      <td>79</td>\n",
       "      <td>81</td>\n",
       "      <td>NoClub</td>\n",
       "      <td>https://cdn.sofifa.org/flags/40.png</td>\n",
       "      <td>...</td>\n",
       "      <td>15.0</td>\n",
       "      <td>69.0</td>\n",
       "      <td>18.0</td>\n",
       "      <td>20.0</td>\n",
       "      <td>12.0</td>\n",
       "      <td>80.0</td>\n",
       "      <td>73.0</td>\n",
       "      <td>65.0</td>\n",
       "      <td>77.0</td>\n",
       "      <td>85.0</td>\n",
       "    </tr>\n",
       "    <tr>\n",
       "      <th>677</th>\n",
       "      <td>187347</td>\n",
       "      <td>I. Smolnikov</td>\n",
       "      <td>29</td>\n",
       "      <td>https://cdn.sofifa.org/players/4/19/187347.png</td>\n",
       "      <td>Russia</td>\n",
       "      <td>https://cdn.sofifa.org/flags/40.png</td>\n",
       "      <td>79</td>\n",
       "      <td>79</td>\n",
       "      <td>NoClub</td>\n",
       "      <td>https://cdn.sofifa.org/flags/40.png</td>\n",
       "      <td>...</td>\n",
       "      <td>41.0</td>\n",
       "      <td>73.0</td>\n",
       "      <td>76.0</td>\n",
       "      <td>76.0</td>\n",
       "      <td>80.0</td>\n",
       "      <td>7.0</td>\n",
       "      <td>12.0</td>\n",
       "      <td>10.0</td>\n",
       "      <td>8.0</td>\n",
       "      <td>15.0</td>\n",
       "    </tr>\n",
       "    <tr>\n",
       "      <th>874</th>\n",
       "      <td>187607</td>\n",
       "      <td>A. Dzyuba</td>\n",
       "      <td>29</td>\n",
       "      <td>https://cdn.sofifa.org/players/4/19/187607.png</td>\n",
       "      <td>Russia</td>\n",
       "      <td>https://cdn.sofifa.org/flags/40.png</td>\n",
       "      <td>78</td>\n",
       "      <td>78</td>\n",
       "      <td>NoClub</td>\n",
       "      <td>https://cdn.sofifa.org/flags/40.png</td>\n",
       "      <td>...</td>\n",
       "      <td>77.0</td>\n",
       "      <td>70.0</td>\n",
       "      <td>21.0</td>\n",
       "      <td>15.0</td>\n",
       "      <td>19.0</td>\n",
       "      <td>15.0</td>\n",
       "      <td>12.0</td>\n",
       "      <td>11.0</td>\n",
       "      <td>11.0</td>\n",
       "      <td>8.0</td>\n",
       "    </tr>\n",
       "  </tbody>\n",
       "</table>\n",
       "<p>5 rows × 58 columns</p>\n",
       "</div>"
      ],
      "text/plain": [
       "         ID          Name  Age  \\\n",
       "452  207439    L. Paredes   24   \n",
       "538  156713  A. Granqvist   33   \n",
       "568  229909      A. Lunev   26   \n",
       "677  187347  I. Smolnikov   29   \n",
       "874  187607     A. Dzyuba   29   \n",
       "\n",
       "                                              Photo Nationality  \\\n",
       "452  https://cdn.sofifa.org/players/4/19/207439.png   Argentina   \n",
       "538  https://cdn.sofifa.org/players/4/19/156713.png      Sweden   \n",
       "568  https://cdn.sofifa.org/players/4/19/229909.png      Russia   \n",
       "677  https://cdn.sofifa.org/players/4/19/187347.png      Russia   \n",
       "874  https://cdn.sofifa.org/players/4/19/187607.png      Russia   \n",
       "\n",
       "                                    Flag  Overall  Potential    Club  \\\n",
       "452  https://cdn.sofifa.org/flags/52.png       80         85  NoClub   \n",
       "538  https://cdn.sofifa.org/flags/46.png       80         80  NoClub   \n",
       "568  https://cdn.sofifa.org/flags/40.png       79         81  NoClub   \n",
       "677  https://cdn.sofifa.org/flags/40.png       79         79  NoClub   \n",
       "874  https://cdn.sofifa.org/flags/40.png       78         78  NoClub   \n",
       "\n",
       "                               Club Logo  ... Penalties Composure  Marking  \\\n",
       "452  https://cdn.sofifa.org/flags/52.png  ...      57.0      74.0     73.0   \n",
       "538  https://cdn.sofifa.org/flags/46.png  ...      79.0      78.0     82.0   \n",
       "568  https://cdn.sofifa.org/flags/40.png  ...      15.0      69.0     18.0   \n",
       "677  https://cdn.sofifa.org/flags/40.png  ...      41.0      73.0     76.0   \n",
       "874  https://cdn.sofifa.org/flags/40.png  ...      77.0      70.0     21.0   \n",
       "\n",
       "    StandingTackle  SlidingTackle  GKDiving  GKHandling GKKicking  \\\n",
       "452           75.0           72.0       9.0        14.0       6.0   \n",
       "538           83.0           79.0       7.0         9.0      12.0   \n",
       "568           20.0           12.0      80.0        73.0      65.0   \n",
       "677           76.0           80.0       7.0        12.0      10.0   \n",
       "874           15.0           19.0      15.0        12.0      11.0   \n",
       "\n",
       "    GKPositioning GKReflexes  \n",
       "452           9.0       10.0  \n",
       "538          10.0       15.0  \n",
       "568          77.0       85.0  \n",
       "677           8.0       15.0  \n",
       "874          11.0        8.0  \n",
       "\n",
       "[5 rows x 58 columns]"
      ]
     },
     "execution_count": 19,
     "metadata": {},
     "output_type": "execute_result"
    }
   ],
   "source": [
    "data[data['Club'] == 'NoClub'].head()"
   ]
  },
  {
   "cell_type": "code",
   "execution_count": 20,
   "metadata": {},
   "outputs": [],
   "source": [
    "data['Position'].loc[data['Position'].isna()] = 'NoPosition'"
   ]
  },
  {
   "cell_type": "code",
   "execution_count": 21,
   "metadata": {},
   "outputs": [
    {
     "data": {
      "text/html": [
       "<div>\n",
       "<style scoped>\n",
       "    .dataframe tbody tr th:only-of-type {\n",
       "        vertical-align: middle;\n",
       "    }\n",
       "\n",
       "    .dataframe tbody tr th {\n",
       "        vertical-align: top;\n",
       "    }\n",
       "\n",
       "    .dataframe thead th {\n",
       "        text-align: right;\n",
       "    }\n",
       "</style>\n",
       "<table border=\"1\" class=\"dataframe\">\n",
       "  <thead>\n",
       "    <tr style=\"text-align: right;\">\n",
       "      <th></th>\n",
       "      <th>ID</th>\n",
       "      <th>Name</th>\n",
       "      <th>Age</th>\n",
       "      <th>Photo</th>\n",
       "      <th>Nationality</th>\n",
       "      <th>Flag</th>\n",
       "      <th>Overall</th>\n",
       "      <th>Potential</th>\n",
       "      <th>Club</th>\n",
       "      <th>Club Logo</th>\n",
       "      <th>...</th>\n",
       "      <th>Penalties</th>\n",
       "      <th>Composure</th>\n",
       "      <th>Marking</th>\n",
       "      <th>StandingTackle</th>\n",
       "      <th>SlidingTackle</th>\n",
       "      <th>GKDiving</th>\n",
       "      <th>GKHandling</th>\n",
       "      <th>GKKicking</th>\n",
       "      <th>GKPositioning</th>\n",
       "      <th>GKReflexes</th>\n",
       "    </tr>\n",
       "  </thead>\n",
       "  <tbody>\n",
       "    <tr>\n",
       "      <th>5018</th>\n",
       "      <td>153160</td>\n",
       "      <td>R. Raldes</td>\n",
       "      <td>37</td>\n",
       "      <td>https://cdn.sofifa.org/players/4/19/153160.png</td>\n",
       "      <td>Bolivia</td>\n",
       "      <td>https://cdn.sofifa.org/flags/53.png</td>\n",
       "      <td>70</td>\n",
       "      <td>70</td>\n",
       "      <td>NoClub</td>\n",
       "      <td>https://cdn.sofifa.org/flags/53.png</td>\n",
       "      <td>...</td>\n",
       "      <td>77.0</td>\n",
       "      <td>64.0</td>\n",
       "      <td>79.0</td>\n",
       "      <td>70.0</td>\n",
       "      <td>70.0</td>\n",
       "      <td>16.0</td>\n",
       "      <td>8.0</td>\n",
       "      <td>11.0</td>\n",
       "      <td>12.0</td>\n",
       "      <td>13.0</td>\n",
       "    </tr>\n",
       "    <tr>\n",
       "      <th>6736</th>\n",
       "      <td>175393</td>\n",
       "      <td>J. Arce</td>\n",
       "      <td>33</td>\n",
       "      <td>https://cdn.sofifa.org/players/4/19/175393.png</td>\n",
       "      <td>Bolivia</td>\n",
       "      <td>https://cdn.sofifa.org/flags/53.png</td>\n",
       "      <td>68</td>\n",
       "      <td>68</td>\n",
       "      <td>NoClub</td>\n",
       "      <td>https://cdn.sofifa.org/flags/53.png</td>\n",
       "      <td>...</td>\n",
       "      <td>69.0</td>\n",
       "      <td>67.0</td>\n",
       "      <td>12.0</td>\n",
       "      <td>34.0</td>\n",
       "      <td>33.0</td>\n",
       "      <td>16.0</td>\n",
       "      <td>13.0</td>\n",
       "      <td>15.0</td>\n",
       "      <td>16.0</td>\n",
       "      <td>8.0</td>\n",
       "    </tr>\n",
       "    <tr>\n",
       "      <th>7922</th>\n",
       "      <td>195905</td>\n",
       "      <td>L. Gutiérrez</td>\n",
       "      <td>33</td>\n",
       "      <td>https://cdn.sofifa.org/players/4/19/195905.png</td>\n",
       "      <td>Bolivia</td>\n",
       "      <td>https://cdn.sofifa.org/flags/53.png</td>\n",
       "      <td>67</td>\n",
       "      <td>67</td>\n",
       "      <td>NoClub</td>\n",
       "      <td>https://cdn.sofifa.org/flags/53.png</td>\n",
       "      <td>...</td>\n",
       "      <td>42.0</td>\n",
       "      <td>54.0</td>\n",
       "      <td>72.0</td>\n",
       "      <td>71.0</td>\n",
       "      <td>64.0</td>\n",
       "      <td>11.0</td>\n",
       "      <td>7.0</td>\n",
       "      <td>8.0</td>\n",
       "      <td>12.0</td>\n",
       "      <td>12.0</td>\n",
       "    </tr>\n",
       "    <tr>\n",
       "      <th>9905</th>\n",
       "      <td>226044</td>\n",
       "      <td>R. Vargas</td>\n",
       "      <td>23</td>\n",
       "      <td>https://cdn.sofifa.org/players/4/19/226044.png</td>\n",
       "      <td>Bolivia</td>\n",
       "      <td>https://cdn.sofifa.org/flags/53.png</td>\n",
       "      <td>66</td>\n",
       "      <td>69</td>\n",
       "      <td>NoClub</td>\n",
       "      <td>https://cdn.sofifa.org/flags/53.png</td>\n",
       "      <td>...</td>\n",
       "      <td>67.0</td>\n",
       "      <td>64.0</td>\n",
       "      <td>19.0</td>\n",
       "      <td>24.0</td>\n",
       "      <td>23.0</td>\n",
       "      <td>13.0</td>\n",
       "      <td>11.0</td>\n",
       "      <td>11.0</td>\n",
       "      <td>7.0</td>\n",
       "      <td>9.0</td>\n",
       "    </tr>\n",
       "    <tr>\n",
       "      <th>10628</th>\n",
       "      <td>216751</td>\n",
       "      <td>D. Bejarano</td>\n",
       "      <td>26</td>\n",
       "      <td>https://cdn.sofifa.org/players/4/19/216751.png</td>\n",
       "      <td>Bolivia</td>\n",
       "      <td>https://cdn.sofifa.org/flags/53.png</td>\n",
       "      <td>65</td>\n",
       "      <td>66</td>\n",
       "      <td>NoClub</td>\n",
       "      <td>https://cdn.sofifa.org/flags/53.png</td>\n",
       "      <td>...</td>\n",
       "      <td>39.0</td>\n",
       "      <td>57.0</td>\n",
       "      <td>68.0</td>\n",
       "      <td>69.0</td>\n",
       "      <td>68.0</td>\n",
       "      <td>14.0</td>\n",
       "      <td>12.0</td>\n",
       "      <td>11.0</td>\n",
       "      <td>14.0</td>\n",
       "      <td>12.0</td>\n",
       "    </tr>\n",
       "  </tbody>\n",
       "</table>\n",
       "<p>5 rows × 58 columns</p>\n",
       "</div>"
      ],
      "text/plain": [
       "           ID          Name  Age  \\\n",
       "5018   153160     R. Raldes   37   \n",
       "6736   175393       J. Arce   33   \n",
       "7922   195905  L. Gutiérrez   33   \n",
       "9905   226044     R. Vargas   23   \n",
       "10628  216751   D. Bejarano   26   \n",
       "\n",
       "                                                Photo Nationality  \\\n",
       "5018   https://cdn.sofifa.org/players/4/19/153160.png     Bolivia   \n",
       "6736   https://cdn.sofifa.org/players/4/19/175393.png     Bolivia   \n",
       "7922   https://cdn.sofifa.org/players/4/19/195905.png     Bolivia   \n",
       "9905   https://cdn.sofifa.org/players/4/19/226044.png     Bolivia   \n",
       "10628  https://cdn.sofifa.org/players/4/19/216751.png     Bolivia   \n",
       "\n",
       "                                      Flag  Overall  Potential    Club  \\\n",
       "5018   https://cdn.sofifa.org/flags/53.png       70         70  NoClub   \n",
       "6736   https://cdn.sofifa.org/flags/53.png       68         68  NoClub   \n",
       "7922   https://cdn.sofifa.org/flags/53.png       67         67  NoClub   \n",
       "9905   https://cdn.sofifa.org/flags/53.png       66         69  NoClub   \n",
       "10628  https://cdn.sofifa.org/flags/53.png       65         66  NoClub   \n",
       "\n",
       "                                 Club Logo  ... Penalties Composure  Marking  \\\n",
       "5018   https://cdn.sofifa.org/flags/53.png  ...      77.0      64.0     79.0   \n",
       "6736   https://cdn.sofifa.org/flags/53.png  ...      69.0      67.0     12.0   \n",
       "7922   https://cdn.sofifa.org/flags/53.png  ...      42.0      54.0     72.0   \n",
       "9905   https://cdn.sofifa.org/flags/53.png  ...      67.0      64.0     19.0   \n",
       "10628  https://cdn.sofifa.org/flags/53.png  ...      39.0      57.0     68.0   \n",
       "\n",
       "      StandingTackle  SlidingTackle  GKDiving  GKHandling GKKicking  \\\n",
       "5018            70.0           70.0      16.0         8.0      11.0   \n",
       "6736            34.0           33.0      16.0        13.0      15.0   \n",
       "7922            71.0           64.0      11.0         7.0       8.0   \n",
       "9905            24.0           23.0      13.0        11.0      11.0   \n",
       "10628           69.0           68.0      14.0        12.0      11.0   \n",
       "\n",
       "      GKPositioning GKReflexes  \n",
       "5018           12.0       13.0  \n",
       "6736           16.0        8.0  \n",
       "7922           12.0       12.0  \n",
       "9905            7.0        9.0  \n",
       "10628          14.0       12.0  \n",
       "\n",
       "[5 rows x 58 columns]"
      ]
     },
     "execution_count": 21,
     "metadata": {},
     "output_type": "execute_result"
    }
   ],
   "source": [
    "data[data['Position'] == 'NoPosition'].head()"
   ]
  },
  {
   "cell_type": "code",
   "execution_count": 22,
   "metadata": {},
   "outputs": [],
   "source": [
    "data['Jersey Number'].loc[data['Jersey Number'].isna()] = 0"
   ]
  },
  {
   "cell_type": "code",
   "execution_count": 23,
   "metadata": {},
   "outputs": [
    {
     "data": {
      "text/html": [
       "<div>\n",
       "<style scoped>\n",
       "    .dataframe tbody tr th:only-of-type {\n",
       "        vertical-align: middle;\n",
       "    }\n",
       "\n",
       "    .dataframe tbody tr th {\n",
       "        vertical-align: top;\n",
       "    }\n",
       "\n",
       "    .dataframe thead th {\n",
       "        text-align: right;\n",
       "    }\n",
       "</style>\n",
       "<table border=\"1\" class=\"dataframe\">\n",
       "  <thead>\n",
       "    <tr style=\"text-align: right;\">\n",
       "      <th></th>\n",
       "      <th>ID</th>\n",
       "      <th>Name</th>\n",
       "      <th>Age</th>\n",
       "      <th>Photo</th>\n",
       "      <th>Nationality</th>\n",
       "      <th>Flag</th>\n",
       "      <th>Overall</th>\n",
       "      <th>Potential</th>\n",
       "      <th>Club</th>\n",
       "      <th>Club Logo</th>\n",
       "      <th>...</th>\n",
       "      <th>Penalties</th>\n",
       "      <th>Composure</th>\n",
       "      <th>Marking</th>\n",
       "      <th>StandingTackle</th>\n",
       "      <th>SlidingTackle</th>\n",
       "      <th>GKDiving</th>\n",
       "      <th>GKHandling</th>\n",
       "      <th>GKKicking</th>\n",
       "      <th>GKPositioning</th>\n",
       "      <th>GKReflexes</th>\n",
       "    </tr>\n",
       "  </thead>\n",
       "  <tbody>\n",
       "    <tr>\n",
       "      <th>5018</th>\n",
       "      <td>153160</td>\n",
       "      <td>R. Raldes</td>\n",
       "      <td>37</td>\n",
       "      <td>https://cdn.sofifa.org/players/4/19/153160.png</td>\n",
       "      <td>Bolivia</td>\n",
       "      <td>https://cdn.sofifa.org/flags/53.png</td>\n",
       "      <td>70</td>\n",
       "      <td>70</td>\n",
       "      <td>NoClub</td>\n",
       "      <td>https://cdn.sofifa.org/flags/53.png</td>\n",
       "      <td>...</td>\n",
       "      <td>77.0</td>\n",
       "      <td>64.0</td>\n",
       "      <td>79.0</td>\n",
       "      <td>70.0</td>\n",
       "      <td>70.0</td>\n",
       "      <td>16.0</td>\n",
       "      <td>8.0</td>\n",
       "      <td>11.0</td>\n",
       "      <td>12.0</td>\n",
       "      <td>13.0</td>\n",
       "    </tr>\n",
       "    <tr>\n",
       "      <th>6736</th>\n",
       "      <td>175393</td>\n",
       "      <td>J. Arce</td>\n",
       "      <td>33</td>\n",
       "      <td>https://cdn.sofifa.org/players/4/19/175393.png</td>\n",
       "      <td>Bolivia</td>\n",
       "      <td>https://cdn.sofifa.org/flags/53.png</td>\n",
       "      <td>68</td>\n",
       "      <td>68</td>\n",
       "      <td>NoClub</td>\n",
       "      <td>https://cdn.sofifa.org/flags/53.png</td>\n",
       "      <td>...</td>\n",
       "      <td>69.0</td>\n",
       "      <td>67.0</td>\n",
       "      <td>12.0</td>\n",
       "      <td>34.0</td>\n",
       "      <td>33.0</td>\n",
       "      <td>16.0</td>\n",
       "      <td>13.0</td>\n",
       "      <td>15.0</td>\n",
       "      <td>16.0</td>\n",
       "      <td>8.0</td>\n",
       "    </tr>\n",
       "    <tr>\n",
       "      <th>7922</th>\n",
       "      <td>195905</td>\n",
       "      <td>L. Gutiérrez</td>\n",
       "      <td>33</td>\n",
       "      <td>https://cdn.sofifa.org/players/4/19/195905.png</td>\n",
       "      <td>Bolivia</td>\n",
       "      <td>https://cdn.sofifa.org/flags/53.png</td>\n",
       "      <td>67</td>\n",
       "      <td>67</td>\n",
       "      <td>NoClub</td>\n",
       "      <td>https://cdn.sofifa.org/flags/53.png</td>\n",
       "      <td>...</td>\n",
       "      <td>42.0</td>\n",
       "      <td>54.0</td>\n",
       "      <td>72.0</td>\n",
       "      <td>71.0</td>\n",
       "      <td>64.0</td>\n",
       "      <td>11.0</td>\n",
       "      <td>7.0</td>\n",
       "      <td>8.0</td>\n",
       "      <td>12.0</td>\n",
       "      <td>12.0</td>\n",
       "    </tr>\n",
       "    <tr>\n",
       "      <th>9905</th>\n",
       "      <td>226044</td>\n",
       "      <td>R. Vargas</td>\n",
       "      <td>23</td>\n",
       "      <td>https://cdn.sofifa.org/players/4/19/226044.png</td>\n",
       "      <td>Bolivia</td>\n",
       "      <td>https://cdn.sofifa.org/flags/53.png</td>\n",
       "      <td>66</td>\n",
       "      <td>69</td>\n",
       "      <td>NoClub</td>\n",
       "      <td>https://cdn.sofifa.org/flags/53.png</td>\n",
       "      <td>...</td>\n",
       "      <td>67.0</td>\n",
       "      <td>64.0</td>\n",
       "      <td>19.0</td>\n",
       "      <td>24.0</td>\n",
       "      <td>23.0</td>\n",
       "      <td>13.0</td>\n",
       "      <td>11.0</td>\n",
       "      <td>11.0</td>\n",
       "      <td>7.0</td>\n",
       "      <td>9.0</td>\n",
       "    </tr>\n",
       "    <tr>\n",
       "      <th>10628</th>\n",
       "      <td>216751</td>\n",
       "      <td>D. Bejarano</td>\n",
       "      <td>26</td>\n",
       "      <td>https://cdn.sofifa.org/players/4/19/216751.png</td>\n",
       "      <td>Bolivia</td>\n",
       "      <td>https://cdn.sofifa.org/flags/53.png</td>\n",
       "      <td>65</td>\n",
       "      <td>66</td>\n",
       "      <td>NoClub</td>\n",
       "      <td>https://cdn.sofifa.org/flags/53.png</td>\n",
       "      <td>...</td>\n",
       "      <td>39.0</td>\n",
       "      <td>57.0</td>\n",
       "      <td>68.0</td>\n",
       "      <td>69.0</td>\n",
       "      <td>68.0</td>\n",
       "      <td>14.0</td>\n",
       "      <td>12.0</td>\n",
       "      <td>11.0</td>\n",
       "      <td>14.0</td>\n",
       "      <td>12.0</td>\n",
       "    </tr>\n",
       "  </tbody>\n",
       "</table>\n",
       "<p>5 rows × 58 columns</p>\n",
       "</div>"
      ],
      "text/plain": [
       "           ID          Name  Age  \\\n",
       "5018   153160     R. Raldes   37   \n",
       "6736   175393       J. Arce   33   \n",
       "7922   195905  L. Gutiérrez   33   \n",
       "9905   226044     R. Vargas   23   \n",
       "10628  216751   D. Bejarano   26   \n",
       "\n",
       "                                                Photo Nationality  \\\n",
       "5018   https://cdn.sofifa.org/players/4/19/153160.png     Bolivia   \n",
       "6736   https://cdn.sofifa.org/players/4/19/175393.png     Bolivia   \n",
       "7922   https://cdn.sofifa.org/players/4/19/195905.png     Bolivia   \n",
       "9905   https://cdn.sofifa.org/players/4/19/226044.png     Bolivia   \n",
       "10628  https://cdn.sofifa.org/players/4/19/216751.png     Bolivia   \n",
       "\n",
       "                                      Flag  Overall  Potential    Club  \\\n",
       "5018   https://cdn.sofifa.org/flags/53.png       70         70  NoClub   \n",
       "6736   https://cdn.sofifa.org/flags/53.png       68         68  NoClub   \n",
       "7922   https://cdn.sofifa.org/flags/53.png       67         67  NoClub   \n",
       "9905   https://cdn.sofifa.org/flags/53.png       66         69  NoClub   \n",
       "10628  https://cdn.sofifa.org/flags/53.png       65         66  NoClub   \n",
       "\n",
       "                                 Club Logo  ... Penalties Composure  Marking  \\\n",
       "5018   https://cdn.sofifa.org/flags/53.png  ...      77.0      64.0     79.0   \n",
       "6736   https://cdn.sofifa.org/flags/53.png  ...      69.0      67.0     12.0   \n",
       "7922   https://cdn.sofifa.org/flags/53.png  ...      42.0      54.0     72.0   \n",
       "9905   https://cdn.sofifa.org/flags/53.png  ...      67.0      64.0     19.0   \n",
       "10628  https://cdn.sofifa.org/flags/53.png  ...      39.0      57.0     68.0   \n",
       "\n",
       "      StandingTackle  SlidingTackle  GKDiving  GKHandling GKKicking  \\\n",
       "5018            70.0           70.0      16.0         8.0      11.0   \n",
       "6736            34.0           33.0      16.0        13.0      15.0   \n",
       "7922            71.0           64.0      11.0         7.0       8.0   \n",
       "9905            24.0           23.0      13.0        11.0      11.0   \n",
       "10628           69.0           68.0      14.0        12.0      11.0   \n",
       "\n",
       "      GKPositioning GKReflexes  \n",
       "5018           12.0       13.0  \n",
       "6736           16.0        8.0  \n",
       "7922           12.0       12.0  \n",
       "9905            7.0        9.0  \n",
       "10628          14.0       12.0  \n",
       "\n",
       "[5 rows x 58 columns]"
      ]
     },
     "execution_count": 23,
     "metadata": {},
     "output_type": "execute_result"
    }
   ],
   "source": [
    "data[data['Jersey Number'] == 0].head()"
   ]
  },
  {
   "cell_type": "markdown",
   "metadata": {},
   "source": [
    "##### 1.4.1.3 Transform the necessary data"
   ]
  },
  {
   "cell_type": "code",
   "execution_count": 24,
   "metadata": {},
   "outputs": [],
   "source": [
    "def transform_money(val):\n",
    "    euros = val.replace('€', '')\n",
    "    if 'M' in euros:\n",
    "        euros = euros.replace('M', '')\n",
    "        euros = float(euros)*1000000\n",
    "    elif 'K' in euros:\n",
    "        euros = euros.replace('K', '')\n",
    "        euros = float(euros)*1000\n",
    "    return float(euros)"
   ]
  },
  {
   "cell_type": "code",
   "execution_count": 25,
   "metadata": {},
   "outputs": [],
   "source": [
    "data['Value_euros'] =  data['Value'].apply(transform_money)"
   ]
  },
  {
   "cell_type": "code",
   "execution_count": 26,
   "metadata": {},
   "outputs": [],
   "source": [
    "data['Wage_euros'] =  data['Wage'].apply(transform_money)"
   ]
  },
  {
   "cell_type": "code",
   "execution_count": 27,
   "metadata": {},
   "outputs": [],
   "source": [
    "data['Yearly_Wage_euros'] =  data['Wage_euros'].apply(lambda x: x*52)"
   ]
  },
  {
   "cell_type": "code",
   "execution_count": 28,
   "metadata": {},
   "outputs": [
    {
     "data": {
      "text/html": [
       "<div>\n",
       "<style scoped>\n",
       "    .dataframe tbody tr th:only-of-type {\n",
       "        vertical-align: middle;\n",
       "    }\n",
       "\n",
       "    .dataframe tbody tr th {\n",
       "        vertical-align: top;\n",
       "    }\n",
       "\n",
       "    .dataframe thead th {\n",
       "        text-align: right;\n",
       "    }\n",
       "</style>\n",
       "<table border=\"1\" class=\"dataframe\">\n",
       "  <thead>\n",
       "    <tr style=\"text-align: right;\">\n",
       "      <th></th>\n",
       "      <th>ID</th>\n",
       "      <th>Name</th>\n",
       "      <th>Value</th>\n",
       "      <th>Value_euros</th>\n",
       "      <th>Wage</th>\n",
       "      <th>Wage_euros</th>\n",
       "      <th>Yearly_Wage_euros</th>\n",
       "    </tr>\n",
       "  </thead>\n",
       "  <tbody>\n",
       "    <tr>\n",
       "      <th>0</th>\n",
       "      <td>158023</td>\n",
       "      <td>L. Messi</td>\n",
       "      <td>€110.5M</td>\n",
       "      <td>110500000.0</td>\n",
       "      <td>€565K</td>\n",
       "      <td>565000.0</td>\n",
       "      <td>29380000.0</td>\n",
       "    </tr>\n",
       "    <tr>\n",
       "      <th>1</th>\n",
       "      <td>20801</td>\n",
       "      <td>Cristiano Ronaldo</td>\n",
       "      <td>€77M</td>\n",
       "      <td>77000000.0</td>\n",
       "      <td>€405K</td>\n",
       "      <td>405000.0</td>\n",
       "      <td>21060000.0</td>\n",
       "    </tr>\n",
       "    <tr>\n",
       "      <th>2</th>\n",
       "      <td>190871</td>\n",
       "      <td>Neymar Jr</td>\n",
       "      <td>€118.5M</td>\n",
       "      <td>118500000.0</td>\n",
       "      <td>€290K</td>\n",
       "      <td>290000.0</td>\n",
       "      <td>15080000.0</td>\n",
       "    </tr>\n",
       "    <tr>\n",
       "      <th>3</th>\n",
       "      <td>193080</td>\n",
       "      <td>De Gea</td>\n",
       "      <td>€72M</td>\n",
       "      <td>72000000.0</td>\n",
       "      <td>€260K</td>\n",
       "      <td>260000.0</td>\n",
       "      <td>13520000.0</td>\n",
       "    </tr>\n",
       "    <tr>\n",
       "      <th>4</th>\n",
       "      <td>192985</td>\n",
       "      <td>K. De Bruyne</td>\n",
       "      <td>€102M</td>\n",
       "      <td>102000000.0</td>\n",
       "      <td>€355K</td>\n",
       "      <td>355000.0</td>\n",
       "      <td>18460000.0</td>\n",
       "    </tr>\n",
       "  </tbody>\n",
       "</table>\n",
       "</div>"
      ],
      "text/plain": [
       "       ID               Name    Value  Value_euros   Wage  Wage_euros  \\\n",
       "0  158023           L. Messi  €110.5M  110500000.0  €565K    565000.0   \n",
       "1   20801  Cristiano Ronaldo     €77M   77000000.0  €405K    405000.0   \n",
       "2  190871          Neymar Jr  €118.5M  118500000.0  €290K    290000.0   \n",
       "3  193080             De Gea     €72M   72000000.0  €260K    260000.0   \n",
       "4  192985       K. De Bruyne    €102M  102000000.0  €355K    355000.0   \n",
       "\n",
       "   Yearly_Wage_euros  \n",
       "0         29380000.0  \n",
       "1         21060000.0  \n",
       "2         15080000.0  \n",
       "3         13520000.0  \n",
       "4         18460000.0  "
      ]
     },
     "execution_count": 28,
     "metadata": {},
     "output_type": "execute_result"
    }
   ],
   "source": [
    "data[['ID','Name','Value','Value_euros','Wage','Wage_euros','Yearly_Wage_euros']].head()"
   ]
  },
  {
   "cell_type": "markdown",
   "metadata": {},
   "source": [
    "##### 1.4.2 Rows"
   ]
  },
  {
   "cell_type": "markdown",
   "metadata": {},
   "source": [
    "There are 48 rows (players) with almost all the data NaN. I will delete those rows as they do not give iformation for the visualisation purpose."
   ]
  },
  {
   "cell_type": "code",
   "execution_count": 29,
   "metadata": {},
   "outputs": [],
   "source": [
    "data = data.drop(data.index[data[data['Preferred Foot'].isna()].index])"
   ]
  },
  {
   "cell_type": "markdown",
   "metadata": {},
   "source": [
    "#### 1.5 Clean dataset"
   ]
  },
  {
   "cell_type": "markdown",
   "metadata": {},
   "source": [
    "We have a dataset that we are going to use for the visualization"
   ]
  },
  {
   "cell_type": "code",
   "execution_count": 30,
   "metadata": {},
   "outputs": [
    {
     "data": {
      "text/plain": [
       "(18159, 61)"
      ]
     },
     "execution_count": 30,
     "metadata": {},
     "output_type": "execute_result"
    }
   ],
   "source": [
    "data.shape"
   ]
  },
  {
   "cell_type": "code",
   "execution_count": 31,
   "metadata": {},
   "outputs": [
    {
     "name": "stdout",
     "output_type": "stream",
     "text": [
      "<class 'pandas.core.frame.DataFrame'>\n",
      "Int64Index: 18159 entries, 0 to 18206\n",
      "Data columns (total 61 columns):\n",
      "ID                          18159 non-null int64\n",
      "Name                        18159 non-null object\n",
      "Age                         18159 non-null int64\n",
      "Photo                       18159 non-null object\n",
      "Nationality                 18159 non-null object\n",
      "Flag                        18159 non-null object\n",
      "Overall                     18159 non-null int64\n",
      "Potential                   18159 non-null int64\n",
      "Club                        18159 non-null object\n",
      "Club Logo                   18159 non-null object\n",
      "Value                       18159 non-null object\n",
      "Wage                        18159 non-null object\n",
      "Special                     18159 non-null int64\n",
      "Preferred Foot              18159 non-null object\n",
      "International Reputation    18159 non-null float64\n",
      "Weak Foot                   18159 non-null float64\n",
      "Skill Moves                 18159 non-null float64\n",
      "Work Rate                   18159 non-null object\n",
      "Body Type                   18159 non-null object\n",
      "Real Face                   18159 non-null object\n",
      "Position                    18159 non-null object\n",
      "Jersey Number               18159 non-null float64\n",
      "Height                      18159 non-null object\n",
      "Weight                      18159 non-null object\n",
      "Crossing                    18159 non-null float64\n",
      "Finishing                   18159 non-null float64\n",
      "HeadingAccuracy             18159 non-null float64\n",
      "ShortPassing                18159 non-null float64\n",
      "Volleys                     18159 non-null float64\n",
      "Dribbling                   18159 non-null float64\n",
      "Curve                       18159 non-null float64\n",
      "FKAccuracy                  18159 non-null float64\n",
      "LongPassing                 18159 non-null float64\n",
      "BallControl                 18159 non-null float64\n",
      "Acceleration                18159 non-null float64\n",
      "SprintSpeed                 18159 non-null float64\n",
      "Agility                     18159 non-null float64\n",
      "Reactions                   18159 non-null float64\n",
      "Balance                     18159 non-null float64\n",
      "ShotPower                   18159 non-null float64\n",
      "Jumping                     18159 non-null float64\n",
      "Stamina                     18159 non-null float64\n",
      "Strength                    18159 non-null float64\n",
      "LongShots                   18159 non-null float64\n",
      "Aggression                  18159 non-null float64\n",
      "Interceptions               18159 non-null float64\n",
      "Positioning                 18159 non-null float64\n",
      "Vision                      18159 non-null float64\n",
      "Penalties                   18159 non-null float64\n",
      "Composure                   18159 non-null float64\n",
      "Marking                     18159 non-null float64\n",
      "StandingTackle              18159 non-null float64\n",
      "SlidingTackle               18159 non-null float64\n",
      "GKDiving                    18159 non-null float64\n",
      "GKHandling                  18159 non-null float64\n",
      "GKKicking                   18159 non-null float64\n",
      "GKPositioning               18159 non-null float64\n",
      "GKReflexes                  18159 non-null float64\n",
      "Value_euros                 18159 non-null float64\n",
      "Wage_euros                  18159 non-null float64\n",
      "Yearly_Wage_euros           18159 non-null float64\n",
      "dtypes: float64(41), int64(5), object(15)\n",
      "memory usage: 8.6+ MB\n"
     ]
    }
   ],
   "source": [
    "data.info()"
   ]
  },
  {
   "cell_type": "code",
   "execution_count": 32,
   "metadata": {},
   "outputs": [
    {
     "data": {
      "text/html": [
       "<div>\n",
       "<style scoped>\n",
       "    .dataframe tbody tr th:only-of-type {\n",
       "        vertical-align: middle;\n",
       "    }\n",
       "\n",
       "    .dataframe tbody tr th {\n",
       "        vertical-align: top;\n",
       "    }\n",
       "\n",
       "    .dataframe thead th {\n",
       "        text-align: right;\n",
       "    }\n",
       "</style>\n",
       "<table border=\"1\" class=\"dataframe\">\n",
       "  <thead>\n",
       "    <tr style=\"text-align: right;\">\n",
       "      <th></th>\n",
       "      <th>count</th>\n",
       "      <th>mean</th>\n",
       "      <th>std</th>\n",
       "      <th>min</th>\n",
       "      <th>25%</th>\n",
       "      <th>50%</th>\n",
       "      <th>75%</th>\n",
       "      <th>max</th>\n",
       "    </tr>\n",
       "  </thead>\n",
       "  <tbody>\n",
       "    <tr>\n",
       "      <th>ID</th>\n",
       "      <td>18159.0</td>\n",
       "      <td>2.142796e+05</td>\n",
       "      <td>2.996846e+04</td>\n",
       "      <td>16.0</td>\n",
       "      <td>200300.0</td>\n",
       "      <td>221743.0</td>\n",
       "      <td>236508.5</td>\n",
       "      <td>246620.0</td>\n",
       "    </tr>\n",
       "    <tr>\n",
       "      <th>Age</th>\n",
       "      <td>18159.0</td>\n",
       "      <td>2.512253e+01</td>\n",
       "      <td>4.670568e+00</td>\n",
       "      <td>16.0</td>\n",
       "      <td>21.0</td>\n",
       "      <td>25.0</td>\n",
       "      <td>28.0</td>\n",
       "      <td>45.0</td>\n",
       "    </tr>\n",
       "    <tr>\n",
       "      <th>Overall</th>\n",
       "      <td>18159.0</td>\n",
       "      <td>6.624990e+01</td>\n",
       "      <td>6.914613e+00</td>\n",
       "      <td>46.0</td>\n",
       "      <td>62.0</td>\n",
       "      <td>66.0</td>\n",
       "      <td>71.0</td>\n",
       "      <td>94.0</td>\n",
       "    </tr>\n",
       "    <tr>\n",
       "      <th>Potential</th>\n",
       "      <td>18159.0</td>\n",
       "      <td>7.131913e+01</td>\n",
       "      <td>6.134420e+00</td>\n",
       "      <td>48.0</td>\n",
       "      <td>67.0</td>\n",
       "      <td>71.0</td>\n",
       "      <td>75.0</td>\n",
       "      <td>95.0</td>\n",
       "    </tr>\n",
       "    <tr>\n",
       "      <th>Special</th>\n",
       "      <td>18159.0</td>\n",
       "      <td>1.597904e+03</td>\n",
       "      <td>2.728623e+02</td>\n",
       "      <td>731.0</td>\n",
       "      <td>1457.0</td>\n",
       "      <td>1635.0</td>\n",
       "      <td>1787.0</td>\n",
       "      <td>2346.0</td>\n",
       "    </tr>\n",
       "    <tr>\n",
       "      <th>International Reputation</th>\n",
       "      <td>18159.0</td>\n",
       "      <td>1.113222e+00</td>\n",
       "      <td>3.940308e-01</td>\n",
       "      <td>1.0</td>\n",
       "      <td>1.0</td>\n",
       "      <td>1.0</td>\n",
       "      <td>1.0</td>\n",
       "      <td>5.0</td>\n",
       "    </tr>\n",
       "    <tr>\n",
       "      <th>Weak Foot</th>\n",
       "      <td>18159.0</td>\n",
       "      <td>2.947299e+00</td>\n",
       "      <td>6.604563e-01</td>\n",
       "      <td>1.0</td>\n",
       "      <td>3.0</td>\n",
       "      <td>3.0</td>\n",
       "      <td>3.0</td>\n",
       "      <td>5.0</td>\n",
       "    </tr>\n",
       "    <tr>\n",
       "      <th>Skill Moves</th>\n",
       "      <td>18159.0</td>\n",
       "      <td>2.361308e+00</td>\n",
       "      <td>7.561641e-01</td>\n",
       "      <td>1.0</td>\n",
       "      <td>2.0</td>\n",
       "      <td>2.0</td>\n",
       "      <td>3.0</td>\n",
       "      <td>5.0</td>\n",
       "    </tr>\n",
       "    <tr>\n",
       "      <th>Jersey Number</th>\n",
       "      <td>18159.0</td>\n",
       "      <td>1.953318e+01</td>\n",
       "      <td>1.595041e+01</td>\n",
       "      <td>0.0</td>\n",
       "      <td>8.0</td>\n",
       "      <td>17.0</td>\n",
       "      <td>26.0</td>\n",
       "      <td>99.0</td>\n",
       "    </tr>\n",
       "    <tr>\n",
       "      <th>Crossing</th>\n",
       "      <td>18159.0</td>\n",
       "      <td>4.973418e+01</td>\n",
       "      <td>1.836452e+01</td>\n",
       "      <td>5.0</td>\n",
       "      <td>38.0</td>\n",
       "      <td>54.0</td>\n",
       "      <td>64.0</td>\n",
       "      <td>93.0</td>\n",
       "    </tr>\n",
       "    <tr>\n",
       "      <th>Finishing</th>\n",
       "      <td>18159.0</td>\n",
       "      <td>4.555091e+01</td>\n",
       "      <td>1.952582e+01</td>\n",
       "      <td>2.0</td>\n",
       "      <td>30.0</td>\n",
       "      <td>49.0</td>\n",
       "      <td>62.0</td>\n",
       "      <td>95.0</td>\n",
       "    </tr>\n",
       "    <tr>\n",
       "      <th>HeadingAccuracy</th>\n",
       "      <td>18159.0</td>\n",
       "      <td>5.229814e+01</td>\n",
       "      <td>1.737991e+01</td>\n",
       "      <td>4.0</td>\n",
       "      <td>44.0</td>\n",
       "      <td>56.0</td>\n",
       "      <td>64.0</td>\n",
       "      <td>94.0</td>\n",
       "    </tr>\n",
       "    <tr>\n",
       "      <th>ShortPassing</th>\n",
       "      <td>18159.0</td>\n",
       "      <td>5.868671e+01</td>\n",
       "      <td>1.469950e+01</td>\n",
       "      <td>7.0</td>\n",
       "      <td>54.0</td>\n",
       "      <td>62.0</td>\n",
       "      <td>68.0</td>\n",
       "      <td>93.0</td>\n",
       "    </tr>\n",
       "    <tr>\n",
       "      <th>Volleys</th>\n",
       "      <td>18159.0</td>\n",
       "      <td>4.290903e+01</td>\n",
       "      <td>1.769441e+01</td>\n",
       "      <td>4.0</td>\n",
       "      <td>30.0</td>\n",
       "      <td>44.0</td>\n",
       "      <td>57.0</td>\n",
       "      <td>90.0</td>\n",
       "    </tr>\n",
       "    <tr>\n",
       "      <th>Dribbling</th>\n",
       "      <td>18159.0</td>\n",
       "      <td>5.537100e+01</td>\n",
       "      <td>1.891037e+01</td>\n",
       "      <td>4.0</td>\n",
       "      <td>49.0</td>\n",
       "      <td>61.0</td>\n",
       "      <td>68.0</td>\n",
       "      <td>97.0</td>\n",
       "    </tr>\n",
       "    <tr>\n",
       "      <th>Curve</th>\n",
       "      <td>18159.0</td>\n",
       "      <td>4.717082e+01</td>\n",
       "      <td>1.839526e+01</td>\n",
       "      <td>6.0</td>\n",
       "      <td>34.0</td>\n",
       "      <td>48.0</td>\n",
       "      <td>62.0</td>\n",
       "      <td>94.0</td>\n",
       "    </tr>\n",
       "    <tr>\n",
       "      <th>FKAccuracy</th>\n",
       "      <td>18159.0</td>\n",
       "      <td>4.286315e+01</td>\n",
       "      <td>1.747876e+01</td>\n",
       "      <td>3.0</td>\n",
       "      <td>31.0</td>\n",
       "      <td>41.0</td>\n",
       "      <td>57.0</td>\n",
       "      <td>94.0</td>\n",
       "    </tr>\n",
       "    <tr>\n",
       "      <th>LongPassing</th>\n",
       "      <td>18159.0</td>\n",
       "      <td>5.271193e+01</td>\n",
       "      <td>1.532787e+01</td>\n",
       "      <td>9.0</td>\n",
       "      <td>43.0</td>\n",
       "      <td>56.0</td>\n",
       "      <td>64.0</td>\n",
       "      <td>93.0</td>\n",
       "    </tr>\n",
       "    <tr>\n",
       "      <th>BallControl</th>\n",
       "      <td>18159.0</td>\n",
       "      <td>5.836946e+01</td>\n",
       "      <td>1.668660e+01</td>\n",
       "      <td>5.0</td>\n",
       "      <td>54.0</td>\n",
       "      <td>63.0</td>\n",
       "      <td>69.0</td>\n",
       "      <td>96.0</td>\n",
       "    </tr>\n",
       "    <tr>\n",
       "      <th>Acceleration</th>\n",
       "      <td>18159.0</td>\n",
       "      <td>6.461408e+01</td>\n",
       "      <td>1.492778e+01</td>\n",
       "      <td>12.0</td>\n",
       "      <td>57.0</td>\n",
       "      <td>67.0</td>\n",
       "      <td>75.0</td>\n",
       "      <td>97.0</td>\n",
       "    </tr>\n",
       "    <tr>\n",
       "      <th>SprintSpeed</th>\n",
       "      <td>18159.0</td>\n",
       "      <td>6.472697e+01</td>\n",
       "      <td>1.464995e+01</td>\n",
       "      <td>12.0</td>\n",
       "      <td>57.0</td>\n",
       "      <td>67.0</td>\n",
       "      <td>75.0</td>\n",
       "      <td>96.0</td>\n",
       "    </tr>\n",
       "    <tr>\n",
       "      <th>Agility</th>\n",
       "      <td>18159.0</td>\n",
       "      <td>6.350361e+01</td>\n",
       "      <td>1.476605e+01</td>\n",
       "      <td>14.0</td>\n",
       "      <td>55.0</td>\n",
       "      <td>66.0</td>\n",
       "      <td>74.0</td>\n",
       "      <td>96.0</td>\n",
       "    </tr>\n",
       "    <tr>\n",
       "      <th>Reactions</th>\n",
       "      <td>18159.0</td>\n",
       "      <td>6.183661e+01</td>\n",
       "      <td>9.010464e+00</td>\n",
       "      <td>21.0</td>\n",
       "      <td>56.0</td>\n",
       "      <td>62.0</td>\n",
       "      <td>68.0</td>\n",
       "      <td>96.0</td>\n",
       "    </tr>\n",
       "    <tr>\n",
       "      <th>Balance</th>\n",
       "      <td>18159.0</td>\n",
       "      <td>6.396657e+01</td>\n",
       "      <td>1.413617e+01</td>\n",
       "      <td>16.0</td>\n",
       "      <td>56.0</td>\n",
       "      <td>66.0</td>\n",
       "      <td>74.0</td>\n",
       "      <td>96.0</td>\n",
       "    </tr>\n",
       "    <tr>\n",
       "      <th>ShotPower</th>\n",
       "      <td>18159.0</td>\n",
       "      <td>5.546005e+01</td>\n",
       "      <td>1.723796e+01</td>\n",
       "      <td>2.0</td>\n",
       "      <td>45.0</td>\n",
       "      <td>59.0</td>\n",
       "      <td>68.0</td>\n",
       "      <td>95.0</td>\n",
       "    </tr>\n",
       "    <tr>\n",
       "      <th>Jumping</th>\n",
       "      <td>18159.0</td>\n",
       "      <td>6.508943e+01</td>\n",
       "      <td>1.182004e+01</td>\n",
       "      <td>15.0</td>\n",
       "      <td>58.0</td>\n",
       "      <td>66.0</td>\n",
       "      <td>73.0</td>\n",
       "      <td>95.0</td>\n",
       "    </tr>\n",
       "    <tr>\n",
       "      <th>Stamina</th>\n",
       "      <td>18159.0</td>\n",
       "      <td>6.321995e+01</td>\n",
       "      <td>1.589474e+01</td>\n",
       "      <td>12.0</td>\n",
       "      <td>56.0</td>\n",
       "      <td>66.0</td>\n",
       "      <td>74.0</td>\n",
       "      <td>96.0</td>\n",
       "    </tr>\n",
       "    <tr>\n",
       "      <th>Strength</th>\n",
       "      <td>18159.0</td>\n",
       "      <td>6.531197e+01</td>\n",
       "      <td>1.255700e+01</td>\n",
       "      <td>17.0</td>\n",
       "      <td>58.0</td>\n",
       "      <td>67.0</td>\n",
       "      <td>74.0</td>\n",
       "      <td>97.0</td>\n",
       "    </tr>\n",
       "    <tr>\n",
       "      <th>LongShots</th>\n",
       "      <td>18159.0</td>\n",
       "      <td>4.710997e+01</td>\n",
       "      <td>1.926052e+01</td>\n",
       "      <td>3.0</td>\n",
       "      <td>33.0</td>\n",
       "      <td>51.0</td>\n",
       "      <td>62.0</td>\n",
       "      <td>94.0</td>\n",
       "    </tr>\n",
       "    <tr>\n",
       "      <th>Aggression</th>\n",
       "      <td>18159.0</td>\n",
       "      <td>5.586899e+01</td>\n",
       "      <td>1.736797e+01</td>\n",
       "      <td>11.0</td>\n",
       "      <td>44.0</td>\n",
       "      <td>59.0</td>\n",
       "      <td>69.0</td>\n",
       "      <td>95.0</td>\n",
       "    </tr>\n",
       "    <tr>\n",
       "      <th>Interceptions</th>\n",
       "      <td>18159.0</td>\n",
       "      <td>4.669828e+01</td>\n",
       "      <td>2.069691e+01</td>\n",
       "      <td>3.0</td>\n",
       "      <td>26.0</td>\n",
       "      <td>52.0</td>\n",
       "      <td>64.0</td>\n",
       "      <td>92.0</td>\n",
       "    </tr>\n",
       "    <tr>\n",
       "      <th>Positioning</th>\n",
       "      <td>18159.0</td>\n",
       "      <td>4.995848e+01</td>\n",
       "      <td>1.952904e+01</td>\n",
       "      <td>2.0</td>\n",
       "      <td>38.0</td>\n",
       "      <td>55.0</td>\n",
       "      <td>64.0</td>\n",
       "      <td>95.0</td>\n",
       "    </tr>\n",
       "    <tr>\n",
       "      <th>Vision</th>\n",
       "      <td>18159.0</td>\n",
       "      <td>5.340090e+01</td>\n",
       "      <td>1.414688e+01</td>\n",
       "      <td>10.0</td>\n",
       "      <td>44.0</td>\n",
       "      <td>55.0</td>\n",
       "      <td>64.0</td>\n",
       "      <td>94.0</td>\n",
       "    </tr>\n",
       "    <tr>\n",
       "      <th>Penalties</th>\n",
       "      <td>18159.0</td>\n",
       "      <td>4.854860e+01</td>\n",
       "      <td>1.570405e+01</td>\n",
       "      <td>5.0</td>\n",
       "      <td>39.0</td>\n",
       "      <td>49.0</td>\n",
       "      <td>60.0</td>\n",
       "      <td>92.0</td>\n",
       "    </tr>\n",
       "    <tr>\n",
       "      <th>Composure</th>\n",
       "      <td>18159.0</td>\n",
       "      <td>5.864827e+01</td>\n",
       "      <td>1.143613e+01</td>\n",
       "      <td>3.0</td>\n",
       "      <td>51.0</td>\n",
       "      <td>60.0</td>\n",
       "      <td>67.0</td>\n",
       "      <td>96.0</td>\n",
       "    </tr>\n",
       "    <tr>\n",
       "      <th>Marking</th>\n",
       "      <td>18159.0</td>\n",
       "      <td>4.728162e+01</td>\n",
       "      <td>1.990440e+01</td>\n",
       "      <td>3.0</td>\n",
       "      <td>30.0</td>\n",
       "      <td>53.0</td>\n",
       "      <td>64.0</td>\n",
       "      <td>94.0</td>\n",
       "    </tr>\n",
       "    <tr>\n",
       "      <th>StandingTackle</th>\n",
       "      <td>18159.0</td>\n",
       "      <td>4.769784e+01</td>\n",
       "      <td>2.166400e+01</td>\n",
       "      <td>2.0</td>\n",
       "      <td>27.0</td>\n",
       "      <td>55.0</td>\n",
       "      <td>66.0</td>\n",
       "      <td>93.0</td>\n",
       "    </tr>\n",
       "    <tr>\n",
       "      <th>SlidingTackle</th>\n",
       "      <td>18159.0</td>\n",
       "      <td>4.566144e+01</td>\n",
       "      <td>2.128913e+01</td>\n",
       "      <td>3.0</td>\n",
       "      <td>24.0</td>\n",
       "      <td>52.0</td>\n",
       "      <td>64.0</td>\n",
       "      <td>91.0</td>\n",
       "    </tr>\n",
       "    <tr>\n",
       "      <th>GKDiving</th>\n",
       "      <td>18159.0</td>\n",
       "      <td>1.661622e+01</td>\n",
       "      <td>1.769535e+01</td>\n",
       "      <td>1.0</td>\n",
       "      <td>8.0</td>\n",
       "      <td>11.0</td>\n",
       "      <td>14.0</td>\n",
       "      <td>90.0</td>\n",
       "    </tr>\n",
       "    <tr>\n",
       "      <th>GKHandling</th>\n",
       "      <td>18159.0</td>\n",
       "      <td>1.639160e+01</td>\n",
       "      <td>1.690690e+01</td>\n",
       "      <td>1.0</td>\n",
       "      <td>8.0</td>\n",
       "      <td>11.0</td>\n",
       "      <td>14.0</td>\n",
       "      <td>92.0</td>\n",
       "    </tr>\n",
       "    <tr>\n",
       "      <th>GKKicking</th>\n",
       "      <td>18159.0</td>\n",
       "      <td>1.623206e+01</td>\n",
       "      <td>1.650286e+01</td>\n",
       "      <td>1.0</td>\n",
       "      <td>8.0</td>\n",
       "      <td>11.0</td>\n",
       "      <td>14.0</td>\n",
       "      <td>91.0</td>\n",
       "    </tr>\n",
       "    <tr>\n",
       "      <th>GKPositioning</th>\n",
       "      <td>18159.0</td>\n",
       "      <td>1.638890e+01</td>\n",
       "      <td>1.703467e+01</td>\n",
       "      <td>1.0</td>\n",
       "      <td>8.0</td>\n",
       "      <td>11.0</td>\n",
       "      <td>14.0</td>\n",
       "      <td>90.0</td>\n",
       "    </tr>\n",
       "    <tr>\n",
       "      <th>GKReflexes</th>\n",
       "      <td>18159.0</td>\n",
       "      <td>1.671089e+01</td>\n",
       "      <td>1.795512e+01</td>\n",
       "      <td>1.0</td>\n",
       "      <td>8.0</td>\n",
       "      <td>11.0</td>\n",
       "      <td>14.0</td>\n",
       "      <td>94.0</td>\n",
       "    </tr>\n",
       "    <tr>\n",
       "      <th>Value_euros</th>\n",
       "      <td>18159.0</td>\n",
       "      <td>2.416131e+06</td>\n",
       "      <td>5.601319e+06</td>\n",
       "      <td>0.0</td>\n",
       "      <td>300000.0</td>\n",
       "      <td>675000.0</td>\n",
       "      <td>2000000.0</td>\n",
       "      <td>118500000.0</td>\n",
       "    </tr>\n",
       "    <tr>\n",
       "      <th>Wage_euros</th>\n",
       "      <td>18159.0</td>\n",
       "      <td>9.752574e+03</td>\n",
       "      <td>2.202440e+04</td>\n",
       "      <td>0.0</td>\n",
       "      <td>1000.0</td>\n",
       "      <td>3000.0</td>\n",
       "      <td>9000.0</td>\n",
       "      <td>565000.0</td>\n",
       "    </tr>\n",
       "    <tr>\n",
       "      <th>Yearly_Wage_euros</th>\n",
       "      <td>18159.0</td>\n",
       "      <td>5.071339e+05</td>\n",
       "      <td>1.145269e+06</td>\n",
       "      <td>0.0</td>\n",
       "      <td>52000.0</td>\n",
       "      <td>156000.0</td>\n",
       "      <td>468000.0</td>\n",
       "      <td>29380000.0</td>\n",
       "    </tr>\n",
       "  </tbody>\n",
       "</table>\n",
       "</div>"
      ],
      "text/plain": [
       "                            count          mean           std    min  \\\n",
       "ID                        18159.0  2.142796e+05  2.996846e+04   16.0   \n",
       "Age                       18159.0  2.512253e+01  4.670568e+00   16.0   \n",
       "Overall                   18159.0  6.624990e+01  6.914613e+00   46.0   \n",
       "Potential                 18159.0  7.131913e+01  6.134420e+00   48.0   \n",
       "Special                   18159.0  1.597904e+03  2.728623e+02  731.0   \n",
       "International Reputation  18159.0  1.113222e+00  3.940308e-01    1.0   \n",
       "Weak Foot                 18159.0  2.947299e+00  6.604563e-01    1.0   \n",
       "Skill Moves               18159.0  2.361308e+00  7.561641e-01    1.0   \n",
       "Jersey Number             18159.0  1.953318e+01  1.595041e+01    0.0   \n",
       "Crossing                  18159.0  4.973418e+01  1.836452e+01    5.0   \n",
       "Finishing                 18159.0  4.555091e+01  1.952582e+01    2.0   \n",
       "HeadingAccuracy           18159.0  5.229814e+01  1.737991e+01    4.0   \n",
       "ShortPassing              18159.0  5.868671e+01  1.469950e+01    7.0   \n",
       "Volleys                   18159.0  4.290903e+01  1.769441e+01    4.0   \n",
       "Dribbling                 18159.0  5.537100e+01  1.891037e+01    4.0   \n",
       "Curve                     18159.0  4.717082e+01  1.839526e+01    6.0   \n",
       "FKAccuracy                18159.0  4.286315e+01  1.747876e+01    3.0   \n",
       "LongPassing               18159.0  5.271193e+01  1.532787e+01    9.0   \n",
       "BallControl               18159.0  5.836946e+01  1.668660e+01    5.0   \n",
       "Acceleration              18159.0  6.461408e+01  1.492778e+01   12.0   \n",
       "SprintSpeed               18159.0  6.472697e+01  1.464995e+01   12.0   \n",
       "Agility                   18159.0  6.350361e+01  1.476605e+01   14.0   \n",
       "Reactions                 18159.0  6.183661e+01  9.010464e+00   21.0   \n",
       "Balance                   18159.0  6.396657e+01  1.413617e+01   16.0   \n",
       "ShotPower                 18159.0  5.546005e+01  1.723796e+01    2.0   \n",
       "Jumping                   18159.0  6.508943e+01  1.182004e+01   15.0   \n",
       "Stamina                   18159.0  6.321995e+01  1.589474e+01   12.0   \n",
       "Strength                  18159.0  6.531197e+01  1.255700e+01   17.0   \n",
       "LongShots                 18159.0  4.710997e+01  1.926052e+01    3.0   \n",
       "Aggression                18159.0  5.586899e+01  1.736797e+01   11.0   \n",
       "Interceptions             18159.0  4.669828e+01  2.069691e+01    3.0   \n",
       "Positioning               18159.0  4.995848e+01  1.952904e+01    2.0   \n",
       "Vision                    18159.0  5.340090e+01  1.414688e+01   10.0   \n",
       "Penalties                 18159.0  4.854860e+01  1.570405e+01    5.0   \n",
       "Composure                 18159.0  5.864827e+01  1.143613e+01    3.0   \n",
       "Marking                   18159.0  4.728162e+01  1.990440e+01    3.0   \n",
       "StandingTackle            18159.0  4.769784e+01  2.166400e+01    2.0   \n",
       "SlidingTackle             18159.0  4.566144e+01  2.128913e+01    3.0   \n",
       "GKDiving                  18159.0  1.661622e+01  1.769535e+01    1.0   \n",
       "GKHandling                18159.0  1.639160e+01  1.690690e+01    1.0   \n",
       "GKKicking                 18159.0  1.623206e+01  1.650286e+01    1.0   \n",
       "GKPositioning             18159.0  1.638890e+01  1.703467e+01    1.0   \n",
       "GKReflexes                18159.0  1.671089e+01  1.795512e+01    1.0   \n",
       "Value_euros               18159.0  2.416131e+06  5.601319e+06    0.0   \n",
       "Wage_euros                18159.0  9.752574e+03  2.202440e+04    0.0   \n",
       "Yearly_Wage_euros         18159.0  5.071339e+05  1.145269e+06    0.0   \n",
       "\n",
       "                               25%       50%        75%          max  \n",
       "ID                        200300.0  221743.0   236508.5     246620.0  \n",
       "Age                           21.0      25.0       28.0         45.0  \n",
       "Overall                       62.0      66.0       71.0         94.0  \n",
       "Potential                     67.0      71.0       75.0         95.0  \n",
       "Special                     1457.0    1635.0     1787.0       2346.0  \n",
       "International Reputation       1.0       1.0        1.0          5.0  \n",
       "Weak Foot                      3.0       3.0        3.0          5.0  \n",
       "Skill Moves                    2.0       2.0        3.0          5.0  \n",
       "Jersey Number                  8.0      17.0       26.0         99.0  \n",
       "Crossing                      38.0      54.0       64.0         93.0  \n",
       "Finishing                     30.0      49.0       62.0         95.0  \n",
       "HeadingAccuracy               44.0      56.0       64.0         94.0  \n",
       "ShortPassing                  54.0      62.0       68.0         93.0  \n",
       "Volleys                       30.0      44.0       57.0         90.0  \n",
       "Dribbling                     49.0      61.0       68.0         97.0  \n",
       "Curve                         34.0      48.0       62.0         94.0  \n",
       "FKAccuracy                    31.0      41.0       57.0         94.0  \n",
       "LongPassing                   43.0      56.0       64.0         93.0  \n",
       "BallControl                   54.0      63.0       69.0         96.0  \n",
       "Acceleration                  57.0      67.0       75.0         97.0  \n",
       "SprintSpeed                   57.0      67.0       75.0         96.0  \n",
       "Agility                       55.0      66.0       74.0         96.0  \n",
       "Reactions                     56.0      62.0       68.0         96.0  \n",
       "Balance                       56.0      66.0       74.0         96.0  \n",
       "ShotPower                     45.0      59.0       68.0         95.0  \n",
       "Jumping                       58.0      66.0       73.0         95.0  \n",
       "Stamina                       56.0      66.0       74.0         96.0  \n",
       "Strength                      58.0      67.0       74.0         97.0  \n",
       "LongShots                     33.0      51.0       62.0         94.0  \n",
       "Aggression                    44.0      59.0       69.0         95.0  \n",
       "Interceptions                 26.0      52.0       64.0         92.0  \n",
       "Positioning                   38.0      55.0       64.0         95.0  \n",
       "Vision                        44.0      55.0       64.0         94.0  \n",
       "Penalties                     39.0      49.0       60.0         92.0  \n",
       "Composure                     51.0      60.0       67.0         96.0  \n",
       "Marking                       30.0      53.0       64.0         94.0  \n",
       "StandingTackle                27.0      55.0       66.0         93.0  \n",
       "SlidingTackle                 24.0      52.0       64.0         91.0  \n",
       "GKDiving                       8.0      11.0       14.0         90.0  \n",
       "GKHandling                     8.0      11.0       14.0         92.0  \n",
       "GKKicking                      8.0      11.0       14.0         91.0  \n",
       "GKPositioning                  8.0      11.0       14.0         90.0  \n",
       "GKReflexes                     8.0      11.0       14.0         94.0  \n",
       "Value_euros               300000.0  675000.0  2000000.0  118500000.0  \n",
       "Wage_euros                  1000.0    3000.0     9000.0     565000.0  \n",
       "Yearly_Wage_euros          52000.0  156000.0   468000.0   29380000.0  "
      ]
     },
     "execution_count": 32,
     "metadata": {},
     "output_type": "execute_result"
    }
   ],
   "source": [
    "data.describe().T"
   ]
  },
  {
   "cell_type": "markdown",
   "metadata": {},
   "source": [
    "### 2.- Visualization"
   ]
  },
  {
   "cell_type": "markdown",
   "metadata": {},
   "source": [
    "#### 2.1.- Distribution of the Players by Overall rating"
   ]
  },
  {
   "cell_type": "code",
   "execution_count": 33,
   "metadata": {},
   "outputs": [
    {
     "data": {
      "image/png": "[encoded data removed]",
      "text/plain": [
       "<Figure size 1008x432 with 1 Axes>"
      ]
     },
     "metadata": {
      "needs_background": "light"
     },
     "output_type": "display_data"
    }
   ],
   "source": [
    "plt.figure(figsize = (14,6))\n",
    "data['Overall'].plot.hist(alpha=0.5, bins=50, grid=True, legend=None)\n",
    "plt.xlabel('Overall rating', fontsize=14, ha='center')\n",
    "plt.title('FIFA19 Overall rating shape distribution', fontsize=20)\n",
    "plt.show()"
   ]
  },
  {
   "cell_type": "markdown",
   "metadata": {},
   "source": [
    "We can observe that the distribution seems almost a \"Nomal distribution\""
   ]
  },
  {
   "cell_type": "markdown",
   "metadata": {},
   "source": [
    "#### 2.2.- Players Preferred Foot\n"
   ]
  },
  {
   "cell_type": "code",
   "execution_count": 34,
   "metadata": {},
   "outputs": [
    {
     "data": {
      "text/html": [
       "<div>\n",
       "<style scoped>\n",
       "    .dataframe tbody tr th:only-of-type {\n",
       "        vertical-align: middle;\n",
       "    }\n",
       "\n",
       "    .dataframe tbody tr th {\n",
       "        vertical-align: top;\n",
       "    }\n",
       "\n",
       "    .dataframe thead th {\n",
       "        text-align: right;\n",
       "    }\n",
       "</style>\n",
       "<table border=\"1\" class=\"dataframe\">\n",
       "  <thead>\n",
       "    <tr style=\"text-align: right;\">\n",
       "      <th></th>\n",
       "      <th>ID</th>\n",
       "    </tr>\n",
       "    <tr>\n",
       "      <th>Preferred Foot</th>\n",
       "      <th></th>\n",
       "    </tr>\n",
       "  </thead>\n",
       "  <tbody>\n",
       "    <tr>\n",
       "      <th>Left</th>\n",
       "      <td>4211</td>\n",
       "    </tr>\n",
       "    <tr>\n",
       "      <th>Right</th>\n",
       "      <td>13948</td>\n",
       "    </tr>\n",
       "  </tbody>\n",
       "</table>\n",
       "</div>"
      ],
      "text/plain": [
       "                   ID\n",
       "Preferred Foot       \n",
       "Left             4211\n",
       "Right           13948"
      ]
     },
     "execution_count": 34,
     "metadata": {},
     "output_type": "execute_result"
    }
   ],
   "source": [
    "data[['ID','Preferred Foot']].groupby('Preferred Foot').count()"
   ]
  },
  {
   "cell_type": "code",
   "execution_count": 35,
   "metadata": {},
   "outputs": [],
   "source": [
    "prefered_foot = data[['ID','Preferred Foot']].groupby('Preferred Foot').count().reset_index()"
   ]
  },
  {
   "cell_type": "code",
   "execution_count": 50,
   "metadata": {},
   "outputs": [
    {
     "data": {
      "text/plain": [
       "<Figure size 1008x432 with 0 Axes>"
      ]
     },
     "metadata": {},
     "output_type": "display_data"
    },
    {
     "data": {
      "image/png": "[encoded data removed]",
      "text/plain": [
       "<Figure size 432x288 with 1 Axes>"
      ]
     },
     "metadata": {},
     "output_type": "display_data"
    }
   ],
   "source": [
    "plt.figure(figsize = (14,6))\n",
    "prefered_foot.plot.bar(alpha=0.5, grid=True, legend=None)\n",
    "plt.xlabel('Foot', fontsize=14, ha='center')\n",
    "plt.ylabel('Quantity', fontsize=14, ha='center')\n",
    "plt.xticks([0,1], ['Left', 'Right'], fontsize=12, ha='center', rotation=0)\n",
    "plt.title('FIFA19 Prefered Foot Bar chart', fontsize=14)\n",
    "plt.show()"
   ]
  },
  {
   "cell_type": "markdown",
   "metadata": {},
   "source": [
    "There are the triple of players with the Right foot as preferred"
   ]
  },
  {
   "cell_type": "markdown",
   "metadata": {},
   "source": [
    "#### ¿Is there any difference for the overall distribution?"
   ]
  },
  {
   "cell_type": "code",
   "execution_count": 37,
   "metadata": {},
   "outputs": [],
   "source": [
    "lefties = data[data['Preferred Foot'] == 'Left']\n",
    "righties = data[data['Preferred Foot'] == 'Right']"
   ]
  },
  {
   "cell_type": "code",
   "execution_count": 38,
   "metadata": {},
   "outputs": [
    {
     "data": {
      "image/png": "[encoded data removed]",
      "text/plain": [
       "<Figure size 1008x576 with 2 Axes>"
      ]
     },
     "metadata": {
      "needs_background": "light"
     },
     "output_type": "display_data"
    }
   ],
   "source": [
    "fig, [ax1,ax2] = plt.subplots(2,1, figsize = (14,8))\n",
    "plt.subplots_adjust(left=None, bottom=None, right=None, top=None, wspace=None, hspace=0.4)\n",
    "\n",
    "plt.sca(ax1)\n",
    "righties['Overall'].plot.hist(alpha=0.5, bins=50, grid=True, label='Right Foot', color='darkblue')\n",
    "plt.xlabel('Overall rating', fontsize=14, ha='center')\n",
    "plt.title('FIFA19 Overall rating shape distribution by Right foot', fontsize=20)\n",
    "plt.legend()\n",
    "\n",
    "plt.sca(ax2)\n",
    "lefties['Overall'].plot.hist(alpha=0.5, bins=50, grid=True, label='Left Foot', color='darkred')\n",
    "plt.xlabel('Overall rating', fontsize=14, ha='center')\n",
    "plt.title('FIFA19 Overall rating shape distribution by Left foot', fontsize=20)\n",
    "plt.legend()\n",
    "plt.show()"
   ]
  },
  {
   "cell_type": "code",
   "execution_count": 39,
   "metadata": {},
   "outputs": [
    {
     "data": {
      "image/png": "[encoded data removed]",
      "text/plain": [
       "<Figure size 1440x432 with 1 Axes>"
      ]
     },
     "metadata": {
      "needs_background": "light"
     },
     "output_type": "display_data"
    }
   ],
   "source": [
    "plt.figure(figsize = (20,6))\n",
    "\n",
    "sns.boxplot(x='Preferred Foot', y='Overall', data=data,palette='rainbow')\n",
    "plt.title('FIFA19 Overall rating shape distribution by foot', fontsize=20)\n",
    "plt.xlabel('Overall rating', fontsize=16, ha='center')\n",
    "plt.ylabel('Preferred Foot', fontsize=16, ha='center')\n",
    "plt.xticks([0,1], ['Left', 'Right'], fontsize=14, ha='center', rotation=0)\n",
    "plt.show()"
   ]
  },
  {
   "cell_type": "markdown",
   "metadata": {},
   "source": [
    "We can observe that the distributions seem pretty similar"
   ]
  },
  {
   "cell_type": "markdown",
   "metadata": {},
   "source": [
    "#### 2.3.- Heatmap correlation of all the the values "
   ]
  },
  {
   "cell_type": "code",
   "execution_count": 51,
   "metadata": {},
   "outputs": [],
   "source": [
    "corr = data.corr()"
   ]
  },
  {
   "cell_type": "code",
   "execution_count": 42,
   "metadata": {},
   "outputs": [
    {
     "data": {
      "image/png": "[encoded data removed]",
      "text/plain": [
       "<Figure size 1008x720 with 2 Axes>"
      ]
     },
     "metadata": {},
     "output_type": "display_data"
    }
   ],
   "source": [
    "sns.set(style=\"white\")\n",
    "\n",
    "# Generate a mask for the upper triangle\n",
    "mask = np.zeros_like(corr, dtype=np.bool)\n",
    "mask[np.triu_indices_from(mask)] = True\n",
    "\n",
    "# Set up the matplotlib figure\n",
    "f, ax = plt.subplots(figsize=(14, 10))\n",
    "\n",
    "# Generate a custom diverging colormap\n",
    "cmap = sns.diverging_palette(220, 10, as_cmap=True)\n",
    "\n",
    "# Draw the heatmap with the mask and correct aspect ratio\n",
    "sns.set(font_scale=1)\n",
    "\n",
    "ax = sns.heatmap(corr, mask=mask, cmap=cmap, vmax=.3, center=0,square=True, linewidths=.5, cbar_kws={\"shrink\": .5})\n",
    "\n",
    "plt.show()"
   ]
  },
  {
   "cell_type": "markdown",
   "metadata": {},
   "source": [
    "#### 2.4.- Correlation of Overall and the rest of the values "
   ]
  },
  {
   "cell_type": "code",
   "execution_count": 53,
   "metadata": {},
   "outputs": [],
   "source": [
    "corr_overall = corr['Overall'].reset_index()"
   ]
  },
  {
   "cell_type": "code",
   "execution_count": 54,
   "metadata": {},
   "outputs": [
    {
     "data": {
      "text/html": [
       "<div>\n",
       "<style scoped>\n",
       "    .dataframe tbody tr th:only-of-type {\n",
       "        vertical-align: middle;\n",
       "    }\n",
       "\n",
       "    .dataframe tbody tr th {\n",
       "        vertical-align: top;\n",
       "    }\n",
       "\n",
       "    .dataframe thead th {\n",
       "        text-align: right;\n",
       "    }\n",
       "</style>\n",
       "<table border=\"1\" class=\"dataframe\">\n",
       "  <thead>\n",
       "    <tr style=\"text-align: right;\">\n",
       "      <th></th>\n",
       "      <th>index</th>\n",
       "      <th>Overall</th>\n",
       "    </tr>\n",
       "  </thead>\n",
       "  <tbody>\n",
       "    <tr>\n",
       "      <th>0</th>\n",
       "      <td>ID</td>\n",
       "      <td>-0.417354</td>\n",
       "    </tr>\n",
       "    <tr>\n",
       "      <th>1</th>\n",
       "      <td>Age</td>\n",
       "      <td>0.453069</td>\n",
       "    </tr>\n",
       "    <tr>\n",
       "      <th>2</th>\n",
       "      <td>Overall</td>\n",
       "      <td>1.000000</td>\n",
       "    </tr>\n",
       "    <tr>\n",
       "      <th>3</th>\n",
       "      <td>Potential</td>\n",
       "      <td>0.661180</td>\n",
       "    </tr>\n",
       "    <tr>\n",
       "      <th>4</th>\n",
       "      <td>International Reputation</td>\n",
       "      <td>0.499491</td>\n",
       "    </tr>\n",
       "  </tbody>\n",
       "</table>\n",
       "</div>"
      ],
      "text/plain": [
       "                      index   Overall\n",
       "0                        ID -0.417354\n",
       "1                       Age  0.453069\n",
       "2                   Overall  1.000000\n",
       "3                 Potential  0.661180\n",
       "4  International Reputation  0.499491"
      ]
     },
     "execution_count": 54,
     "metadata": {},
     "output_type": "execute_result"
    }
   ],
   "source": [
    "corr_overall.head()"
   ]
  },
  {
   "cell_type": "code",
   "execution_count": 59,
   "metadata": {},
   "outputs": [
    {
     "data": {
      "image/png": "[encoded data removed]",
      "text/plain": [
       "<Figure size 1008x432 with 1 Axes>"
      ]
     },
     "metadata": {},
     "output_type": "display_data"
    }
   ],
   "source": [
    "sns.set(style=\"white\")\n",
    "corr_overall.plot(kind='bar',figsize=(14,6))\n",
    "plt.title(\"Correlation Overall vs Variables\", fontsize=18, fontweight=400, ha='center')\n",
    "plt.xlabel('Vars', fontsize=14, ha='center')\n",
    "plt.ylabel('Correlation', fontsize=14, ha='center')\n",
    "plt.xticks(np.arange(45), corr_overall['index'], rotation=90)\n",
    "plt.hlines(0.5,-1,45, colors='r',linestyles='dashed', label='0.5')\n",
    "plt.hlines(-0.5,-1,45, colors='r',linestyles='dashed', label='-0.5')\n",
    "plt.hlines(0.3,-1,45, colors='orange',linestyles='dashed', label='0.3')\n",
    "plt.hlines(-0.3,-1,45, colors='orange',linestyles='dashed', label='-0.3')\n",
    "plt.hlines(0,-1,45, colors='k',linestyles='solid')\n",
    "plt.show()"
   ]
  },
  {
   "cell_type": "markdown",
   "metadata": {},
   "source": [
    "#### 2.5.- Scatter plots of Overall vs Composure, Reactions and Potential"
   ]
  },
  {
   "cell_type": "code",
   "execution_count": 62,
   "metadata": {},
   "outputs": [
    {
     "data": {
      "image/png": "[encoded data removed]",
      "text/plain": [
       "<Figure size 1296x576 with 3 Axes>"
      ]
     },
     "metadata": {},
     "output_type": "display_data"
    }
   ],
   "source": [
    "list_plots = ['Composure', 'Reactions','Potential','Overall']\n",
    "\n",
    "fig, ax = plt.subplots(1,3, figsize = (18,8))\n",
    "plt.subplots_adjust(left=None, bottom=None, right=None, top=None, wspace=0.2, hspace=None)\n",
    "\n",
    "\n",
    "for i in range(3):\n",
    "    plt.sca(ax[i])\n",
    "    plt.scatter(data[list_plots[i]], data[list_plots[3]], color = 'purple')\n",
    "    plt.title(list_pretty[i], fontsize=18, fontweight=400, ha='center')\n",
    "    plt.xlabel(list_pretty[i], fontsize=14, ha='center')\n",
    "    plt.ylabel(list_pretty[3], fontsize=14, ha='center')\n",
    "plt.show()"
   ]
  },
  {
   "cell_type": "markdown",
   "metadata": {},
   "source": [
    "#### 2.6.- Value in Euros and Overall by Country\n"
   ]
  },
  {
   "cell_type": "code",
   "execution_count": 64,
   "metadata": {},
   "outputs": [],
   "source": [
    "data3 = data.groupby('Nationality')[['Overall','Value_euros']].mean()\n",
    "data3 = data3.reset_index()"
   ]
  },
  {
   "cell_type": "code",
   "execution_count": 67,
   "metadata": {},
   "outputs": [
    {
     "data": {
      "application/vnd.plotly.v1+json": {
       "config": {
        "linkText": "Export to plot.ly",
        "plotlyServerURL": "https://plot.ly",
        "showLink": true
       },
       "data": [
        {
         "marker": {
          "color": "rgba(255, 153, 51, 1.0)",
          "line": {
           "width": 1.3
          },
          "opacity": 0.8,
          "size": 12,
          "symbol": "circle"
         },
         "mode": "markers",
         "name": "Afghanistan",
         "textfont": {
          "color": "#4D5663"
         },
         "type": "scatter",
         "uid": "2bef9477-0dbd-461b-845f-9f2a9249ccfe",
         "x": [
          61
         ],
         "y": [
          342500
         ]
        },
        {
         "marker": {
          "color": "rgba(55, 128, 191, 1.0)",
          "line": {
           "width": 1.3
          },
          "opacity": 0.8,
          "size": 12,
          "symbol": "circle"
         },
         "mode": "markers",
         "name": "Albania",
         "textfont": {
          "color": "#4D5663"
         },
         "type": "scatter",
         "uid": "ea1cf7c0-156e-4b66-9365-7a65f4c14ff2",
         "x": [
          66.02564102564102
         ],
         "y": [
          1959871.7948717948
         ]
        },
        {
         "marker": {
          "color": "rgba(50, 171, 96, 1.0)",
          "line": {
           "width": 1.3
          },
          "opacity": 0.8,
          "size": 12,
          "symbol": "circle"
         },
         "mode": "markers",
         "name": "Algeria",
         "textfont": {
          "color": "#4D5663"
         },
         "type": "scatter",
         "uid": "6240dbca-e492-45a7-aadd-dea8e0e6447c",
         "x": [
          70.63333333333334
         ],
         "y": [
          4670916.666666667
         ]
        },
        {
         "marker": {
          "color": "rgba(128, 0, 128, 1.0)",
          "line": {
           "width": 1.3
          },
          "opacity": 0.8,
          "size": 12,
          "symbol": "circle"
         },
         "mode": "markers",
         "name": "Andorra",
         "textfont": {
          "color": "#4D5663"
         },
         "type": "scatter",
         "uid": "b786ce38-3402-4d27-97f0-cfb3be62a7ed",
         "x": [
          62
         ],
         "y": [
          290000
         ]
        },
        {
         "marker": {
          "color": "rgba(219, 64, 82, 1.0)",
          "line": {
           "width": 1.3
          },
          "opacity": 0.8,
          "size": 12,
          "symbol": "circle"
         },
         "mode": "markers",
         "name": "Angola",
         "textfont": {
          "color": "#4D5663"
         },
         "type": "scatter",
         "uid": "64d64030-4344-475f-8c14-41d592e7098f",
         "x": [
          67.6
         ],
         "y": [
          2018333.3333333333
         ]
        },
        {
         "marker": {
          "color": "rgba(0, 128, 128, 1.0)",
          "line": {
           "width": 1.3
          },
          "opacity": 0.8,
          "size": 12,
          "symbol": "circle"
         },
         "mode": "markers",
         "name": "Antigua & Barbuda",
         "textfont": {
          "color": "#4D5663"
         },
         "type": "scatter",
         "uid": "7c742f53-5e16-45d3-be77-89dba9926da4",
         "x": [
          62.5
         ],
         "y": [
          535000
         ]
        },
        {
         "marker": {
          "color": "rgba(255, 255, 51, 1.0)",
          "line": {
           "width": 1.3
          },
          "opacity": 0.8,
          "size": 12,
          "symbol": "circle"
         },
         "mode": "markers",
         "name": "Argentina",
         "textfont": {
          "color": "#4D5663"
         },
         "type": "scatter",
         "uid": "617155bf-bc8b-45d4-81b1-3377d4be0281",
         "x": [
          68.57905982905983
         ],
         "y": [
          3079818.376068376
         ]
        },
        {
         "marker": {
          "color": "rgba(128, 128, 0, 1.0)",
          "line": {
           "width": 1.3
          },
          "opacity": 0.8,
          "size": 12,
          "symbol": "circle"
         },
         "mode": "markers",
         "name": "Armenia",
         "textfont": {
          "color": "#4D5663"
         },
         "type": "scatter",
         "uid": "181f1cec-2c4c-4ddc-a435-6b0372d40b1c",
         "x": [
          69
         ],
         "y": [
          3717500
         ]
        },
        {
         "marker": {
          "color": "rgba(251, 128, 114, 1.0)",
          "line": {
           "width": 1.3
          },
          "opacity": 0.8,
          "size": 12,
          "symbol": "circle"
         },
         "mode": "markers",
         "name": "Australia",
         "textfont": {
          "color": "#4D5663"
         },
         "type": "scatter",
         "uid": "034e6fa8-3065-45cf-b43e-df894963c0c9",
         "x": [
          62.652542372881356
         ],
         "y": [
          736970.3389830509
         ]
        },
        {
         "marker": {
          "color": "rgba(128, 177, 211, 1.0)",
          "line": {
           "width": 1.3
          },
          "opacity": 0.8,
          "size": 12,
          "symbol": "circle"
         },
         "mode": "markers",
         "name": "Austria",
         "textfont": {
          "color": "#4D5663"
         },
         "type": "scatter",
         "uid": "4ed6dd41-e8e1-4aaa-84b4-f10e8c8a5a64",
         "x": [
          64.9358108108108
         ],
         "y": [
          1617618.2432432433
         ]
        },
        {
         "marker": {
          "color": "rgba(128, 177, 211, 0.9512195121951219)",
          "line": {
           "width": 1.3
          },
          "opacity": 0.8,
          "size": 12,
          "symbol": "circle"
         },
         "mode": "markers",
         "name": "Azerbaijan",
         "textfont": {
          "color": "#4D5663"
         },
         "type": "scatter",
         "uid": "092162eb-4ae2-40a8-aa9e-1d096b38258d",
         "x": [
          63
         ],
         "y": [
          519000
         ]
        },
        {
         "marker": {
          "color": "rgba(255, 153, 51, 0.9512195121951219)",
          "line": {
           "width": 1.3
          },
          "opacity": 0.8,
          "size": 12,
          "symbol": "circle"
         },
         "mode": "markers",
         "name": "Barbados",
         "textfont": {
          "color": "#4D5663"
         },
         "type": "scatter",
         "uid": "f3c48db4-4055-45c7-9aa6-861c19542b5d",
         "x": [
          63.333333333333336
         ],
         "y": [
          401666.6666666667
         ]
        },
        {
         "marker": {
          "color": "rgba(55, 128, 191, 0.9512195121951219)",
          "line": {
           "width": 1.3
          },
          "opacity": 0.8,
          "size": 12,
          "symbol": "circle"
         },
         "mode": "markers",
         "name": "Belarus",
         "textfont": {
          "color": "#4D5663"
         },
         "type": "scatter",
         "uid": "5867052e-889b-4619-91e5-86e4940fbdc7",
         "x": [
          70.25
         ],
         "y": [
          2443750
         ]
        },
        {
         "marker": {
          "color": "rgba(50, 171, 96, 0.9512195121951219)",
          "line": {
           "width": 1.3
          },
          "opacity": 0.8,
          "size": 12,
          "symbol": "circle"
         },
         "mode": "markers",
         "name": "Belgium",
         "textfont": {
          "color": "#4D5663"
         },
         "type": "scatter",
         "uid": "d3703da9-0e18-45df-b130-a4662b1f317f",
         "x": [
          68.83783783783784
         ],
         "y": [
          4717239.382239382
         ]
        },
        {
         "marker": {
          "color": "rgba(128, 0, 128, 0.9512195121951219)",
          "line": {
           "width": 1.3
          },
          "opacity": 0.8,
          "size": 12,
          "symbol": "circle"
         },
         "mode": "markers",
         "name": "Belize",
         "textfont": {
          "color": "#4D5663"
         },
         "type": "scatter",
         "uid": "b95c05d9-027f-4c72-8892-c90d7ee8ccec",
         "x": [
          60
         ],
         "y": [
          250000
         ]
        },
        {
         "marker": {
          "color": "rgba(219, 64, 82, 0.9512195121951219)",
          "line": {
           "width": 1.3
          },
          "opacity": 0.8,
          "size": 12,
          "symbol": "circle"
         },
         "mode": "markers",
         "name": "Benin",
         "textfont": {
          "color": "#4D5663"
         },
         "type": "scatter",
         "uid": "03b4c4e1-4f1a-42fe-b907-fe9a43d11b22",
         "x": [
          67.46666666666667
         ],
         "y": [
          1646333.3333333333
         ]
        },
        {
         "marker": {
          "color": "rgba(0, 128, 128, 0.9512195121951219)",
          "line": {
           "width": 1.3
          },
          "opacity": 0.8,
          "size": 12,
          "symbol": "circle"
         },
         "mode": "markers",
         "name": "Bermuda",
         "textfont": {
          "color": "#4D5663"
         },
         "type": "scatter",
         "uid": "a3db5777-6ff0-4757-926c-139a5000782f",
         "x": [
          66.5
         ],
         "y": [
          1087500
         ]
        },
        {
         "marker": {
          "color": "rgba(255, 255, 51, 0.9512195121951219)",
          "line": {
           "width": 1.3
          },
          "opacity": 0.8,
          "size": 12,
          "symbol": "circle"
         },
         "mode": "markers",
         "name": "Bolivia",
         "textfont": {
          "color": "#4D5663"
         },
         "type": "scatter",
         "uid": "4d49f709-f0f3-4a85-832a-9a7c2c5ce91e",
         "x": [
          65.66666666666667
         ],
         "y": [
          299000
         ]
        },
        {
         "marker": {
          "color": "rgba(128, 128, 0, 0.9512195121951219)",
          "line": {
           "width": 1.3
          },
          "opacity": 0.8,
          "size": 12,
          "symbol": "circle"
         },
         "mode": "markers",
         "name": "Bosnia Herzegovina",
         "textfont": {
          "color": "#4D5663"
         },
         "type": "scatter",
         "uid": "4df3c892-7dcb-4200-860d-fbf4bcb8f8d7",
         "x": [
          68.63934426229508
         ],
         "y": [
          3682377.049180328
         ]
        },
        {
         "marker": {
          "color": "rgba(251, 128, 114, 0.9512195121951219)",
          "line": {
           "width": 1.3
          },
          "opacity": 0.8,
          "size": 12,
          "symbol": "circle"
         },
         "mode": "markers",
         "name": "Botswana",
         "textfont": {
          "color": "#4D5663"
         },
         "type": "scatter",
         "uid": "b71975d6-27c5-44eb-8274-c36d30c58999",
         "x": [
          56
         ],
         "y": [
          160000
         ]
        },
        {
         "marker": {
          "color": "rgba(251, 128, 114, 0.9024390243902438)",
          "line": {
           "width": 1.3
          },
          "opacity": 0.8,
          "size": 12,
          "symbol": "circle"
         },
         "mode": "markers",
         "name": "Brazil",
         "textfont": {
          "color": "#4D5663"
         },
         "type": "scatter",
         "uid": "56955946-503a-48c1-b020-ccf8b3de331e",
         "x": [
          71.2739393939394
         ],
         "y": [
          4612636.363636363
         ]
        },
        {
         "marker": {
          "color": "rgba(128, 177, 211, 0.9024390243902438)",
          "line": {
           "width": 1.3
          },
          "opacity": 0.8,
          "size": 12,
          "symbol": "circle"
         },
         "mode": "markers",
         "name": "Bulgaria",
         "textfont": {
          "color": "#4D5663"
         },
         "type": "scatter",
         "uid": "f531be05-b898-4bb6-be83-6e20ef58999e",
         "x": [
          64.875
         ],
         "y": [
          699218.75
         ]
        },
        {
         "marker": {
          "color": "rgba(255, 153, 51, 0.9024390243902438)",
          "line": {
           "width": 1.3
          },
          "opacity": 0.8,
          "size": 12,
          "symbol": "circle"
         },
         "mode": "markers",
         "name": "Burkina Faso",
         "textfont": {
          "color": "#4D5663"
         },
         "type": "scatter",
         "uid": "69bd3dcf-6ef0-4917-a148-38d08040f01a",
         "x": [
          68.5625
         ],
         "y": [
          2887500
         ]
        },
        {
         "marker": {
          "color": "rgba(55, 128, 191, 0.9024390243902438)",
          "line": {
           "width": 1.3
          },
          "opacity": 0.8,
          "size": 12,
          "symbol": "circle"
         },
         "mode": "markers",
         "name": "Burundi",
         "textfont": {
          "color": "#4D5663"
         },
         "type": "scatter",
         "uid": "22dd7a08-3580-414c-bca6-5ebb0d163b28",
         "x": [
          62.333333333333336
         ],
         "y": [
          1268333.3333333333
         ]
        },
        {
         "marker": {
          "color": "rgba(50, 171, 96, 0.9024390243902438)",
          "line": {
           "width": 1.3
          },
          "opacity": 0.8,
          "size": 12,
          "symbol": "circle"
         },
         "mode": "markers",
         "name": "Cameroon",
         "textfont": {
          "color": "#4D5663"
         },
         "type": "scatter",
         "uid": "b45c691b-d262-49bb-aa1f-847c24d7b36e",
         "x": [
          67.9888888888889
         ],
         "y": [
          2636111.111111111
         ]
        },
        {
         "marker": {
          "color": "rgba(128, 0, 128, 0.9024390243902438)",
          "line": {
           "width": 1.3
          },
          "opacity": 0.8,
          "size": 12,
          "symbol": "circle"
         },
         "mode": "markers",
         "name": "Canada",
         "textfont": {
          "color": "#4D5663"
         },
         "type": "scatter",
         "uid": "6c7a113a-5463-4cce-b9ab-a03d6d3371b3",
         "x": [
          62.9375
         ],
         "y": [
          925937.5
         ]
        },
        {
         "marker": {
          "color": "rgba(219, 64, 82, 0.9024390243902438)",
          "line": {
           "width": 1.3
          },
          "opacity": 0.8,
          "size": 12,
          "symbol": "circle"
         },
         "mode": "markers",
         "name": "Cape Verde",
         "textfont": {
          "color": "#4D5663"
         },
         "type": "scatter",
         "uid": "c68d59a2-14c3-4116-8923-b8c8e6a1a3fb",
         "x": [
          71.63157894736842
         ],
         "y": [
          4426578.947368421
         ]
        },
        {
         "marker": {
          "color": "rgba(0, 128, 128, 0.9024390243902438)",
          "line": {
           "width": 1.3
          },
          "opacity": 0.8,
          "size": 12,
          "symbol": "circle"
         },
         "mode": "markers",
         "name": "Central African Rep.",
         "textfont": {
          "color": "#4D5663"
         },
         "type": "scatter",
         "uid": "c6c4309e-b57a-49d4-a480-99c027388152",
         "x": [
          73.33333333333333
         ],
         "y": [
          10050000
         ]
        },
        {
         "marker": {
          "color": "rgba(255, 255, 51, 0.9024390243902438)",
          "line": {
           "width": 1.3
          },
          "opacity": 0.8,
          "size": 12,
          "symbol": "circle"
         },
         "mode": "markers",
         "name": "Chad",
         "textfont": {
          "color": "#4D5663"
         },
         "type": "scatter",
         "uid": "5448a93d-63bb-49a5-9d65-07b48036a0e1",
         "x": [
          70
         ],
         "y": [
          3400000
         ]
        },
        {
         "marker": {
          "color": "rgba(128, 128, 0, 0.9024390243902438)",
          "line": {
           "width": 1.3
          },
          "opacity": 0.8,
          "size": 12,
          "symbol": "circle"
         },
         "mode": "markers",
         "name": "Chile",
         "textfont": {
          "color": "#4D5663"
         },
         "type": "scatter",
         "uid": "32fd9647-b6c1-426d-a20a-1289e0acdbb0",
         "x": [
          65.01546391752578
         ],
         "y": [
          1351198.4536082475
         ]
        },
        {
         "marker": {
          "color": "rgba(128, 128, 0, 0.853658536585366)",
          "line": {
           "width": 1.3
          },
          "opacity": 0.8,
          "size": 12,
          "symbol": "circle"
         },
         "mode": "markers",
         "name": "China PR",
         "textfont": {
          "color": "#4D5663"
         },
         "type": "scatter",
         "uid": "542bc1b1-30af-4895-8e8a-68bedbccf84c",
         "x": [
          59.9
         ],
         "y": [
          355769.23076923075
         ]
        },
        {
         "marker": {
          "color": "rgba(251, 128, 114, 0.853658536585366)",
          "line": {
           "width": 1.3
          },
          "opacity": 0.8,
          "size": 12,
          "symbol": "circle"
         },
         "mode": "markers",
         "name": "Colombia",
         "textfont": {
          "color": "#4D5663"
         },
         "type": "scatter",
         "uid": "8df7d777-d4e9-49e8-bd30-864293d83ddc",
         "x": [
          65.58766233766234
         ],
         "y": [
          1790405.844155844
         ]
        },
        {
         "marker": {
          "color": "rgba(128, 177, 211, 0.853658536585366)",
          "line": {
           "width": 1.3
          },
          "opacity": 0.8,
          "size": 12,
          "symbol": "circle"
         },
         "mode": "markers",
         "name": "Comoros",
         "textfont": {
          "color": "#4D5663"
         },
         "type": "scatter",
         "uid": "c27d0ea6-b19c-47f0-9b09-a8e1b2e5d4df",
         "x": [
          67.5
         ],
         "y": [
          1391666.6666666667
         ]
        },
        {
         "marker": {
          "color": "rgba(255, 153, 51, 0.853658536585366)",
          "line": {
           "width": 1.3
          },
          "opacity": 0.8,
          "size": 12,
          "symbol": "circle"
         },
         "mode": "markers",
         "name": "Congo",
         "textfont": {
          "color": "#4D5663"
         },
         "type": "scatter",
         "uid": "4f56ad63-fd16-442f-b25f-fb746f30c3b6",
         "x": [
          63.92
         ],
         "y": [
          978400
         ]
        },
        {
         "marker": {
          "color": "rgba(55, 128, 191, 0.853658536585366)",
          "line": {
           "width": 1.3
          },
          "opacity": 0.8,
          "size": 12,
          "symbol": "circle"
         },
         "mode": "markers",
         "name": "Costa Rica",
         "textfont": {
          "color": "#4D5663"
         },
         "type": "scatter",
         "uid": "b4509480-11dd-4e43-a69b-61210ea44c89",
         "x": [
          68.86666666666666
         ],
         "y": [
          2910666.6666666665
         ]
        },
        {
         "marker": {
          "color": "rgba(50, 171, 96, 0.853658536585366)",
          "line": {
           "width": 1.3
          },
          "opacity": 0.8,
          "size": 12,
          "symbol": "circle"
         },
         "mode": "markers",
         "name": "Croatia",
         "textfont": {
          "color": "#4D5663"
         },
         "type": "scatter",
         "uid": "c4f11ab9-dd42-40cb-a5b4-857380617892",
         "x": [
          69.56349206349206
         ],
         "y": [
          5223849.206349206
         ]
        },
        {
         "marker": {
          "color": "rgba(128, 0, 128, 0.853658536585366)",
          "line": {
           "width": 1.3
          },
          "opacity": 0.8,
          "size": 12,
          "symbol": "circle"
         },
         "mode": "markers",
         "name": "Cuba",
         "textfont": {
          "color": "#4D5663"
         },
         "type": "scatter",
         "uid": "767fb064-8f2a-4d4f-bb6d-e8e9ae62d5b3",
         "x": [
          66
         ],
         "y": [
          1487500
         ]
        },
        {
         "marker": {
          "color": "rgba(219, 64, 82, 0.853658536585366)",
          "line": {
           "width": 1.3
          },
          "opacity": 0.8,
          "size": 12,
          "symbol": "circle"
         },
         "mode": "markers",
         "name": "Curacao",
         "textfont": {
          "color": "#4D5663"
         },
         "type": "scatter",
         "uid": "28eaa406-5d14-4dc1-a027-ed28506862ff",
         "x": [
          67.57142857142857
         ],
         "y": [
          1648571.4285714286
         ]
        },
        {
         "marker": {
          "color": "rgba(0, 128, 128, 0.853658536585366)",
          "line": {
           "width": 1.3
          },
          "opacity": 0.8,
          "size": 12,
          "symbol": "circle"
         },
         "mode": "markers",
         "name": "Cyprus",
         "textfont": {
          "color": "#4D5663"
         },
         "type": "scatter",
         "uid": "05b879f7-5504-4890-812a-fd7478b8bfce",
         "x": [
          64.125
         ],
         "y": [
          1238125
         ]
        },
        {
         "marker": {
          "color": "rgba(255, 255, 51, 0.853658536585366)",
          "line": {
           "width": 1.3
          },
          "opacity": 0.8,
          "size": 12,
          "symbol": "circle"
         },
         "mode": "markers",
         "name": "Czech Republic",
         "textfont": {
          "color": "#4D5663"
         },
         "type": "scatter",
         "uid": "6f63eb6f-6e72-4e72-922c-7571bf805cdd",
         "x": [
          69.51
         ],
         "y": [
          2837200
         ]
        },
        {
         "marker": {
          "color": "rgba(255, 255, 51, 0.8048780487804879)",
          "line": {
           "width": 1.3
          },
          "opacity": 0.8,
          "size": 12,
          "symbol": "circle"
         },
         "mode": "markers",
         "name": "DR Congo",
         "textfont": {
          "color": "#4D5663"
         },
         "type": "scatter",
         "uid": "db84adda-74d3-4706-9ec1-383be738c71e",
         "x": [
          69.21153846153847
         ],
         "y": [
          3160480.769230769
         ]
        },
        {
         "marker": {
          "color": "rgba(128, 128, 0, 0.8048780487804879)",
          "line": {
           "width": 1.3
          },
          "opacity": 0.8,
          "size": 12,
          "symbol": "circle"
         },
         "mode": "markers",
         "name": "Denmark",
         "textfont": {
          "color": "#4D5663"
         },
         "type": "scatter",
         "uid": "2dfc4a4a-a536-4b4f-9cab-d0b2439a8e9f",
         "x": [
          63.722388059701494
         ],
         "y": [
          1792000
         ]
        },
        {
         "marker": {
          "color": "rgba(251, 128, 114, 0.8048780487804879)",
          "line": {
           "width": 1.3
          },
          "opacity": 0.8,
          "size": 12,
          "symbol": "circle"
         },
         "mode": "markers",
         "name": "Dominican Republic",
         "textfont": {
          "color": "#4D5663"
         },
         "type": "scatter",
         "uid": "f1b528da-0b7f-4a2d-a4f8-beae7ad04d66",
         "x": [
          72
         ],
         "y": [
          10400000
         ]
        },
        {
         "marker": {
          "color": "rgba(128, 177, 211, 0.8048780487804879)",
          "line": {
           "width": 1.3
          },
          "opacity": 0.8,
          "size": 12,
          "symbol": "circle"
         },
         "mode": "markers",
         "name": "Ecuador",
         "textfont": {
          "color": "#4D5663"
         },
         "type": "scatter",
         "uid": "07812e86-4b63-46bf-a5ad-8c7251fabb99",
         "x": [
          68.79069767441861
         ],
         "y": [
          1987790.6976744186
         ]
        },
        {
         "marker": {
          "color": "rgba(255, 153, 51, 0.8048780487804879)",
          "line": {
           "width": 1.3
          },
          "opacity": 0.8,
          "size": 12,
          "symbol": "circle"
         },
         "mode": "markers",
         "name": "Egypt",
         "textfont": {
          "color": "#4D5663"
         },
         "type": "scatter",
         "uid": "efb0e5ea-ad34-4f1b-ab4b-ac54208740fd",
         "x": [
          70.2258064516129
         ],
         "y": [
          4295967.741935484
         ]
        },
        {
         "marker": {
          "color": "rgba(55, 128, 191, 0.8048780487804879)",
          "line": {
           "width": 1.3
          },
          "opacity": 0.8,
          "size": 12,
          "symbol": "circle"
         },
         "mode": "markers",
         "name": "El Salvador",
         "textfont": {
          "color": "#4D5663"
         },
         "type": "scatter",
         "uid": "1bd5ac10-9fd0-4af4-8d95-3ae9d39e1ceb",
         "x": [
          66
         ],
         "y": [
          795000
         ]
        },
        {
         "marker": {
          "color": "rgba(50, 171, 96, 0.8048780487804879)",
          "line": {
           "width": 1.3
          },
          "opacity": 0.8,
          "size": 12,
          "symbol": "circle"
         },
         "mode": "markers",
         "name": "England",
         "textfont": {
          "color": "#4D5663"
         },
         "type": "scatter",
         "uid": "3b6b2792-6260-4bd8-8995-468939e62cb3",
         "x": [
          63.43391671695836
         ],
         "y": [
          1502202.776101388
         ]
        },
        {
         "marker": {
          "color": "rgba(128, 0, 128, 0.8048780487804879)",
          "line": {
           "width": 1.3
          },
          "opacity": 0.8,
          "size": 12,
          "symbol": "circle"
         },
         "mode": "markers",
         "name": "Equatorial Guinea",
         "textfont": {
          "color": "#4D5663"
         },
         "type": "scatter",
         "uid": "ef420652-54c7-47e8-927d-796abe6aa75f",
         "x": [
          70
         ],
         "y": [
          2790000
         ]
        },
        {
         "marker": {
          "color": "rgba(219, 64, 82, 0.8048780487804879)",
          "line": {
           "width": 1.3
          },
          "opacity": 0.8,
          "size": 12,
          "symbol": "circle"
         },
         "mode": "markers",
         "name": "Eritrea",
         "textfont": {
          "color": "#4D5663"
         },
         "type": "scatter",
         "uid": "90b3c272-1ce5-4365-a4b4-02960f5e3026",
         "x": [
          67.5
         ],
         "y": [
          1237500
         ]
        },
        {
         "marker": {
          "color": "rgba(0, 128, 128, 0.8048780487804879)",
          "line": {
           "width": 1.3
          },
          "opacity": 0.8,
          "size": 12,
          "symbol": "circle"
         },
         "mode": "markers",
         "name": "Estonia",
         "textfont": {
          "color": "#4D5663"
         },
         "type": "scatter",
         "uid": "b79d6c47-b7fe-430b-93c8-a0caa2a8ade6",
         "x": [
          65.16666666666667
         ],
         "y": [
          825000
         ]
        },
        {
         "marker": {
          "color": "rgba(0, 128, 128, 0.7560975609756098)",
          "line": {
           "width": 1.3
          },
          "opacity": 0.8,
          "size": 12,
          "symbol": "circle"
         },
         "mode": "markers",
         "name": "Ethiopia",
         "textfont": {
          "color": "#4D5663"
         },
         "type": "scatter",
         "uid": "5ad715a5-6378-4c9c-a1cd-1695bcfeabde",
         "x": [
          64
         ],
         "y": [
          250000
         ]
        },
        {
         "marker": {
          "color": "rgba(255, 255, 51, 0.7560975609756098)",
          "line": {
           "width": 1.3
          },
          "opacity": 0.8,
          "size": 12,
          "symbol": "circle"
         },
         "mode": "markers",
         "name": "FYR Macedonia",
         "textfont": {
          "color": "#4D5663"
         },
         "type": "scatter",
         "uid": "6a59be9d-70c4-4932-b350-3b696495abd5",
         "x": [
          68
         ],
         "y": [
          2778750
         ]
        },
        {
         "marker": {
          "color": "rgba(128, 128, 0, 0.7560975609756098)",
          "line": {
           "width": 1.3
          },
          "opacity": 0.8,
          "size": 12,
          "symbol": "circle"
         },
         "mode": "markers",
         "name": "Faroe Islands",
         "textfont": {
          "color": "#4D5663"
         },
         "type": "scatter",
         "uid": "bc0afd7a-998d-41c3-9a81-5aba8fe2fb52",
         "x": [
          62.5
         ],
         "y": [
          526666.6666666666
         ]
        },
        {
         "marker": {
          "color": "rgba(251, 128, 114, 0.7560975609756098)",
          "line": {
           "width": 1.3
          },
          "opacity": 0.8,
          "size": 12,
          "symbol": "circle"
         },
         "mode": "markers",
         "name": "Fiji",
         "textfont": {
          "color": "#4D5663"
         },
         "type": "scatter",
         "uid": "3d07ccbf-da61-4945-bd4a-63cba028b374",
         "x": [
          71
         ],
         "y": [
          2300000
         ]
        },
        {
         "marker": {
          "color": "rgba(128, 177, 211, 0.7560975609756098)",
          "line": {
           "width": 1.3
          },
          "opacity": 0.8,
          "size": 12,
          "symbol": "circle"
         },
         "mode": "markers",
         "name": "Finland",
         "textfont": {
          "color": "#4D5663"
         },
         "type": "scatter",
         "uid": "e457c445-4d6a-4028-809f-7207fac2c7a2",
         "x": [
          64.02985074626865
         ],
         "y": [
          1454477.6119402985
         ]
        },
        {
         "marker": {
          "color": "rgba(255, 153, 51, 0.7560975609756098)",
          "line": {
           "width": 1.3
          },
          "opacity": 0.8,
          "size": 12,
          "symbol": "circle"
         },
         "mode": "markers",
         "name": "France",
         "textfont": {
          "color": "#4D5663"
         },
         "type": "scatter",
         "uid": "3310e4a7-2a4a-4449-90ce-486bfd734042",
         "x": [
          67.81778265642151
         ],
         "y": [
          3690428.100987925
         ]
        },
        {
         "marker": {
          "color": "rgba(55, 128, 191, 0.7560975609756098)",
          "line": {
           "width": 1.3
          },
          "opacity": 0.8,
          "size": 12,
          "symbol": "circle"
         },
         "mode": "markers",
         "name": "Gabon",
         "textfont": {
          "color": "#4D5663"
         },
         "type": "scatter",
         "uid": "e9226bb7-3260-4837-a90e-1ee2abd72fdb",
         "x": [
          69.46666666666667
         ],
         "y": [
          6628333.333333333
         ]
        },
        {
         "marker": {
          "color": "rgba(50, 171, 96, 0.7560975609756098)",
          "line": {
           "width": 1.3
          },
          "opacity": 0.8,
          "size": 12,
          "symbol": "circle"
         },
         "mode": "markers",
         "name": "Gambia",
         "textfont": {
          "color": "#4D5663"
         },
         "type": "scatter",
         "uid": "20f285f9-b63f-4473-a8e8-715ab9a977c6",
         "x": [
          67.2
         ],
         "y": [
          2031333.3333333333
         ]
        },
        {
         "marker": {
          "color": "rgba(128, 0, 128, 0.7560975609756098)",
          "line": {
           "width": 1.3
          },
          "opacity": 0.8,
          "size": 12,
          "symbol": "circle"
         },
         "mode": "markers",
         "name": "Georgia",
         "textfont": {
          "color": "#4D5663"
         },
         "type": "scatter",
         "uid": "bab43024-2017-4cad-800a-e6adc2baa895",
         "x": [
          68.34615384615384
         ],
         "y": [
          2268461.5384615385
         ]
        },
        {
         "marker": {
          "color": "rgba(219, 64, 82, 0.7560975609756098)",
          "line": {
           "width": 1.3
          },
          "opacity": 0.8,
          "size": 12,
          "symbol": "circle"
         },
         "mode": "markers",
         "name": "Germany",
         "textfont": {
          "color": "#4D5663"
         },
         "type": "scatter",
         "uid": "8d8d88f6-c843-474e-a3b7-31a4ab2acaa5",
         "x": [
          66.09707112970712
         ],
         "y": [
          2534652.719665272
         ]
        },
        {
         "marker": {
          "color": "rgba(219, 64, 82, 0.7073170731707317)",
          "line": {
           "width": 1.3
          },
          "opacity": 0.8,
          "size": 12,
          "symbol": "circle"
         },
         "mode": "markers",
         "name": "Ghana",
         "textfont": {
          "color": "#4D5663"
         },
         "type": "scatter",
         "uid": "02ff6b44-e6d0-40f8-adb7-5abfd2b597b2",
         "x": [
          67.04385964912281
         ],
         "y": [
          2551447.3684210526
         ]
        },
        {
         "marker": {
          "color": "rgba(0, 128, 128, 0.7073170731707317)",
          "line": {
           "width": 1.3
          },
          "opacity": 0.8,
          "size": 12,
          "symbol": "circle"
         },
         "mode": "markers",
         "name": "Greece",
         "textfont": {
          "color": "#4D5663"
         },
         "type": "scatter",
         "uid": "5bf03bd8-d02b-4b08-9d6f-befde9949854",
         "x": [
          69.06862745098039
         ],
         "y": [
          3034264.705882353
         ]
        },
        {
         "marker": {
          "color": "rgba(255, 255, 51, 0.7073170731707317)",
          "line": {
           "width": 1.3
          },
          "opacity": 0.8,
          "size": 12,
          "symbol": "circle"
         },
         "mode": "markers",
         "name": "Grenada",
         "textfont": {
          "color": "#4D5663"
         },
         "type": "scatter",
         "uid": "428e7346-40fc-4ce0-b371-ddcddc8d8dca",
         "x": [
          63
         ],
         "y": [
          425000
         ]
        },
        {
         "marker": {
          "color": "rgba(128, 128, 0, 0.7073170731707317)",
          "line": {
           "width": 1.3
          },
          "opacity": 0.8,
          "size": 12,
          "symbol": "circle"
         },
         "mode": "markers",
         "name": "Guam",
         "textfont": {
          "color": "#4D5663"
         },
         "type": "scatter",
         "uid": "ff9f2e1e-916a-4425-89e4-4ff63d3ce103",
         "x": [
          67
         ],
         "y": [
          550000
         ]
        },
        {
         "marker": {
          "color": "rgba(251, 128, 114, 0.7073170731707317)",
          "line": {
           "width": 1.3
          },
          "opacity": 0.8,
          "size": 12,
          "symbol": "circle"
         },
         "mode": "markers",
         "name": "Guatemala",
         "textfont": {
          "color": "#4D5663"
         },
         "type": "scatter",
         "uid": "e6cf2bca-47ae-41c5-87d8-16312d4b4d32",
         "x": [
          63.666666666666664
         ],
         "y": [
          415000
         ]
        },
        {
         "marker": {
          "color": "rgba(128, 177, 211, 0.7073170731707317)",
          "line": {
           "width": 1.3
          },
          "opacity": 0.8,
          "size": 12,
          "symbol": "circle"
         },
         "mode": "markers",
         "name": "Guinea",
         "textfont": {
          "color": "#4D5663"
         },
         "type": "scatter",
         "uid": "9b20884d-4d6f-4693-918d-861c909ef38d",
         "x": [
          68.12903225806451
         ],
         "y": [
          3423064.5161290322
         ]
        },
        {
         "marker": {
          "color": "rgba(255, 153, 51, 0.7073170731707317)",
          "line": {
           "width": 1.3
          },
          "opacity": 0.8,
          "size": 12,
          "symbol": "circle"
         },
         "mode": "markers",
         "name": "Guinea Bissau",
         "textfont": {
          "color": "#4D5663"
         },
         "type": "scatter",
         "uid": "7063d5ef-4a9a-4eb9-b1bf-0041d61be7ae",
         "x": [
          67.26666666666667
         ],
         "y": [
          2221333.3333333335
         ]
        },
        {
         "marker": {
          "color": "rgba(55, 128, 191, 0.7073170731707317)",
          "line": {
           "width": 1.3
          },
          "opacity": 0.8,
          "size": 12,
          "symbol": "circle"
         },
         "mode": "markers",
         "name": "Guyana",
         "textfont": {
          "color": "#4D5663"
         },
         "type": "scatter",
         "uid": "d11999c9-44da-471f-bc9f-5feacb48ea33",
         "x": [
          61.666666666666664
         ],
         "y": [
          276666.6666666667
         ]
        },
        {
         "marker": {
          "color": "rgba(50, 171, 96, 0.7073170731707317)",
          "line": {
           "width": 1.3
          },
          "opacity": 0.8,
          "size": 12,
          "symbol": "circle"
         },
         "mode": "markers",
         "name": "Haiti",
         "textfont": {
          "color": "#4D5663"
         },
         "type": "scatter",
         "uid": "ba017079-c07e-4348-ab9f-4998f0cb36a0",
         "x": [
          63.4
         ],
         "y": [
          928500
         ]
        },
        {
         "marker": {
          "color": "rgba(128, 0, 128, 0.7073170731707317)",
          "line": {
           "width": 1.3
          },
          "opacity": 0.8,
          "size": 12,
          "symbol": "circle"
         },
         "mode": "markers",
         "name": "Honduras",
         "textfont": {
          "color": "#4D5663"
         },
         "type": "scatter",
         "uid": "6a52f780-a213-42f6-b235-a3093a4a9ec8",
         "x": [
          69.1875
         ],
         "y": [
          2527187.5
         ]
        },
        {
         "marker": {
          "color": "rgba(128, 0, 128, 0.6585365853658538)",
          "line": {
           "width": 1.3
          },
          "opacity": 0.8,
          "size": 12,
          "symbol": "circle"
         },
         "mode": "markers",
         "name": "Hong Kong",
         "textfont": {
          "color": "#4D5663"
         },
         "type": "scatter",
         "uid": "8fec414c-28b0-4136-8888-808c25b667f9",
         "x": [
          60.5
         ],
         "y": [
          145000
         ]
        },
        {
         "marker": {
          "color": "rgba(219, 64, 82, 0.6585365853658538)",
          "line": {
           "width": 1.3
          },
          "opacity": 0.8,
          "size": 12,
          "symbol": "circle"
         },
         "mode": "markers",
         "name": "Hungary",
         "textfont": {
          "color": "#4D5663"
         },
         "type": "scatter",
         "uid": "8057ade1-7c6b-4951-9d06-a5f8f21adec4",
         "x": [
          69.23684210526316
         ],
         "y": [
          1897500
         ]
        },
        {
         "marker": {
          "color": "rgba(0, 128, 128, 0.6585365853658538)",
          "line": {
           "width": 1.3
          },
          "opacity": 0.8,
          "size": 12,
          "symbol": "circle"
         },
         "mode": "markers",
         "name": "Iceland",
         "textfont": {
          "color": "#4D5663"
         },
         "type": "scatter",
         "uid": "e382696a-5cf8-49d3-a0c3-69bfd9c21dd2",
         "x": [
          66.8936170212766
         ],
         "y": [
          1638723.4042553192
         ]
        },
        {
         "marker": {
          "color": "rgba(255, 255, 51, 0.6585365853658538)",
          "line": {
           "width": 1.3
          },
          "opacity": 0.8,
          "size": 12,
          "symbol": "circle"
         },
         "mode": "markers",
         "name": "India",
         "textfont": {
          "color": "#4D5663"
         },
         "type": "scatter",
         "uid": "ad0b104e-b1bb-49e1-b08b-8554d9cb9c51",
         "x": [
          58.666666666666664
         ],
         "y": [
          0
         ]
        },
        {
         "marker": {
          "color": "rgba(128, 128, 0, 0.6585365853658538)",
          "line": {
           "width": 1.3
          },
          "opacity": 0.8,
          "size": 12,
          "symbol": "circle"
         },
         "mode": "markers",
         "name": "Indonesia",
         "textfont": {
          "color": "#4D5663"
         },
         "type": "scatter",
         "uid": "584aee7b-5fae-43f8-9736-30ae70261733",
         "x": [
          56
         ],
         "y": [
          180000
         ]
        },
        {
         "marker": {
          "color": "rgba(251, 128, 114, 0.6585365853658538)",
          "line": {
           "width": 1.3
          },
          "opacity": 0.8,
          "size": 12,
          "symbol": "circle"
         },
         "mode": "markers",
         "name": "Iran",
         "textfont": {
          "color": "#4D5663"
         },
         "type": "scatter",
         "uid": "e108310d-0059-4f7f-8aac-ddacefd13541",
         "x": [
          68.82352941176471
         ],
         "y": [
          2627941.1764705884
         ]
        },
        {
         "marker": {
          "color": "rgba(128, 177, 211, 0.6585365853658538)",
          "line": {
           "width": 1.3
          },
          "opacity": 0.8,
          "size": 12,
          "symbol": "circle"
         },
         "mode": "markers",
         "name": "Iraq",
         "textfont": {
          "color": "#4D5663"
         },
         "type": "scatter",
         "uid": "3940e70c-a819-4bb4-82c2-1299dd3e1545",
         "x": [
          67
         ],
         "y": [
          1732857.142857143
         ]
        },
        {
         "marker": {
          "color": "rgba(255, 153, 51, 0.6585365853658538)",
          "line": {
           "width": 1.3
          },
          "opacity": 0.8,
          "size": 12,
          "symbol": "circle"
         },
         "mode": "markers",
         "name": "Israel",
         "textfont": {
          "color": "#4D5663"
         },
         "type": "scatter",
         "uid": "c2ae86b0-02ba-44be-a75c-10018e5e14fc",
         "x": [
          72.14285714285714
         ],
         "y": [
          4191071.4285714286
         ]
        },
        {
         "marker": {
          "color": "rgba(55, 128, 191, 0.6585365853658538)",
          "line": {
           "width": 1.3
          },
          "opacity": 0.8,
          "size": 12,
          "symbol": "circle"
         },
         "mode": "markers",
         "name": "Italy",
         "textfont": {
          "color": "#4D5663"
         },
         "type": "scatter",
         "uid": "e060c0b4-71c5-4e0e-8dcb-b3dd25eedac0",
         "x": [
          68.18454935622317
         ],
         "y": [
          3059077.253218884
         ]
        },
        {
         "marker": {
          "color": "rgba(50, 171, 96, 0.6585365853658538)",
          "line": {
           "width": 1.3
          },
          "opacity": 0.8,
          "size": 12,
          "symbol": "circle"
         },
         "mode": "markers",
         "name": "Ivory Coast",
         "textfont": {
          "color": "#4D5663"
         },
         "type": "scatter",
         "uid": "31f3faeb-8f2b-4c51-908c-7a65601c21ad",
         "x": [
          69.39
         ],
         "y": [
          3460200
         ]
        },
        {
         "marker": {
          "color": "rgba(50, 171, 96, 0.6097560975609757)",
          "line": {
           "width": 1.3
          },
          "opacity": 0.8,
          "size": 12,
          "symbol": "circle"
         },
         "mode": "markers",
         "name": "Jamaica",
         "textfont": {
          "color": "#4D5663"
         },
         "type": "scatter",
         "uid": "7aff1299-5717-4a4d-852c-30c39e70ed99",
         "x": [
          66.625
         ],
         "y": [
          1901406.25
         ]
        },
        {
         "marker": {
          "color": "rgba(128, 0, 128, 0.6097560975609757)",
          "line": {
           "width": 1.3
          },
          "opacity": 0.8,
          "size": 12,
          "symbol": "circle"
         },
         "mode": "markers",
         "name": "Japan",
         "textfont": {
          "color": "#4D5663"
         },
         "type": "scatter",
         "uid": "830d6c3f-f250-4424-a4ee-3643cdbd04de",
         "x": [
          62.62133891213389
         ],
         "y": [
          831422.5941422594
         ]
        },
        {
         "marker": {
          "color": "rgba(219, 64, 82, 0.6097560975609757)",
          "line": {
           "width": 1.3
          },
          "opacity": 0.8,
          "size": 12,
          "symbol": "circle"
         },
         "mode": "markers",
         "name": "Jordan",
         "textfont": {
          "color": "#4D5663"
         },
         "type": "scatter",
         "uid": "e327d097-88b6-4577-9312-0a3b71b01576",
         "x": [
          63
         ],
         "y": [
          425000
         ]
        },
        {
         "marker": {
          "color": "rgba(0, 128, 128, 0.6097560975609757)",
          "line": {
           "width": 1.3
          },
          "opacity": 0.8,
          "size": 12,
          "symbol": "circle"
         },
         "mode": "markers",
         "name": "Kazakhstan",
         "textfont": {
          "color": "#4D5663"
         },
         "type": "scatter",
         "uid": "fa7d64c7-dd73-4296-aa15-ce5fdde81b98",
         "x": [
          64.75
         ],
         "y": [
          587500
         ]
        },
        {
         "marker": {
          "color": "rgba(255, 255, 51, 0.6097560975609757)",
          "line": {
           "width": 1.3
          },
          "opacity": 0.8,
          "size": 12,
          "symbol": "circle"
         },
         "mode": "markers",
         "name": "Kenya",
         "textfont": {
          "color": "#4D5663"
         },
         "type": "scatter",
         "uid": "4885e17f-6093-4dd7-862b-b05c64d2249c",
         "x": [
          65.4
         ],
         "y": [
          2261000
         ]
        },
        {
         "marker": {
          "color": "rgba(128, 128, 0, 0.6097560975609757)",
          "line": {
           "width": 1.3
          },
          "opacity": 0.8,
          "size": 12,
          "symbol": "circle"
         },
         "mode": "markers",
         "name": "Korea DPR",
         "textfont": {
          "color": "#4D5663"
         },
         "type": "scatter",
         "uid": "0e9bb57e-b2ce-4d80-81a8-41d3bda7ace2",
         "x": [
          65.5
         ],
         "y": [
          950000
         ]
        },
        {
         "marker": {
          "color": "rgba(251, 128, 114, 0.6097560975609757)",
          "line": {
           "width": 1.3
          },
          "opacity": 0.8,
          "size": 12,
          "symbol": "circle"
         },
         "mode": "markers",
         "name": "Korea Republic",
         "textfont": {
          "color": "#4D5663"
         },
         "type": "scatter",
         "uid": "82bcebff-ca63-4ecf-904e-0ce69f04d4b7",
         "x": [
          64.1951951951952
         ],
         "y": [
          874159.1591591592
         ]
        },
        {
         "marker": {
          "color": "rgba(128, 177, 211, 0.6097560975609757)",
          "line": {
           "width": 1.3
          },
          "opacity": 0.8,
          "size": 12,
          "symbol": "circle"
         },
         "mode": "markers",
         "name": "Kosovo",
         "textfont": {
          "color": "#4D5663"
         },
         "type": "scatter",
         "uid": "a4b715ca-3590-4e58-b2b1-d9b2d3088668",
         "x": [
          66.03030303030303
         ],
         "y": [
          1842424.2424242424
         ]
        },
        {
         "marker": {
          "color": "rgba(255, 153, 51, 0.6097560975609757)",
          "line": {
           "width": 1.3
          },
          "opacity": 0.8,
          "size": 12,
          "symbol": "circle"
         },
         "mode": "markers",
         "name": "Kuwait",
         "textfont": {
          "color": "#4D5663"
         },
         "type": "scatter",
         "uid": "7d3058c7-f089-44ad-a50b-49ab4f6a2d23",
         "x": [
          70
         ],
         "y": [
          1200000
         ]
        },
        {
         "marker": {
          "color": "rgba(55, 128, 191, 0.6097560975609757)",
          "line": {
           "width": 1.3
          },
          "opacity": 0.8,
          "size": 12,
          "symbol": "circle"
         },
         "mode": "markers",
         "name": "Latvia",
         "textfont": {
          "color": "#4D5663"
         },
         "type": "scatter",
         "uid": "85c2eb9d-69ed-4a6e-aaf3-cb146e19d141",
         "x": [
          63.166666666666664
         ],
         "y": [
          445833.3333333333
         ]
        },
        {
         "marker": {
          "color": "rgba(55, 128, 191, 0.5609756097560976)",
          "line": {
           "width": 1.3
          },
          "opacity": 0.8,
          "size": 12,
          "symbol": "circle"
         },
         "mode": "markers",
         "name": "Lebanon",
         "textfont": {
          "color": "#4D5663"
         },
         "type": "scatter",
         "uid": "0d1991db-8dcc-4b5b-88f1-858df7cea2be",
         "x": [
          66
         ],
         "y": [
          500000
         ]
        },
        {
         "marker": {
          "color": "rgba(50, 171, 96, 0.5609756097560976)",
          "line": {
           "width": 1.3
          },
          "opacity": 0.8,
          "size": 12,
          "symbol": "circle"
         },
         "mode": "markers",
         "name": "Liberia",
         "textfont": {
          "color": "#4D5663"
         },
         "type": "scatter",
         "uid": "fd8107a3-c0fc-4db7-9b04-ea923422d286",
         "x": [
          68
         ],
         "y": [
          1200000
         ]
        },
        {
         "marker": {
          "color": "rgba(128, 0, 128, 0.5609756097560976)",
          "line": {
           "width": 1.3
          },
          "opacity": 0.8,
          "size": 12,
          "symbol": "circle"
         },
         "mode": "markers",
         "name": "Libya",
         "textfont": {
          "color": "#4D5663"
         },
         "type": "scatter",
         "uid": "0bc902e8-7d62-4dc8-8423-00aa12af8b7a",
         "x": [
          70
         ],
         "y": [
          2400000
         ]
        },
        {
         "marker": {
          "color": "rgba(219, 64, 82, 0.5609756097560976)",
          "line": {
           "width": 1.3
          },
          "opacity": 0.8,
          "size": 12,
          "symbol": "circle"
         },
         "mode": "markers",
         "name": "Liechtenstein",
         "textfont": {
          "color": "#4D5663"
         },
         "type": "scatter",
         "uid": "9fe3f989-b78a-4adb-809a-2cd00dd78a00",
         "x": [
          64.66666666666667
         ],
         "y": [
          1078333.3333333333
         ]
        },
        {
         "marker": {
          "color": "rgba(0, 128, 128, 0.5609756097560976)",
          "line": {
           "width": 1.3
          },
          "opacity": 0.8,
          "size": 12,
          "symbol": "circle"
         },
         "mode": "markers",
         "name": "Lithuania",
         "textfont": {
          "color": "#4D5663"
         },
         "type": "scatter",
         "uid": "aba44bd2-b4c8-429b-a59c-74ca9d0bbdcf",
         "x": [
          63.5
         ],
         "y": [
          875625
         ]
        },
        {
         "marker": {
          "color": "rgba(255, 255, 51, 0.5609756097560976)",
          "line": {
           "width": 1.3
          },
          "opacity": 0.8,
          "size": 12,
          "symbol": "circle"
         },
         "mode": "markers",
         "name": "Luxembourg",
         "textfont": {
          "color": "#4D5663"
         },
         "type": "scatter",
         "uid": "9507a698-713e-4385-bf99-f4f6b6c187ac",
         "x": [
          63.875
         ],
         "y": [
          853750
         ]
        },
        {
         "marker": {
          "color": "rgba(128, 128, 0, 0.5609756097560976)",
          "line": {
           "width": 1.3
          },
          "opacity": 0.8,
          "size": 12,
          "symbol": "circle"
         },
         "mode": "markers",
         "name": "Madagascar",
         "textfont": {
          "color": "#4D5663"
         },
         "type": "scatter",
         "uid": "70a0e9eb-7ce5-4b98-b76a-d758e9bc0d61",
         "x": [
          66.91666666666667
         ],
         "y": [
          1014166.6666666666
         ]
        },
        {
         "marker": {
          "color": "rgba(251, 128, 114, 0.5609756097560976)",
          "line": {
           "width": 1.3
          },
          "opacity": 0.8,
          "size": 12,
          "symbol": "circle"
         },
         "mode": "markers",
         "name": "Mali",
         "textfont": {
          "color": "#4D5663"
         },
         "type": "scatter",
         "uid": "843f9f08-6e70-496d-a9f4-975494370572",
         "x": [
          68.97674418604652
         ],
         "y": [
          2688372.093023256
         ]
        },
        {
         "marker": {
          "color": "rgba(128, 177, 211, 0.5609756097560976)",
          "line": {
           "width": 1.3
          },
          "opacity": 0.8,
          "size": 12,
          "symbol": "circle"
         },
         "mode": "markers",
         "name": "Malta",
         "textfont": {
          "color": "#4D5663"
         },
         "type": "scatter",
         "uid": "9d9c0172-f812-4ce9-ae37-ae6078faebd6",
         "x": [
          61
         ],
         "y": [
          300000
         ]
        },
        {
         "marker": {
          "color": "rgba(255, 153, 51, 0.5609756097560976)",
          "line": {
           "width": 1.3
          },
          "opacity": 0.8,
          "size": 12,
          "symbol": "circle"
         },
         "mode": "markers",
         "name": "Mauritania",
         "textfont": {
          "color": "#4D5663"
         },
         "type": "scatter",
         "uid": "7cb864e9-e0f0-4d7a-8aa4-e8fd627621e4",
         "x": [
          64.5
         ],
         "y": [
          600000
         ]
        },
        {
         "marker": {
          "color": "rgba(255, 153, 51, 0.5121951219512195)",
          "line": {
           "width": 1.3
          },
          "opacity": 0.8,
          "size": 12,
          "symbol": "circle"
         },
         "mode": "markers",
         "name": "Mauritius",
         "textfont": {
          "color": "#4D5663"
         },
         "type": "scatter",
         "uid": "a93d01f6-7b9c-48db-abbf-e67848ca2ec3",
         "x": [
          68
         ],
         "y": [
          875000
         ]
        },
        {
         "marker": {
          "color": "rgba(55, 128, 191, 0.5121951219512195)",
          "line": {
           "width": 1.3
          },
          "opacity": 0.8,
          "size": 12,
          "symbol": "circle"
         },
         "mode": "markers",
         "name": "Mexico",
         "textfont": {
          "color": "#4D5663"
         },
         "type": "scatter",
         "uid": "de27b6cf-5904-487d-9231-b184491bee80",
         "x": [
          65.42739726027398
         ],
         "y": [
          1687876.7123287672
         ]
        },
        {
         "marker": {
          "color": "rgba(50, 171, 96, 0.5121951219512195)",
          "line": {
           "width": 1.3
          },
          "opacity": 0.8,
          "size": 12,
          "symbol": "circle"
         },
         "mode": "markers",
         "name": "Moldova",
         "textfont": {
          "color": "#4D5663"
         },
         "type": "scatter",
         "uid": "9738ac7c-3345-4d1c-a4eb-25defa74d9ec",
         "x": [
          66.2
         ],
         "y": [
          2359000
         ]
        },
        {
         "marker": {
          "color": "rgba(128, 0, 128, 0.5121951219512195)",
          "line": {
           "width": 1.3
          },
          "opacity": 0.8,
          "size": 12,
          "symbol": "circle"
         },
         "mode": "markers",
         "name": "Montenegro",
         "textfont": {
          "color": "#4D5663"
         },
         "type": "scatter",
         "uid": "48eb3ffe-e0f0-4c93-b32d-5a5211ea1afa",
         "x": [
          68.47826086956522
         ],
         "y": [
          3405869.565217391
         ]
        },
        {
         "marker": {
          "color": "rgba(219, 64, 82, 0.5121951219512195)",
          "line": {
           "width": 1.3
          },
          "opacity": 0.8,
          "size": 12,
          "symbol": "circle"
         },
         "mode": "markers",
         "name": "Montserrat",
         "textfont": {
          "color": "#4D5663"
         },
         "type": "scatter",
         "uid": "3112004f-15d7-46bb-ab82-1b5546326893",
         "x": [
          64.75
         ],
         "y": [
          587500
         ]
        },
        {
         "marker": {
          "color": "rgba(0, 128, 128, 0.5121951219512195)",
          "line": {
           "width": 1.3
          },
          "opacity": 0.8,
          "size": 12,
          "symbol": "circle"
         },
         "mode": "markers",
         "name": "Morocco",
         "textfont": {
          "color": "#4D5663"
         },
         "type": "scatter",
         "uid": "3c9d75a2-5904-4693-9902-ce684c8403f9",
         "x": [
          69.94117647058823
         ],
         "y": [
          3948352.9411764704
         ]
        },
        {
         "marker": {
          "color": "rgba(255, 255, 51, 0.5121951219512195)",
          "line": {
           "width": 1.3
          },
          "opacity": 0.8,
          "size": 12,
          "symbol": "circle"
         },
         "mode": "markers",
         "name": "Mozambique",
         "textfont": {
          "color": "#4D5663"
         },
         "type": "scatter",
         "uid": "94fb7272-63ce-4ccb-8949-dc9842a33b80",
         "x": [
          71
         ],
         "y": [
          2850000
         ]
        },
        {
         "marker": {
          "color": "rgba(128, 128, 0, 0.5121951219512195)",
          "line": {
           "width": 1.3
          },
          "opacity": 0.8,
          "size": 12,
          "symbol": "circle"
         },
         "mode": "markers",
         "name": "Namibia",
         "textfont": {
          "color": "#4D5663"
         },
         "type": "scatter",
         "uid": "3e528a8a-aca6-433d-b0a4-95f1f881a803",
         "x": [
          66
         ],
         "y": [
          783333.3333333334
         ]
        },
        {
         "marker": {
          "color": "rgba(251, 128, 114, 0.5121951219512195)",
          "line": {
           "width": 1.3
          },
          "opacity": 0.8,
          "size": 12,
          "symbol": "circle"
         },
         "mode": "markers",
         "name": "Netherlands",
         "textfont": {
          "color": "#4D5663"
         },
         "type": "scatter",
         "uid": "9a7bcaa9-36d1-4000-9037-7faabf0378ff",
         "x": [
          67.66592920353982
         ],
         "y": [
          2875287.610619469
         ]
        },
        {
         "marker": {
          "color": "rgba(128, 177, 211, 0.5121951219512195)",
          "line": {
           "width": 1.3
          },
          "opacity": 0.8,
          "size": 12,
          "symbol": "circle"
         },
         "mode": "markers",
         "name": "New Caledonia",
         "textfont": {
          "color": "#4D5663"
         },
         "type": "scatter",
         "uid": "89afeb3a-192b-4931-a822-bb4fc3ee90f2",
         "x": [
          71
         ],
         "y": [
          1800000
         ]
        },
        {
         "marker": {
          "color": "rgba(128, 177, 211, 0.4634146341463417)",
          "line": {
           "width": 1.3
          },
          "opacity": 0.8,
          "size": 12,
          "symbol": "circle"
         },
         "mode": "markers",
         "name": "New Zealand",
         "textfont": {
          "color": "#4D5663"
         },
         "type": "scatter",
         "uid": "db6add54-2b84-4f94-a8b2-159a903189a4",
         "x": [
          62.61363636363637
         ],
         "y": [
          957727.2727272727
         ]
        },
        {
         "marker": {
          "color": "rgba(255, 153, 51, 0.4634146341463417)",
          "line": {
           "width": 1.3
          },
          "opacity": 0.8,
          "size": 12,
          "symbol": "circle"
         },
         "mode": "markers",
         "name": "Nicaragua",
         "textfont": {
          "color": "#4D5663"
         },
         "type": "scatter",
         "uid": "f148d02a-a963-4e32-95bf-f33e45967d24",
         "x": [
          66
         ],
         "y": [
          500000
         ]
        },
        {
         "marker": {
          "color": "rgba(55, 128, 191, 0.4634146341463417)",
          "line": {
           "width": 1.3
          },
          "opacity": 0.8,
          "size": 12,
          "symbol": "circle"
         },
         "mode": "markers",
         "name": "Niger",
         "textfont": {
          "color": "#4D5663"
         },
         "type": "scatter",
         "uid": "c9a403d5-20fe-499b-9ff7-aa0c8923ebc0",
         "x": [
          62.333333333333336
         ],
         "y": [
          578333.3333333334
         ]
        },
        {
         "marker": {
          "color": "rgba(50, 171, 96, 0.4634146341463417)",
          "line": {
           "width": 1.3
          },
          "opacity": 0.8,
          "size": 12,
          "symbol": "circle"
         },
         "mode": "markers",
         "name": "Nigeria",
         "textfont": {
          "color": "#4D5663"
         },
         "type": "scatter",
         "uid": "7ec7cca0-16c9-4840-b7ef-f4e96570d99a",
         "x": [
          67.14876033057851
         ],
         "y": [
          2534462.8099173554
         ]
        },
        {
         "marker": {
          "color": "rgba(128, 0, 128, 0.4634146341463417)",
          "line": {
           "width": 1.3
          },
          "opacity": 0.8,
          "size": 12,
          "symbol": "circle"
         },
         "mode": "markers",
         "name": "Northern Ireland",
         "textfont": {
          "color": "#4D5663"
         },
         "type": "scatter",
         "uid": "598da137-a3ac-4806-90bf-72262b54423b",
         "x": [
          63.50632911392405
         ],
         "y": [
          874683.5443037974
         ]
        },
        {
         "marker": {
          "color": "rgba(219, 64, 82, 0.4634146341463417)",
          "line": {
           "width": 1.3
          },
          "opacity": 0.8,
          "size": 12,
          "symbol": "circle"
         },
         "mode": "markers",
         "name": "Norway",
         "textfont": {
          "color": "#4D5663"
         },
         "type": "scatter",
         "uid": "5717dab6-6a79-4dc5-a8cb-481ae6e61960",
         "x": [
          63.16129032258065
         ],
         "y": [
          1007434.0175953079
         ]
        },
        {
         "marker": {
          "color": "rgba(0, 128, 128, 0.4634146341463417)",
          "line": {
           "width": 1.3
          },
          "opacity": 0.8,
          "size": 12,
          "symbol": "circle"
         },
         "mode": "markers",
         "name": "Oman",
         "textfont": {
          "color": "#4D5663"
         },
         "type": "scatter",
         "uid": "860b4cfb-18fd-44d3-a2f6-f84b962d43ae",
         "x": [
          72
         ],
         "y": [
          425000
         ]
        },
        {
         "marker": {
          "color": "rgba(255, 255, 51, 0.4634146341463417)",
          "line": {
           "width": 1.3
          },
          "opacity": 0.8,
          "size": 12,
          "symbol": "circle"
         },
         "mode": "markers",
         "name": "Palestine",
         "textfont": {
          "color": "#4D5663"
         },
         "type": "scatter",
         "uid": "07665570-b4c8-4e31-8b73-6492e5c9f450",
         "x": [
          66
         ],
         "y": [
          575000
         ]
        },
        {
         "marker": {
          "color": "rgba(128, 128, 0, 0.4634146341463417)",
          "line": {
           "width": 1.3
          },
          "opacity": 0.8,
          "size": 12,
          "symbol": "circle"
         },
         "mode": "markers",
         "name": "Panama",
         "textfont": {
          "color": "#4D5663"
         },
         "type": "scatter",
         "uid": "d5c53f66-4f81-4d83-a7c7-0ad661b4fdec",
         "x": [
          67.66666666666667
         ],
         "y": [
          1163333.3333333333
         ]
        },
        {
         "marker": {
          "color": "rgba(251, 128, 114, 0.4634146341463417)",
          "line": {
           "width": 1.3
          },
          "opacity": 0.8,
          "size": 12,
          "symbol": "circle"
         },
         "mode": "markers",
         "name": "Paraguay",
         "textfont": {
          "color": "#4D5663"
         },
         "type": "scatter",
         "uid": "d89e9c15-0031-41a3-bd24-4fc3b4a2a344",
         "x": [
          69.70238095238095
         ],
         "y": [
          2717083.3333333335
         ]
        },
        {
         "marker": {
          "color": "rgba(251, 128, 114, 0.4146341463414636)",
          "line": {
           "width": 1.3
          },
          "opacity": 0.8,
          "size": 12,
          "symbol": "circle"
         },
         "mode": "markers",
         "name": "Peru",
         "textfont": {
          "color": "#4D5663"
         },
         "type": "scatter",
         "uid": "e5d1b252-06b7-4fc1-8222-3ef5df4cff96",
         "x": [
          70.21621621621621
         ],
         "y": [
          2568243.243243243
         ]
        },
        {
         "marker": {
          "color": "rgba(128, 177, 211, 0.4146341463414636)",
          "line": {
           "width": 1.3
          },
          "opacity": 0.8,
          "size": 12,
          "symbol": "circle"
         },
         "mode": "markers",
         "name": "Philippines",
         "textfont": {
          "color": "#4D5663"
         },
         "type": "scatter",
         "uid": "393900cd-f119-4874-8be0-d9b103d2aff7",
         "x": [
          65
         ],
         "y": [
          1725000
         ]
        },
        {
         "marker": {
          "color": "rgba(255, 153, 51, 0.4146341463414636)",
          "line": {
           "width": 1.3
          },
          "opacity": 0.8,
          "size": 12,
          "symbol": "circle"
         },
         "mode": "markers",
         "name": "Poland",
         "textfont": {
          "color": "#4D5663"
         },
         "type": "scatter",
         "uid": "ebc97b0a-0cc9-42c0-b03c-884fc78bcb18",
         "x": [
          63.235632183908045
         ],
         "y": [
          1346968.3908045976
         ]
        },
        {
         "marker": {
          "color": "rgba(55, 128, 191, 0.4146341463414636)",
          "line": {
           "width": 1.3
          },
          "opacity": 0.8,
          "size": 12,
          "symbol": "circle"
         },
         "mode": "markers",
         "name": "Portugal",
         "textfont": {
          "color": "#4D5663"
         },
         "type": "scatter",
         "uid": "ee69a364-6ad4-44dd-b28a-a6963d1d5666",
         "x": [
          71.34472049689441
         ],
         "y": [
          5063664.596273292
         ]
        },
        {
         "marker": {
          "color": "rgba(50, 171, 96, 0.4146341463414636)",
          "line": {
           "width": 1.3
          },
          "opacity": 0.8,
          "size": 12,
          "symbol": "circle"
         },
         "mode": "markers",
         "name": "Puerto Rico",
         "textfont": {
          "color": "#4D5663"
         },
         "type": "scatter",
         "uid": "cb1d209a-97e0-4e5d-a57c-59eb284c08ef",
         "x": [
          63
         ],
         "y": [
          110000
         ]
        },
        {
         "marker": {
          "color": "rgba(128, 0, 128, 0.4146341463414636)",
          "line": {
           "width": 1.3
          },
          "opacity": 0.8,
          "size": 12,
          "symbol": "circle"
         },
         "mode": "markers",
         "name": "Qatar",
         "textfont": {
          "color": "#4D5663"
         },
         "type": "scatter",
         "uid": "d4e8ff47-47e9-488e-b35c-93758359a0a9",
         "x": [
          63
         ],
         "y": [
          425000
         ]
        },
        {
         "marker": {
          "color": "rgba(219, 64, 82, 0.4146341463414636)",
          "line": {
           "width": 1.3
          },
          "opacity": 0.8,
          "size": 12,
          "symbol": "circle"
         },
         "mode": "markers",
         "name": "Republic of Ireland",
         "textfont": {
          "color": "#4D5663"
         },
         "type": "scatter",
         "uid": "6fef6a8c-e7fc-4783-8b5a-092b69f0a753",
         "x": [
          60.88586956521739
         ],
         "y": [
          671657.6086956522
         ]
        },
        {
         "marker": {
          "color": "rgba(0, 128, 128, 0.4146341463414636)",
          "line": {
           "width": 1.3
          },
          "opacity": 0.8,
          "size": 12,
          "symbol": "circle"
         },
         "mode": "markers",
         "name": "Romania",
         "textfont": {
          "color": "#4D5663"
         },
         "type": "scatter",
         "uid": "046f1e5a-677d-4135-8fbd-5f91d75495bb",
         "x": [
          69.16666666666667
         ],
         "y": [
          2166111.111111111
         ]
        },
        {
         "marker": {
          "color": "rgba(255, 255, 51, 0.4146341463414636)",
          "line": {
           "width": 1.3
          },
          "opacity": 0.8,
          "size": 12,
          "symbol": "circle"
         },
         "mode": "markers",
         "name": "Russia",
         "textfont": {
          "color": "#4D5663"
         },
         "type": "scatter",
         "uid": "b912a291-a944-404a-b63a-9b062e3c9156",
         "x": [
          70.0632911392405
         ],
         "y": [
          3238227.8481012657
         ]
        },
        {
         "marker": {
          "color": "rgba(128, 128, 0, 0.4146341463414636)",
          "line": {
           "width": 1.3
          },
          "opacity": 0.8,
          "size": 12,
          "symbol": "circle"
         },
         "mode": "markers",
         "name": "Rwanda",
         "textfont": {
          "color": "#4D5663"
         },
         "type": "scatter",
         "uid": "2743b2fd-ac51-45eb-9800-342d774c0af9",
         "x": [
          63
         ],
         "y": [
          475000
         ]
        },
        {
         "marker": {
          "color": "rgba(128, 128, 0, 0.3658536585365855)",
          "line": {
           "width": 1.3
          },
          "opacity": 0.8,
          "size": 12,
          "symbol": "circle"
         },
         "mode": "markers",
         "name": "Saudi Arabia",
         "textfont": {
          "color": "#4D5663"
         },
         "type": "scatter",
         "uid": "f01ca116-45f2-407c-9eca-da2eef80f4f4",
         "x": [
          60.7566765578635
         ],
         "y": [
          417522.25519287837
         ]
        },
        {
         "marker": {
          "color": "rgba(251, 128, 114, 0.3658536585365855)",
          "line": {
           "width": 1.3
          },
          "opacity": 0.8,
          "size": 12,
          "symbol": "circle"
         },
         "mode": "markers",
         "name": "Scotland",
         "textfont": {
          "color": "#4D5663"
         },
         "type": "scatter",
         "uid": "323373b6-085e-47db-a9ea-e89162a1164a",
         "x": [
          64
         ],
         "y": [
          1233056.5371024734
         ]
        },
        {
         "marker": {
          "color": "rgba(128, 177, 211, 0.3658536585365855)",
          "line": {
           "width": 1.3
          },
          "opacity": 0.8,
          "size": 12,
          "symbol": "circle"
         },
         "mode": "markers",
         "name": "Senegal",
         "textfont": {
          "color": "#4D5663"
         },
         "type": "scatter",
         "uid": "71627fdc-e1e2-4ff0-bf3b-23c0acdd9f33",
         "x": [
          68.61538461538461
         ],
         "y": [
          3545076.923076923
         ]
        },
        {
         "marker": {
          "color": "rgba(255, 153, 51, 0.3658536585365855)",
          "line": {
           "width": 1.3
          },
          "opacity": 0.8,
          "size": 12,
          "symbol": "circle"
         },
         "mode": "markers",
         "name": "Serbia",
         "textfont": {
          "color": "#4D5663"
         },
         "type": "scatter",
         "uid": "71a2b25d-c379-4edc-b359-235d1bc9d8fc",
         "x": [
          69.92857142857143
         ],
         "y": [
          4157817.4603174604
         ]
        },
        {
         "marker": {
          "color": "rgba(55, 128, 191, 0.3658536585365855)",
          "line": {
           "width": 1.3
          },
          "opacity": 0.8,
          "size": 12,
          "symbol": "circle"
         },
         "mode": "markers",
         "name": "Sierra Leone",
         "textfont": {
          "color": "#4D5663"
         },
         "type": "scatter",
         "uid": "44585f39-b7a9-4dd6-ba96-fcc586dedd02",
         "x": [
          65.33333333333333
         ],
         "y": [
          1092500
         ]
        },
        {
         "marker": {
          "color": "rgba(50, 171, 96, 0.3658536585365855)",
          "line": {
           "width": 1.3
          },
          "opacity": 0.8,
          "size": 12,
          "symbol": "circle"
         },
         "mode": "markers",
         "name": "Slovakia",
         "textfont": {
          "color": "#4D5663"
         },
         "type": "scatter",
         "uid": "74c58059-61bc-4766-bd76-5b1782793eb6",
         "x": [
          68.4074074074074
         ],
         "y": [
          3826111.111111111
         ]
        },
        {
         "marker": {
          "color": "rgba(128, 0, 128, 0.3658536585365855)",
          "line": {
           "width": 1.3
          },
          "opacity": 0.8,
          "size": 12,
          "symbol": "circle"
         },
         "mode": "markers",
         "name": "Slovenia",
         "textfont": {
          "color": "#4D5663"
         },
         "type": "scatter",
         "uid": "814ac54a-d6d3-4661-b49c-90ab89039ab4",
         "x": [
          69.52727272727273
         ],
         "y": [
          4469545.454545454
         ]
        },
        {
         "marker": {
          "color": "rgba(219, 64, 82, 0.3658536585365855)",
          "line": {
           "width": 1.3
          },
          "opacity": 0.8,
          "size": 12,
          "symbol": "circle"
         },
         "mode": "markers",
         "name": "South Africa",
         "textfont": {
          "color": "#4D5663"
         },
         "type": "scatter",
         "uid": "5c9fa7c3-83ed-4119-adb8-dc349de5b804",
         "x": [
          67.47887323943662
         ],
         "y": [
          1138169.014084507
         ]
        },
        {
         "marker": {
          "color": "rgba(0, 128, 128, 0.3658536585365855)",
          "line": {
           "width": 1.3
          },
          "opacity": 0.8,
          "size": 12,
          "symbol": "circle"
         },
         "mode": "markers",
         "name": "South Sudan",
         "textfont": {
          "color": "#4D5663"
         },
         "type": "scatter",
         "uid": "7b2ae385-3fb1-4d74-ad21-bb0296dfd453",
         "x": [
          60
         ],
         "y": [
          260000
         ]
        },
        {
         "marker": {
          "color": "rgba(255, 255, 51, 0.3658536585365855)",
          "line": {
           "width": 1.3
          },
          "opacity": 0.8,
          "size": 12,
          "symbol": "circle"
         },
         "mode": "markers",
         "name": "Spain",
         "textfont": {
          "color": "#4D5663"
         },
         "type": "scatter",
         "uid": "6bc39e92-5dbf-46b6-9018-8f18c898e13a",
         "x": [
          69.70588235294117
         ],
         "y": [
          4394421.101774043
         ]
        },
        {
         "marker": {
          "color": "rgba(255, 255, 51, 0.31707317073170743)",
          "line": {
           "width": 1.3
          },
          "opacity": 0.8,
          "size": 12,
          "symbol": "circle"
         },
         "mode": "markers",
         "name": "St Kitts Nevis",
         "textfont": {
          "color": "#4D5663"
         },
         "type": "scatter",
         "uid": "dcc49a8e-766f-4608-b88b-7042eba7858e",
         "x": [
          62
         ],
         "y": [
          1023333.3333333334
         ]
        },
        {
         "marker": {
          "color": "rgba(128, 128, 0, 0.31707317073170743)",
          "line": {
           "width": 1.3
          },
          "opacity": 0.8,
          "size": 12,
          "symbol": "circle"
         },
         "mode": "markers",
         "name": "St Lucia",
         "textfont": {
          "color": "#4D5663"
         },
         "type": "scatter",
         "uid": "250900b4-48e8-4b26-bd92-1b615d6ddfaa",
         "x": [
          64
         ],
         "y": [
          500000
         ]
        },
        {
         "marker": {
          "color": "rgba(251, 128, 114, 0.31707317073170743)",
          "line": {
           "width": 1.3
          },
          "opacity": 0.8,
          "size": 12,
          "symbol": "circle"
         },
         "mode": "markers",
         "name": "Sudan",
         "textfont": {
          "color": "#4D5663"
         },
         "type": "scatter",
         "uid": "40d1cde8-7e22-46f2-b72d-75e0aa881bb8",
         "x": [
          62.666666666666664
         ],
         "y": [
          456666.6666666667
         ]
        },
        {
         "marker": {
          "color": "rgba(128, 177, 211, 0.31707317073170743)",
          "line": {
           "width": 1.3
          },
          "opacity": 0.8,
          "size": 12,
          "symbol": "circle"
         },
         "mode": "markers",
         "name": "Suriname",
         "textfont": {
          "color": "#4D5663"
         },
         "type": "scatter",
         "uid": "7ec5969c-d784-4bc5-9177-7dce663b2d8b",
         "x": [
          67
         ],
         "y": [
          868750
         ]
        },
        {
         "marker": {
          "color": "rgba(255, 153, 51, 0.31707317073170743)",
          "line": {
           "width": 1.3
          },
          "opacity": 0.8,
          "size": 12,
          "symbol": "circle"
         },
         "mode": "markers",
         "name": "Sweden",
         "textfont": {
          "color": "#4D5663"
         },
         "type": "scatter",
         "uid": "1f79935a-7e82-4fd5-add8-f0dda374673a",
         "x": [
          63.62626262626262
         ],
         "y": [
          1139027.7777777778
         ]
        },
        {
         "marker": {
          "color": "rgba(55, 128, 191, 0.31707317073170743)",
          "line": {
           "width": 1.3
          },
          "opacity": 0.8,
          "size": 12,
          "symbol": "circle"
         },
         "mode": "markers",
         "name": "Switzerland",
         "textfont": {
          "color": "#4D5663"
         },
         "type": "scatter",
         "uid": "5b450ebd-cdc5-48fb-ab5d-3303a2428369",
         "x": [
          65.47727272727273
         ],
         "y": [
          2119545.4545454546
         ]
        },
        {
         "marker": {
          "color": "rgba(50, 171, 96, 0.31707317073170743)",
          "line": {
           "width": 1.3
          },
          "opacity": 0.8,
          "size": 12,
          "symbol": "circle"
         },
         "mode": "markers",
         "name": "Syria",
         "textfont": {
          "color": "#4D5663"
         },
         "type": "scatter",
         "uid": "ab98f3e4-7f9c-40ee-8a4b-24c97c2c34ab",
         "x": [
          68.55555555555556
         ],
         "y": [
          2983888.888888889
         ]
        },
        {
         "marker": {
          "color": "rgba(128, 0, 128, 0.31707317073170743)",
          "line": {
           "width": 1.3
          },
          "opacity": 0.8,
          "size": 12,
          "symbol": "circle"
         },
         "mode": "markers",
         "name": "São Tomé & Príncipe",
         "textfont": {
          "color": "#4D5663"
         },
         "type": "scatter",
         "uid": "a5ca5bb2-3d3a-4eb8-818a-530ddcde6c0a",
         "x": [
          72
         ],
         "y": [
          2800000
         ]
        },
        {
         "marker": {
          "color": "rgba(219, 64, 82, 0.31707317073170743)",
          "line": {
           "width": 1.3
          },
          "opacity": 0.8,
          "size": 12,
          "symbol": "circle"
         },
         "mode": "markers",
         "name": "Tanzania",
         "textfont": {
          "color": "#4D5663"
         },
         "type": "scatter",
         "uid": "cba5dc8e-b514-4625-99ae-c7702ddb91ed",
         "x": [
          67
         ],
         "y": [
          3675000
         ]
        },
        {
         "marker": {
          "color": "rgba(0, 128, 128, 0.31707317073170743)",
          "line": {
           "width": 1.3
          },
          "opacity": 0.8,
          "size": 12,
          "symbol": "circle"
         },
         "mode": "markers",
         "name": "Thailand",
         "textfont": {
          "color": "#4D5663"
         },
         "type": "scatter",
         "uid": "976e0db2-a1a4-49a9-9dde-6b9fa1ecda8b",
         "x": [
          62.4
         ],
         "y": [
          490000
         ]
        },
        {
         "marker": {
          "color": "rgba(0, 128, 128, 0.26829268292682956)",
          "line": {
           "width": 1.3
          },
          "opacity": 0.8,
          "size": 12,
          "symbol": "circle"
         },
         "mode": "markers",
         "name": "Togo",
         "textfont": {
          "color": "#4D5663"
         },
         "type": "scatter",
         "uid": "102eb547-fb9b-44e1-8eb9-bfb324b420f1",
         "x": [
          71.33333333333333
         ],
         "y": [
          3770833.3333333335
         ]
        },
        {
         "marker": {
          "color": "rgba(255, 255, 51, 0.26829268292682956)",
          "line": {
           "width": 1.3
          },
          "opacity": 0.8,
          "size": 12,
          "symbol": "circle"
         },
         "mode": "markers",
         "name": "Trinidad & Tobago",
         "textfont": {
          "color": "#4D5663"
         },
         "type": "scatter",
         "uid": "e066c9e1-3a1b-449a-ab1f-bcb3a83d2d2f",
         "x": [
          66.75
         ],
         "y": [
          2450000
         ]
        },
        {
         "marker": {
          "color": "rgba(128, 128, 0, 0.26829268292682956)",
          "line": {
           "width": 1.3
          },
          "opacity": 0.8,
          "size": 12,
          "symbol": "circle"
         },
         "mode": "markers",
         "name": "Tunisia",
         "textfont": {
          "color": "#4D5663"
         },
         "type": "scatter",
         "uid": "cd587baa-e8b6-494e-9aa5-83179d614f8c",
         "x": [
          68.25
         ],
         "y": [
          2073125
         ]
        },
        {
         "marker": {
          "color": "rgba(251, 128, 114, 0.26829268292682956)",
          "line": {
           "width": 1.3
          },
          "opacity": 0.8,
          "size": 12,
          "symbol": "circle"
         },
         "mode": "markers",
         "name": "Turkey",
         "textfont": {
          "color": "#4D5663"
         },
         "type": "scatter",
         "uid": "6f73d11a-fb56-4e0a-bf65-e87ac784d63e",
         "x": [
          66.07260726072607
         ],
         "y": [
          1882392.7392739274
         ]
        },
        {
         "marker": {
          "color": "rgba(128, 177, 211, 0.26829268292682956)",
          "line": {
           "width": 1.3
          },
          "opacity": 0.8,
          "size": 12,
          "symbol": "circle"
         },
         "mode": "markers",
         "name": "Uganda",
         "textfont": {
          "color": "#4D5663"
         },
         "type": "scatter",
         "uid": "fe71da9c-a94f-49d7-9c5a-aa0553579c56",
         "x": [
          62.5
         ],
         "y": [
          553333.3333333334
         ]
        },
        {
         "marker": {
          "color": "rgba(255, 153, 51, 0.26829268292682956)",
          "line": {
           "width": 1.3
          },
          "opacity": 0.8,
          "size": 12,
          "symbol": "circle"
         },
         "mode": "markers",
         "name": "Ukraine",
         "textfont": {
          "color": "#4D5663"
         },
         "type": "scatter",
         "uid": "8d096977-42c3-41bd-974b-cea131d015bd",
         "x": [
          70.42465753424658
         ],
         "y": [
          4092328.7671232875
         ]
        },
        {
         "marker": {
          "color": "rgba(55, 128, 191, 0.26829268292682956)",
          "line": {
           "width": 1.3
          },
          "opacity": 0.8,
          "size": 12,
          "symbol": "circle"
         },
         "mode": "markers",
         "name": "United Arab Emirates",
         "textfont": {
          "color": "#4D5663"
         },
         "type": "scatter",
         "uid": "bee6747a-df52-4f1c-a0dc-4f4f8fb2d884",
         "x": [
          77
         ],
         "y": [
          10500000
         ]
        },
        {
         "marker": {
          "color": "rgba(50, 171, 96, 0.26829268292682956)",
          "line": {
           "width": 1.3
          },
          "opacity": 0.8,
          "size": 12,
          "symbol": "circle"
         },
         "mode": "markers",
         "name": "United States",
         "textfont": {
          "color": "#4D5663"
         },
         "type": "scatter",
         "uid": "7d5f6c9e-707f-4054-a31d-46d8711d8b47",
         "x": [
          65.1728045325779
         ],
         "y": [
          1183696.8838526912
         ]
        },
        {
         "marker": {
          "color": "rgba(128, 0, 128, 0.26829268292682956)",
          "line": {
           "width": 1.3
          },
          "opacity": 0.8,
          "size": 12,
          "symbol": "circle"
         },
         "mode": "markers",
         "name": "Uruguay",
         "textfont": {
          "color": "#4D5663"
         },
         "type": "scatter",
         "uid": "7360ed84-8107-4245-96bb-bb2289efab17",
         "x": [
          70.42953020134229
         ],
         "y": [
          4811073.825503356
         ]
        },
        {
         "marker": {
          "color": "rgba(219, 64, 82, 0.26829268292682956)",
          "line": {
           "width": 1.3
          },
          "opacity": 0.8,
          "size": 12,
          "symbol": "circle"
         },
         "mode": "markers",
         "name": "Uzbekistan",
         "textfont": {
          "color": "#4D5663"
         },
         "type": "scatter",
         "uid": "ae7d5866-efb7-4b7e-87c4-6c6cefb163c7",
         "x": [
          67.5
         ],
         "y": [
          3100000
         ]
        },
        {
         "marker": {
          "color": "rgba(219, 64, 82, 0.21951219512195147)",
          "line": {
           "width": 1.3
          },
          "opacity": 0.8,
          "size": 12,
          "symbol": "circle"
         },
         "mode": "markers",
         "name": "Venezuela",
         "textfont": {
          "color": "#4D5663"
         },
         "type": "scatter",
         "uid": "4f761042-78f8-4547-a640-c5dd7f3d9f1b",
         "x": [
          67.34848484848484
         ],
         "y": [
          2265530.303030303
         ]
        },
        {
         "marker": {
          "color": "rgba(0, 128, 128, 0.21951219512195147)",
          "line": {
           "width": 1.3
          },
          "opacity": 0.8,
          "size": 12,
          "symbol": "circle"
         },
         "mode": "markers",
         "name": "Wales",
         "textfont": {
          "color": "#4D5663"
         },
         "type": "scatter",
         "uid": "c5cee0cd-5985-4fcc-b80a-393138f8fb96",
         "x": [
          64.13953488372093
         ],
         "y": [
          1755542.6356589147
         ]
        },
        {
         "marker": {
          "color": "rgba(255, 255, 51, 0.21951219512195147)",
          "line": {
           "width": 1.3
          },
          "opacity": 0.8,
          "size": 12,
          "symbol": "circle"
         },
         "mode": "markers",
         "name": "Zambia",
         "textfont": {
          "color": "#4D5663"
         },
         "type": "scatter",
         "uid": "45c3671c-4916-4e50-a47f-79feeeb06eab",
         "x": [
          65.22222222222223
         ],
         "y": [
          1129444.4444444445
         ]
        },
        {
         "marker": {
          "color": "rgba(128, 128, 0, 0.21951219512195147)",
          "line": {
           "width": 1.3
          },
          "opacity": 0.8,
          "size": 12,
          "symbol": "circle"
         },
         "mode": "markers",
         "name": "Zimbabwe",
         "textfont": {
          "color": "#4D5663"
         },
         "type": "scatter",
         "uid": "054f45d0-b5f9-4267-9716-7aadae020814",
         "x": [
          69.76923076923077
         ],
         "y": [
          2780769.230769231
         ]
        }
       ],
       "layout": {
        "legend": {
         "bgcolor": "#FFFFFF",
         "font": {
          "color": "#4D5663"
         }
        },
        "paper_bgcolor": "#FFFFFF",
        "plot_bgcolor": "#FFFFFF",
        "title": {
         "font": {
          "color": "#4D5663"
         },
         "text": "Average Overall and Average Value by Nationality"
        },
        "xaxis": {
         "gridcolor": "#E1E5ED",
         "showgrid": true,
         "tickfont": {
          "color": "#4D5663"
         },
         "title": {
          "font": {
           "color": "#4D5663"
          },
          "text": "Overall"
         },
         "zerolinecolor": "#E1E5ED"
        },
        "yaxis": {
         "gridcolor": "#E1E5ED",
         "showgrid": true,
         "tickfont": {
          "color": "#4D5663"
         },
         "title": {
          "font": {
           "color": "#4D5663"
          },
          "text": "Value in euros"
         },
         "zerolinecolor": "#E1E5ED"
        }
       }
      },
      "text/html": [
       "<div>\n",
       "        \n",
       "        \n",
       "            <div id=\"e2d7f50a-3244-47b5-8158-52962b97fc98\" class=\"plotly-graph-div\" style=\"height:525px; width:100%;\"></div>\n",
       "            <script type=\"text/javascript\">\n",
       "                require([\"plotly\"], function(Plotly) {\n",
       "                    window.PLOTLYENV=window.PLOTLYENV || {};\n",
       "                    window.PLOTLYENV.BASE_URL='https://plot.ly';\n",
       "                    \n",
       "                if (document.getElementById(\"e2d7f50a-3244-47b5-8158-52962b97fc98\")) {\n",
       "                    Plotly.newPlot(\n",
       "                        'e2d7f50a-3244-47b5-8158-52962b97fc98',\n",
       "                        [{\"marker\": {\"color\": \"rgba(255, 153, 51, 1.0)\", \"line\": {\"width\": 1.3}, \"opacity\": 0.8, \"size\": 12, \"symbol\": \"circle\"}, \"mode\": \"markers\", \"name\": \"Afghanistan\", \"textfont\": {\"color\": \"#4D5663\"}, \"type\": \"scatter\", \"uid\": \"2bef9477-0dbd-461b-845f-9f2a9249ccfe\", \"x\": [61.0], \"y\": [342500.0]}, {\"marker\": {\"color\": \"rgba(55, 128, 191, 1.0)\", \"line\": {\"width\": 1.3}, \"opacity\": 0.8, \"size\": 12, \"symbol\": \"circle\"}, \"mode\": \"markers\", \"name\": \"Albania\", \"textfont\": {\"color\": \"#4D5663\"}, \"type\": \"scatter\", \"uid\": \"ea1cf7c0-156e-4b66-9365-7a65f4c14ff2\", \"x\": [66.02564102564102], \"y\": [1959871.7948717948]}, {\"marker\": {\"color\": \"rgba(50, 171, 96, 1.0)\", \"line\": {\"width\": 1.3}, \"opacity\": 0.8, \"size\": 12, \"symbol\": \"circle\"}, \"mode\": \"markers\", \"name\": \"Algeria\", \"textfont\": {\"color\": \"#4D5663\"}, \"type\": \"scatter\", \"uid\": \"6240dbca-e492-45a7-aadd-dea8e0e6447c\", \"x\": [70.63333333333334], \"y\": [4670916.666666667]}, {\"marker\": {\"color\": \"rgba(128, 0, 128, 1.0)\", \"line\": {\"width\": 1.3}, \"opacity\": 0.8, \"size\": 12, \"symbol\": \"circle\"}, \"mode\": \"markers\", \"name\": \"Andorra\", \"textfont\": {\"color\": \"#4D5663\"}, \"type\": \"scatter\", \"uid\": \"b786ce38-3402-4d27-97f0-cfb3be62a7ed\", \"x\": [62.0], \"y\": [290000.0]}, {\"marker\": {\"color\": \"rgba(219, 64, 82, 1.0)\", \"line\": {\"width\": 1.3}, \"opacity\": 0.8, \"size\": 12, \"symbol\": \"circle\"}, \"mode\": \"markers\", \"name\": \"Angola\", \"textfont\": {\"color\": \"#4D5663\"}, \"type\": \"scatter\", \"uid\": \"64d64030-4344-475f-8c14-41d592e7098f\", \"x\": [67.6], \"y\": [2018333.3333333333]}, {\"marker\": {\"color\": \"rgba(0, 128, 128, 1.0)\", \"line\": {\"width\": 1.3}, \"opacity\": 0.8, \"size\": 12, \"symbol\": \"circle\"}, \"mode\": \"markers\", \"name\": \"Antigua & Barbuda\", \"textfont\": {\"color\": \"#4D5663\"}, \"type\": \"scatter\", \"uid\": \"7c742f53-5e16-45d3-be77-89dba9926da4\", \"x\": [62.5], \"y\": [535000.0]}, {\"marker\": {\"color\": \"rgba(255, 255, 51, 1.0)\", \"line\": {\"width\": 1.3}, \"opacity\": 0.8, \"size\": 12, \"symbol\": \"circle\"}, \"mode\": \"markers\", \"name\": \"Argentina\", \"textfont\": {\"color\": \"#4D5663\"}, \"type\": \"scatter\", \"uid\": \"617155bf-bc8b-45d4-81b1-3377d4be0281\", \"x\": [68.57905982905983], \"y\": [3079818.376068376]}, {\"marker\": {\"color\": \"rgba(128, 128, 0, 1.0)\", \"line\": {\"width\": 1.3}, \"opacity\": 0.8, \"size\": 12, \"symbol\": \"circle\"}, \"mode\": \"markers\", \"name\": \"Armenia\", \"textfont\": {\"color\": \"#4D5663\"}, \"type\": \"scatter\", \"uid\": \"181f1cec-2c4c-4ddc-a435-6b0372d40b1c\", \"x\": [69.0], \"y\": [3717500.0]}, {\"marker\": {\"color\": \"rgba(251, 128, 114, 1.0)\", \"line\": {\"width\": 1.3}, \"opacity\": 0.8, \"size\": 12, \"symbol\": \"circle\"}, \"mode\": \"markers\", \"name\": \"Australia\", \"textfont\": {\"color\": \"#4D5663\"}, \"type\": \"scatter\", \"uid\": \"034e6fa8-3065-45cf-b43e-df894963c0c9\", \"x\": [62.652542372881356], \"y\": [736970.3389830509]}, {\"marker\": {\"color\": \"rgba(128, 177, 211, 1.0)\", \"line\": {\"width\": 1.3}, \"opacity\": 0.8, \"size\": 12, \"symbol\": \"circle\"}, \"mode\": \"markers\", \"name\": \"Austria\", \"textfont\": {\"color\": \"#4D5663\"}, \"type\": \"scatter\", \"uid\": \"4ed6dd41-e8e1-4aaa-84b4-f10e8c8a5a64\", \"x\": [64.9358108108108], \"y\": [1617618.2432432433]}, {\"marker\": {\"color\": \"rgba(128, 177, 211, 0.9512195121951219)\", \"line\": {\"width\": 1.3}, \"opacity\": 0.8, \"size\": 12, \"symbol\": \"circle\"}, \"mode\": \"markers\", \"name\": \"Azerbaijan\", \"textfont\": {\"color\": \"#4D5663\"}, \"type\": \"scatter\", \"uid\": \"092162eb-4ae2-40a8-aa9e-1d096b38258d\", \"x\": [63.0], \"y\": [519000.0]}, {\"marker\": {\"color\": \"rgba(255, 153, 51, 0.9512195121951219)\", \"line\": {\"width\": 1.3}, \"opacity\": 0.8, \"size\": 12, \"symbol\": \"circle\"}, \"mode\": \"markers\", \"name\": \"Barbados\", \"textfont\": {\"color\": \"#4D5663\"}, \"type\": \"scatter\", \"uid\": \"f3c48db4-4055-45c7-9aa6-861c19542b5d\", \"x\": [63.333333333333336], \"y\": [401666.6666666667]}, {\"marker\": {\"color\": \"rgba(55, 128, 191, 0.9512195121951219)\", \"line\": {\"width\": 1.3}, \"opacity\": 0.8, \"size\": 12, \"symbol\": \"circle\"}, \"mode\": \"markers\", \"name\": \"Belarus\", \"textfont\": {\"color\": \"#4D5663\"}, \"type\": \"scatter\", \"uid\": \"5867052e-889b-4619-91e5-86e4940fbdc7\", \"x\": [70.25], \"y\": [2443750.0]}, {\"marker\": {\"color\": \"rgba(50, 171, 96, 0.9512195121951219)\", \"line\": {\"width\": 1.3}, \"opacity\": 0.8, \"size\": 12, \"symbol\": \"circle\"}, \"mode\": \"markers\", \"name\": \"Belgium\", \"textfont\": {\"color\": \"#4D5663\"}, \"type\": \"scatter\", \"uid\": \"d3703da9-0e18-45df-b130-a4662b1f317f\", \"x\": [68.83783783783784], \"y\": [4717239.382239382]}, {\"marker\": {\"color\": \"rgba(128, 0, 128, 0.9512195121951219)\", \"line\": {\"width\": 1.3}, \"opacity\": 0.8, \"size\": 12, \"symbol\": \"circle\"}, \"mode\": \"markers\", \"name\": \"Belize\", \"textfont\": {\"color\": \"#4D5663\"}, \"type\": \"scatter\", \"uid\": \"b95c05d9-027f-4c72-8892-c90d7ee8ccec\", \"x\": [60.0], \"y\": [250000.0]}, {\"marker\": {\"color\": \"rgba(219, 64, 82, 0.9512195121951219)\", \"line\": {\"width\": 1.3}, \"opacity\": 0.8, \"size\": 12, \"symbol\": \"circle\"}, \"mode\": \"markers\", \"name\": \"Benin\", \"textfont\": {\"color\": \"#4D5663\"}, \"type\": \"scatter\", \"uid\": \"03b4c4e1-4f1a-42fe-b907-fe9a43d11b22\", \"x\": [67.46666666666667], \"y\": [1646333.3333333333]}, {\"marker\": {\"color\": \"rgba(0, 128, 128, 0.9512195121951219)\", \"line\": {\"width\": 1.3}, \"opacity\": 0.8, \"size\": 12, \"symbol\": \"circle\"}, \"mode\": \"markers\", \"name\": \"Bermuda\", \"textfont\": {\"color\": \"#4D5663\"}, \"type\": \"scatter\", \"uid\": \"a3db5777-6ff0-4757-926c-139a5000782f\", \"x\": [66.5], \"y\": [1087500.0]}, {\"marker\": {\"color\": \"rgba(255, 255, 51, 0.9512195121951219)\", \"line\": {\"width\": 1.3}, \"opacity\": 0.8, \"size\": 12, \"symbol\": \"circle\"}, \"mode\": \"markers\", \"name\": \"Bolivia\", \"textfont\": {\"color\": \"#4D5663\"}, \"type\": \"scatter\", \"uid\": \"4d49f709-f0f3-4a85-832a-9a7c2c5ce91e\", \"x\": [65.66666666666667], \"y\": [299000.0]}, {\"marker\": {\"color\": \"rgba(128, 128, 0, 0.9512195121951219)\", \"line\": {\"width\": 1.3}, \"opacity\": 0.8, \"size\": 12, \"symbol\": \"circle\"}, \"mode\": \"markers\", \"name\": \"Bosnia Herzegovina\", \"textfont\": {\"color\": \"#4D5663\"}, \"type\": \"scatter\", \"uid\": \"4df3c892-7dcb-4200-860d-fbf4bcb8f8d7\", \"x\": [68.63934426229508], \"y\": [3682377.049180328]}, {\"marker\": {\"color\": \"rgba(251, 128, 114, 0.9512195121951219)\", \"line\": {\"width\": 1.3}, \"opacity\": 0.8, \"size\": 12, \"symbol\": \"circle\"}, \"mode\": \"markers\", \"name\": \"Botswana\", \"textfont\": {\"color\": \"#4D5663\"}, \"type\": \"scatter\", \"uid\": \"b71975d6-27c5-44eb-8274-c36d30c58999\", \"x\": [56.0], \"y\": [160000.0]}, {\"marker\": {\"color\": \"rgba(251, 128, 114, 0.9024390243902438)\", \"line\": {\"width\": 1.3}, \"opacity\": 0.8, \"size\": 12, \"symbol\": \"circle\"}, \"mode\": \"markers\", \"name\": \"Brazil\", \"textfont\": {\"color\": \"#4D5663\"}, \"type\": \"scatter\", \"uid\": \"56955946-503a-48c1-b020-ccf8b3de331e\", \"x\": [71.2739393939394], \"y\": [4612636.363636363]}, {\"marker\": {\"color\": \"rgba(128, 177, 211, 0.9024390243902438)\", \"line\": {\"width\": 1.3}, \"opacity\": 0.8, \"size\": 12, \"symbol\": \"circle\"}, \"mode\": \"markers\", \"name\": \"Bulgaria\", \"textfont\": {\"color\": \"#4D5663\"}, \"type\": \"scatter\", \"uid\": \"f531be05-b898-4bb6-be83-6e20ef58999e\", \"x\": [64.875], \"y\": [699218.75]}, {\"marker\": {\"color\": \"rgba(255, 153, 51, 0.9024390243902438)\", \"line\": {\"width\": 1.3}, \"opacity\": 0.8, \"size\": 12, \"symbol\": \"circle\"}, \"mode\": \"markers\", \"name\": \"Burkina Faso\", \"textfont\": {\"color\": \"#4D5663\"}, \"type\": \"scatter\", \"uid\": \"69bd3dcf-6ef0-4917-a148-38d08040f01a\", \"x\": [68.5625], \"y\": [2887500.0]}, {\"marker\": {\"color\": \"rgba(55, 128, 191, 0.9024390243902438)\", \"line\": {\"width\": 1.3}, \"opacity\": 0.8, \"size\": 12, \"symbol\": \"circle\"}, \"mode\": \"markers\", \"name\": \"Burundi\", \"textfont\": {\"color\": \"#4D5663\"}, \"type\": \"scatter\", \"uid\": \"22dd7a08-3580-414c-bca6-5ebb0d163b28\", \"x\": [62.333333333333336], \"y\": [1268333.3333333333]}, {\"marker\": {\"color\": \"rgba(50, 171, 96, 0.9024390243902438)\", \"line\": {\"width\": 1.3}, \"opacity\": 0.8, \"size\": 12, \"symbol\": \"circle\"}, \"mode\": \"markers\", \"name\": \"Cameroon\", \"textfont\": {\"color\": \"#4D5663\"}, \"type\": \"scatter\", \"uid\": \"b45c691b-d262-49bb-aa1f-847c24d7b36e\", \"x\": [67.9888888888889], \"y\": [2636111.111111111]}, {\"marker\": {\"color\": \"rgba(128, 0, 128, 0.9024390243902438)\", \"line\": {\"width\": 1.3}, \"opacity\": 0.8, \"size\": 12, \"symbol\": \"circle\"}, \"mode\": \"markers\", \"name\": \"Canada\", \"textfont\": {\"color\": \"#4D5663\"}, \"type\": \"scatter\", \"uid\": \"6c7a113a-5463-4cce-b9ab-a03d6d3371b3\", \"x\": [62.9375], \"y\": [925937.5]}, {\"marker\": {\"color\": \"rgba(219, 64, 82, 0.9024390243902438)\", \"line\": {\"width\": 1.3}, \"opacity\": 0.8, \"size\": 12, \"symbol\": \"circle\"}, \"mode\": \"markers\", \"name\": \"Cape Verde\", \"textfont\": {\"color\": \"#4D5663\"}, \"type\": \"scatter\", \"uid\": \"c68d59a2-14c3-4116-8923-b8c8e6a1a3fb\", \"x\": [71.63157894736842], \"y\": [4426578.947368421]}, {\"marker\": {\"color\": \"rgba(0, 128, 128, 0.9024390243902438)\", \"line\": {\"width\": 1.3}, \"opacity\": 0.8, \"size\": 12, \"symbol\": \"circle\"}, \"mode\": \"markers\", \"name\": \"Central African Rep.\", \"textfont\": {\"color\": \"#4D5663\"}, \"type\": \"scatter\", \"uid\": \"c6c4309e-b57a-49d4-a480-99c027388152\", \"x\": [73.33333333333333], \"y\": [10050000.0]}, {\"marker\": {\"color\": \"rgba(255, 255, 51, 0.9024390243902438)\", \"line\": {\"width\": 1.3}, \"opacity\": 0.8, \"size\": 12, \"symbol\": \"circle\"}, \"mode\": \"markers\", \"name\": \"Chad\", \"textfont\": {\"color\": \"#4D5663\"}, \"type\": \"scatter\", \"uid\": \"5448a93d-63bb-49a5-9d65-07b48036a0e1\", \"x\": [70.0], \"y\": [3400000.0]}, {\"marker\": {\"color\": \"rgba(128, 128, 0, 0.9024390243902438)\", \"line\": {\"width\": 1.3}, \"opacity\": 0.8, \"size\": 12, \"symbol\": \"circle\"}, \"mode\": \"markers\", \"name\": \"Chile\", \"textfont\": {\"color\": \"#4D5663\"}, \"type\": \"scatter\", \"uid\": \"32fd9647-b6c1-426d-a20a-1289e0acdbb0\", \"x\": [65.01546391752578], \"y\": [1351198.4536082475]}, {\"marker\": {\"color\": \"rgba(128, 128, 0, 0.853658536585366)\", \"line\": {\"width\": 1.3}, \"opacity\": 0.8, \"size\": 12, \"symbol\": \"circle\"}, \"mode\": \"markers\", \"name\": \"China PR\", \"textfont\": {\"color\": \"#4D5663\"}, \"type\": \"scatter\", \"uid\": \"542bc1b1-30af-4895-8e8a-68bedbccf84c\", \"x\": [59.9], \"y\": [355769.23076923075]}, {\"marker\": {\"color\": \"rgba(251, 128, 114, 0.853658536585366)\", \"line\": {\"width\": 1.3}, \"opacity\": 0.8, \"size\": 12, \"symbol\": \"circle\"}, \"mode\": \"markers\", \"name\": \"Colombia\", \"textfont\": {\"color\": \"#4D5663\"}, \"type\": \"scatter\", \"uid\": \"8df7d777-d4e9-49e8-bd30-864293d83ddc\", \"x\": [65.58766233766234], \"y\": [1790405.844155844]}, {\"marker\": {\"color\": \"rgba(128, 177, 211, 0.853658536585366)\", \"line\": {\"width\": 1.3}, \"opacity\": 0.8, \"size\": 12, \"symbol\": \"circle\"}, \"mode\": \"markers\", \"name\": \"Comoros\", \"textfont\": {\"color\": \"#4D5663\"}, \"type\": \"scatter\", \"uid\": \"c27d0ea6-b19c-47f0-9b09-a8e1b2e5d4df\", \"x\": [67.5], \"y\": [1391666.6666666667]}, {\"marker\": {\"color\": \"rgba(255, 153, 51, 0.853658536585366)\", \"line\": {\"width\": 1.3}, \"opacity\": 0.8, \"size\": 12, \"symbol\": \"circle\"}, \"mode\": \"markers\", \"name\": \"Congo\", \"textfont\": {\"color\": \"#4D5663\"}, \"type\": \"scatter\", \"uid\": \"4f56ad63-fd16-442f-b25f-fb746f30c3b6\", \"x\": [63.92], \"y\": [978400.0]}, {\"marker\": {\"color\": \"rgba(55, 128, 191, 0.853658536585366)\", \"line\": {\"width\": 1.3}, \"opacity\": 0.8, \"size\": 12, \"symbol\": \"circle\"}, \"mode\": \"markers\", \"name\": \"Costa Rica\", \"textfont\": {\"color\": \"#4D5663\"}, \"type\": \"scatter\", \"uid\": \"b4509480-11dd-4e43-a69b-61210ea44c89\", \"x\": [68.86666666666666], \"y\": [2910666.6666666665]}, {\"marker\": {\"color\": \"rgba(50, 171, 96, 0.853658536585366)\", \"line\": {\"width\": 1.3}, \"opacity\": 0.8, \"size\": 12, \"symbol\": \"circle\"}, \"mode\": \"markers\", \"name\": \"Croatia\", \"textfont\": {\"color\": \"#4D5663\"}, \"type\": \"scatter\", \"uid\": \"c4f11ab9-dd42-40cb-a5b4-857380617892\", \"x\": [69.56349206349206], \"y\": [5223849.206349206]}, {\"marker\": {\"color\": \"rgba(128, 0, 128, 0.853658536585366)\", \"line\": {\"width\": 1.3}, \"opacity\": 0.8, \"size\": 12, \"symbol\": \"circle\"}, \"mode\": \"markers\", \"name\": \"Cuba\", \"textfont\": {\"color\": \"#4D5663\"}, \"type\": \"scatter\", \"uid\": \"767fb064-8f2a-4d4f-bb6d-e8e9ae62d5b3\", \"x\": [66.0], \"y\": [1487500.0]}, {\"marker\": {\"color\": \"rgba(219, 64, 82, 0.853658536585366)\", \"line\": {\"width\": 1.3}, \"opacity\": 0.8, \"size\": 12, \"symbol\": \"circle\"}, \"mode\": \"markers\", \"name\": \"Curacao\", \"textfont\": {\"color\": \"#4D5663\"}, \"type\": \"scatter\", \"uid\": \"28eaa406-5d14-4dc1-a027-ed28506862ff\", \"x\": [67.57142857142857], \"y\": [1648571.4285714286]}, {\"marker\": {\"color\": \"rgba(0, 128, 128, 0.853658536585366)\", \"line\": {\"width\": 1.3}, \"opacity\": 0.8, \"size\": 12, \"symbol\": \"circle\"}, \"mode\": \"markers\", \"name\": \"Cyprus\", \"textfont\": {\"color\": \"#4D5663\"}, \"type\": \"scatter\", \"uid\": \"05b879f7-5504-4890-812a-fd7478b8bfce\", \"x\": [64.125], \"y\": [1238125.0]}, {\"marker\": {\"color\": \"rgba(255, 255, 51, 0.853658536585366)\", \"line\": {\"width\": 1.3}, \"opacity\": 0.8, \"size\": 12, \"symbol\": \"circle\"}, \"mode\": \"markers\", \"name\": \"Czech Republic\", \"textfont\": {\"color\": \"#4D5663\"}, \"type\": \"scatter\", \"uid\": \"6f63eb6f-6e72-4e72-922c-7571bf805cdd\", \"x\": [69.51], \"y\": [2837200.0]}, {\"marker\": {\"color\": \"rgba(255, 255, 51, 0.8048780487804879)\", \"line\": {\"width\": 1.3}, \"opacity\": 0.8, \"size\": 12, \"symbol\": \"circle\"}, \"mode\": \"markers\", \"name\": \"DR Congo\", \"textfont\": {\"color\": \"#4D5663\"}, \"type\": \"scatter\", \"uid\": \"db84adda-74d3-4706-9ec1-383be738c71e\", \"x\": [69.21153846153847], \"y\": [3160480.769230769]}, {\"marker\": {\"color\": \"rgba(128, 128, 0, 0.8048780487804879)\", \"line\": {\"width\": 1.3}, \"opacity\": 0.8, \"size\": 12, \"symbol\": \"circle\"}, \"mode\": \"markers\", \"name\": \"Denmark\", \"textfont\": {\"color\": \"#4D5663\"}, \"type\": \"scatter\", \"uid\": \"2dfc4a4a-a536-4b4f-9cab-d0b2439a8e9f\", \"x\": [63.722388059701494], \"y\": [1792000.0]}, {\"marker\": {\"color\": \"rgba(251, 128, 114, 0.8048780487804879)\", \"line\": {\"width\": 1.3}, \"opacity\": 0.8, \"size\": 12, \"symbol\": \"circle\"}, \"mode\": \"markers\", \"name\": \"Dominican Republic\", \"textfont\": {\"color\": \"#4D5663\"}, \"type\": \"scatter\", \"uid\": \"f1b528da-0b7f-4a2d-a4f8-beae7ad04d66\", \"x\": [72.0], \"y\": [10400000.0]}, {\"marker\": {\"color\": \"rgba(128, 177, 211, 0.8048780487804879)\", \"line\": {\"width\": 1.3}, \"opacity\": 0.8, \"size\": 12, \"symbol\": \"circle\"}, \"mode\": \"markers\", \"name\": \"Ecuador\", \"textfont\": {\"color\": \"#4D5663\"}, \"type\": \"scatter\", \"uid\": \"07812e86-4b63-46bf-a5ad-8c7251fabb99\", \"x\": [68.79069767441861], \"y\": [1987790.6976744186]}, {\"marker\": {\"color\": \"rgba(255, 153, 51, 0.8048780487804879)\", \"line\": {\"width\": 1.3}, \"opacity\": 0.8, \"size\": 12, \"symbol\": \"circle\"}, \"mode\": \"markers\", \"name\": \"Egypt\", \"textfont\": {\"color\": \"#4D5663\"}, \"type\": \"scatter\", \"uid\": \"efb0e5ea-ad34-4f1b-ab4b-ac54208740fd\", \"x\": [70.2258064516129], \"y\": [4295967.741935484]}, {\"marker\": {\"color\": \"rgba(55, 128, 191, 0.8048780487804879)\", \"line\": {\"width\": 1.3}, \"opacity\": 0.8, \"size\": 12, \"symbol\": \"circle\"}, \"mode\": \"markers\", \"name\": \"El Salvador\", \"textfont\": {\"color\": \"#4D5663\"}, \"type\": \"scatter\", \"uid\": \"1bd5ac10-9fd0-4af4-8d95-3ae9d39e1ceb\", \"x\": [66.0], \"y\": [795000.0]}, {\"marker\": {\"color\": \"rgba(50, 171, 96, 0.8048780487804879)\", \"line\": {\"width\": 1.3}, \"opacity\": 0.8, \"size\": 12, \"symbol\": \"circle\"}, \"mode\": \"markers\", \"name\": \"England\", \"textfont\": {\"color\": \"#4D5663\"}, \"type\": \"scatter\", \"uid\": \"3b6b2792-6260-4bd8-8995-468939e62cb3\", \"x\": [63.43391671695836], \"y\": [1502202.776101388]}, {\"marker\": {\"color\": \"rgba(128, 0, 128, 0.8048780487804879)\", \"line\": {\"width\": 1.3}, \"opacity\": 0.8, \"size\": 12, \"symbol\": \"circle\"}, \"mode\": \"markers\", \"name\": \"Equatorial Guinea\", \"textfont\": {\"color\": \"#4D5663\"}, \"type\": \"scatter\", \"uid\": \"ef420652-54c7-47e8-927d-796abe6aa75f\", \"x\": [70.0], \"y\": [2790000.0]}, {\"marker\": {\"color\": \"rgba(219, 64, 82, 0.8048780487804879)\", \"line\": {\"width\": 1.3}, \"opacity\": 0.8, \"size\": 12, \"symbol\": \"circle\"}, \"mode\": \"markers\", \"name\": \"Eritrea\", \"textfont\": {\"color\": \"#4D5663\"}, \"type\": \"scatter\", \"uid\": \"90b3c272-1ce5-4365-a4b4-02960f5e3026\", \"x\": [67.5], \"y\": [1237500.0]}, {\"marker\": {\"color\": \"rgba(0, 128, 128, 0.8048780487804879)\", \"line\": {\"width\": 1.3}, \"opacity\": 0.8, \"size\": 12, \"symbol\": \"circle\"}, \"mode\": \"markers\", \"name\": \"Estonia\", \"textfont\": {\"color\": \"#4D5663\"}, \"type\": \"scatter\", \"uid\": \"b79d6c47-b7fe-430b-93c8-a0caa2a8ade6\", \"x\": [65.16666666666667], \"y\": [825000.0]}, {\"marker\": {\"color\": \"rgba(0, 128, 128, 0.7560975609756098)\", \"line\": {\"width\": 1.3}, \"opacity\": 0.8, \"size\": 12, \"symbol\": \"circle\"}, \"mode\": \"markers\", \"name\": \"Ethiopia\", \"textfont\": {\"color\": \"#4D5663\"}, \"type\": \"scatter\", \"uid\": \"5ad715a5-6378-4c9c-a1cd-1695bcfeabde\", \"x\": [64.0], \"y\": [250000.0]}, {\"marker\": {\"color\": \"rgba(255, 255, 51, 0.7560975609756098)\", \"line\": {\"width\": 1.3}, \"opacity\": 0.8, \"size\": 12, \"symbol\": \"circle\"}, \"mode\": \"markers\", \"name\": \"FYR Macedonia\", \"textfont\": {\"color\": \"#4D5663\"}, \"type\": \"scatter\", \"uid\": \"6a59be9d-70c4-4932-b350-3b696495abd5\", \"x\": [68.0], \"y\": [2778750.0]}, {\"marker\": {\"color\": \"rgba(128, 128, 0, 0.7560975609756098)\", \"line\": {\"width\": 1.3}, \"opacity\": 0.8, \"size\": 12, \"symbol\": \"circle\"}, \"mode\": \"markers\", \"name\": \"Faroe Islands\", \"textfont\": {\"color\": \"#4D5663\"}, \"type\": \"scatter\", \"uid\": \"bc0afd7a-998d-41c3-9a81-5aba8fe2fb52\", \"x\": [62.5], \"y\": [526666.6666666666]}, {\"marker\": {\"color\": \"rgba(251, 128, 114, 0.7560975609756098)\", \"line\": {\"width\": 1.3}, \"opacity\": 0.8, \"size\": 12, \"symbol\": \"circle\"}, \"mode\": \"markers\", \"name\": \"Fiji\", \"textfont\": {\"color\": \"#4D5663\"}, \"type\": \"scatter\", \"uid\": \"3d07ccbf-da61-4945-bd4a-63cba028b374\", \"x\": [71.0], \"y\": [2300000.0]}, {\"marker\": {\"color\": \"rgba(128, 177, 211, 0.7560975609756098)\", \"line\": {\"width\": 1.3}, \"opacity\": 0.8, \"size\": 12, \"symbol\": \"circle\"}, \"mode\": \"markers\", \"name\": \"Finland\", \"textfont\": {\"color\": \"#4D5663\"}, \"type\": \"scatter\", \"uid\": \"e457c445-4d6a-4028-809f-7207fac2c7a2\", \"x\": [64.02985074626865], \"y\": [1454477.6119402985]}, {\"marker\": {\"color\": \"rgba(255, 153, 51, 0.7560975609756098)\", \"line\": {\"width\": 1.3}, \"opacity\": 0.8, \"size\": 12, \"symbol\": \"circle\"}, \"mode\": \"markers\", \"name\": \"France\", \"textfont\": {\"color\": \"#4D5663\"}, \"type\": \"scatter\", \"uid\": \"3310e4a7-2a4a-4449-90ce-486bfd734042\", \"x\": [67.81778265642151], \"y\": [3690428.100987925]}, {\"marker\": {\"color\": \"rgba(55, 128, 191, 0.7560975609756098)\", \"line\": {\"width\": 1.3}, \"opacity\": 0.8, \"size\": 12, \"symbol\": \"circle\"}, \"mode\": \"markers\", \"name\": \"Gabon\", \"textfont\": {\"color\": \"#4D5663\"}, \"type\": \"scatter\", \"uid\": \"e9226bb7-3260-4837-a90e-1ee2abd72fdb\", \"x\": [69.46666666666667], \"y\": [6628333.333333333]}, {\"marker\": {\"color\": \"rgba(50, 171, 96, 0.7560975609756098)\", \"line\": {\"width\": 1.3}, \"opacity\": 0.8, \"size\": 12, \"symbol\": \"circle\"}, \"mode\": \"markers\", \"name\": \"Gambia\", \"textfont\": {\"color\": \"#4D5663\"}, \"type\": \"scatter\", \"uid\": \"20f285f9-b63f-4473-a8e8-715ab9a977c6\", \"x\": [67.2], \"y\": [2031333.3333333333]}, {\"marker\": {\"color\": \"rgba(128, 0, 128, 0.7560975609756098)\", \"line\": {\"width\": 1.3}, \"opacity\": 0.8, \"size\": 12, \"symbol\": \"circle\"}, \"mode\": \"markers\", \"name\": \"Georgia\", \"textfont\": {\"color\": \"#4D5663\"}, \"type\": \"scatter\", \"uid\": \"bab43024-2017-4cad-800a-e6adc2baa895\", \"x\": [68.34615384615384], \"y\": [2268461.5384615385]}, {\"marker\": {\"color\": \"rgba(219, 64, 82, 0.7560975609756098)\", \"line\": {\"width\": 1.3}, \"opacity\": 0.8, \"size\": 12, \"symbol\": \"circle\"}, \"mode\": \"markers\", \"name\": \"Germany\", \"textfont\": {\"color\": \"#4D5663\"}, \"type\": \"scatter\", \"uid\": \"8d8d88f6-c843-474e-a3b7-31a4ab2acaa5\", \"x\": [66.09707112970712], \"y\": [2534652.719665272]}, {\"marker\": {\"color\": \"rgba(219, 64, 82, 0.7073170731707317)\", \"line\": {\"width\": 1.3}, \"opacity\": 0.8, \"size\": 12, \"symbol\": \"circle\"}, \"mode\": \"markers\", \"name\": \"Ghana\", \"textfont\": {\"color\": \"#4D5663\"}, \"type\": \"scatter\", \"uid\": \"02ff6b44-e6d0-40f8-adb7-5abfd2b597b2\", \"x\": [67.04385964912281], \"y\": [2551447.3684210526]}, {\"marker\": {\"color\": \"rgba(0, 128, 128, 0.7073170731707317)\", \"line\": {\"width\": 1.3}, \"opacity\": 0.8, \"size\": 12, \"symbol\": \"circle\"}, \"mode\": \"markers\", \"name\": \"Greece\", \"textfont\": {\"color\": \"#4D5663\"}, \"type\": \"scatter\", \"uid\": \"5bf03bd8-d02b-4b08-9d6f-befde9949854\", \"x\": [69.06862745098039], \"y\": [3034264.705882353]}, {\"marker\": {\"color\": \"rgba(255, 255, 51, 0.7073170731707317)\", \"line\": {\"width\": 1.3}, \"opacity\": 0.8, \"size\": 12, \"symbol\": \"circle\"}, \"mode\": \"markers\", \"name\": \"Grenada\", \"textfont\": {\"color\": \"#4D5663\"}, \"type\": \"scatter\", \"uid\": \"428e7346-40fc-4ce0-b371-ddcddc8d8dca\", \"x\": [63.0], \"y\": [425000.0]}, {\"marker\": {\"color\": \"rgba(128, 128, 0, 0.7073170731707317)\", \"line\": {\"width\": 1.3}, \"opacity\": 0.8, \"size\": 12, \"symbol\": \"circle\"}, \"mode\": \"markers\", \"name\": \"Guam\", \"textfont\": {\"color\": \"#4D5663\"}, \"type\": \"scatter\", \"uid\": \"ff9f2e1e-916a-4425-89e4-4ff63d3ce103\", \"x\": [67.0], \"y\": [550000.0]}, {\"marker\": {\"color\": \"rgba(251, 128, 114, 0.7073170731707317)\", \"line\": {\"width\": 1.3}, \"opacity\": 0.8, \"size\": 12, \"symbol\": \"circle\"}, \"mode\": \"markers\", \"name\": \"Guatemala\", \"textfont\": {\"color\": \"#4D5663\"}, \"type\": \"scatter\", \"uid\": \"e6cf2bca-47ae-41c5-87d8-16312d4b4d32\", \"x\": [63.666666666666664], \"y\": [415000.0]}, {\"marker\": {\"color\": \"rgba(128, 177, 211, 0.7073170731707317)\", \"line\": {\"width\": 1.3}, \"opacity\": 0.8, \"size\": 12, \"symbol\": \"circle\"}, \"mode\": \"markers\", \"name\": \"Guinea\", \"textfont\": {\"color\": \"#4D5663\"}, \"type\": \"scatter\", \"uid\": \"9b20884d-4d6f-4693-918d-861c909ef38d\", \"x\": [68.12903225806451], \"y\": [3423064.5161290322]}, {\"marker\": {\"color\": \"rgba(255, 153, 51, 0.7073170731707317)\", \"line\": {\"width\": 1.3}, \"opacity\": 0.8, \"size\": 12, \"symbol\": \"circle\"}, \"mode\": \"markers\", \"name\": \"Guinea Bissau\", \"textfont\": {\"color\": \"#4D5663\"}, \"type\": \"scatter\", \"uid\": \"7063d5ef-4a9a-4eb9-b1bf-0041d61be7ae\", \"x\": [67.26666666666667], \"y\": [2221333.3333333335]}, {\"marker\": {\"color\": \"rgba(55, 128, 191, 0.7073170731707317)\", \"line\": {\"width\": 1.3}, \"opacity\": 0.8, \"size\": 12, \"symbol\": \"circle\"}, \"mode\": \"markers\", \"name\": \"Guyana\", \"textfont\": {\"color\": \"#4D5663\"}, \"type\": \"scatter\", \"uid\": \"d11999c9-44da-471f-bc9f-5feacb48ea33\", \"x\": [61.666666666666664], \"y\": [276666.6666666667]}, {\"marker\": {\"color\": \"rgba(50, 171, 96, 0.7073170731707317)\", \"line\": {\"width\": 1.3}, \"opacity\": 0.8, \"size\": 12, \"symbol\": \"circle\"}, \"mode\": \"markers\", \"name\": \"Haiti\", \"textfont\": {\"color\": \"#4D5663\"}, \"type\": \"scatter\", \"uid\": \"ba017079-c07e-4348-ab9f-4998f0cb36a0\", \"x\": [63.4], \"y\": [928500.0]}, {\"marker\": {\"color\": \"rgba(128, 0, 128, 0.7073170731707317)\", \"line\": {\"width\": 1.3}, \"opacity\": 0.8, \"size\": 12, \"symbol\": \"circle\"}, \"mode\": \"markers\", \"name\": \"Honduras\", \"textfont\": {\"color\": \"#4D5663\"}, \"type\": \"scatter\", \"uid\": \"6a52f780-a213-42f6-b235-a3093a4a9ec8\", \"x\": [69.1875], \"y\": [2527187.5]}, {\"marker\": {\"color\": \"rgba(128, 0, 128, 0.6585365853658538)\", \"line\": {\"width\": 1.3}, \"opacity\": 0.8, \"size\": 12, \"symbol\": \"circle\"}, \"mode\": \"markers\", \"name\": \"Hong Kong\", \"textfont\": {\"color\": \"#4D5663\"}, \"type\": \"scatter\", \"uid\": \"8fec414c-28b0-4136-8888-808c25b667f9\", \"x\": [60.5], \"y\": [145000.0]}, {\"marker\": {\"color\": \"rgba(219, 64, 82, 0.6585365853658538)\", \"line\": {\"width\": 1.3}, \"opacity\": 0.8, \"size\": 12, \"symbol\": \"circle\"}, \"mode\": \"markers\", \"name\": \"Hungary\", \"textfont\": {\"color\": \"#4D5663\"}, \"type\": \"scatter\", \"uid\": \"8057ade1-7c6b-4951-9d06-a5f8f21adec4\", \"x\": [69.23684210526316], \"y\": [1897500.0]}, {\"marker\": {\"color\": \"rgba(0, 128, 128, 0.6585365853658538)\", \"line\": {\"width\": 1.3}, \"opacity\": 0.8, \"size\": 12, \"symbol\": \"circle\"}, \"mode\": \"markers\", \"name\": \"Iceland\", \"textfont\": {\"color\": \"#4D5663\"}, \"type\": \"scatter\", \"uid\": \"e382696a-5cf8-49d3-a0c3-69bfd9c21dd2\", \"x\": [66.8936170212766], \"y\": [1638723.4042553192]}, {\"marker\": {\"color\": \"rgba(255, 255, 51, 0.6585365853658538)\", \"line\": {\"width\": 1.3}, \"opacity\": 0.8, \"size\": 12, \"symbol\": \"circle\"}, \"mode\": \"markers\", \"name\": \"India\", \"textfont\": {\"color\": \"#4D5663\"}, \"type\": \"scatter\", \"uid\": \"ad0b104e-b1bb-49e1-b08b-8554d9cb9c51\", \"x\": [58.666666666666664], \"y\": [0.0]}, {\"marker\": {\"color\": \"rgba(128, 128, 0, 0.6585365853658538)\", \"line\": {\"width\": 1.3}, \"opacity\": 0.8, \"size\": 12, \"symbol\": \"circle\"}, \"mode\": \"markers\", \"name\": \"Indonesia\", \"textfont\": {\"color\": \"#4D5663\"}, \"type\": \"scatter\", \"uid\": \"584aee7b-5fae-43f8-9736-30ae70261733\", \"x\": [56.0], \"y\": [180000.0]}, {\"marker\": {\"color\": \"rgba(251, 128, 114, 0.6585365853658538)\", \"line\": {\"width\": 1.3}, \"opacity\": 0.8, \"size\": 12, \"symbol\": \"circle\"}, \"mode\": \"markers\", \"name\": \"Iran\", \"textfont\": {\"color\": \"#4D5663\"}, \"type\": \"scatter\", \"uid\": \"e108310d-0059-4f7f-8aac-ddacefd13541\", \"x\": [68.82352941176471], \"y\": [2627941.1764705884]}, {\"marker\": {\"color\": \"rgba(128, 177, 211, 0.6585365853658538)\", \"line\": {\"width\": 1.3}, \"opacity\": 0.8, \"size\": 12, \"symbol\": \"circle\"}, \"mode\": \"markers\", \"name\": \"Iraq\", \"textfont\": {\"color\": \"#4D5663\"}, \"type\": \"scatter\", \"uid\": \"3940e70c-a819-4bb4-82c2-1299dd3e1545\", \"x\": [67.0], \"y\": [1732857.142857143]}, {\"marker\": {\"color\": \"rgba(255, 153, 51, 0.6585365853658538)\", \"line\": {\"width\": 1.3}, \"opacity\": 0.8, \"size\": 12, \"symbol\": \"circle\"}, \"mode\": \"markers\", \"name\": \"Israel\", \"textfont\": {\"color\": \"#4D5663\"}, \"type\": \"scatter\", \"uid\": \"c2ae86b0-02ba-44be-a75c-10018e5e14fc\", \"x\": [72.14285714285714], \"y\": [4191071.4285714286]}, {\"marker\": {\"color\": \"rgba(55, 128, 191, 0.6585365853658538)\", \"line\": {\"width\": 1.3}, \"opacity\": 0.8, \"size\": 12, \"symbol\": \"circle\"}, \"mode\": \"markers\", \"name\": \"Italy\", \"textfont\": {\"color\": \"#4D5663\"}, \"type\": \"scatter\", \"uid\": \"e060c0b4-71c5-4e0e-8dcb-b3dd25eedac0\", \"x\": [68.18454935622317], \"y\": [3059077.253218884]}, {\"marker\": {\"color\": \"rgba(50, 171, 96, 0.6585365853658538)\", \"line\": {\"width\": 1.3}, \"opacity\": 0.8, \"size\": 12, \"symbol\": \"circle\"}, \"mode\": \"markers\", \"name\": \"Ivory Coast\", \"textfont\": {\"color\": \"#4D5663\"}, \"type\": \"scatter\", \"uid\": \"31f3faeb-8f2b-4c51-908c-7a65601c21ad\", \"x\": [69.39], \"y\": [3460200.0]}, {\"marker\": {\"color\": \"rgba(50, 171, 96, 0.6097560975609757)\", \"line\": {\"width\": 1.3}, \"opacity\": 0.8, \"size\": 12, \"symbol\": \"circle\"}, \"mode\": \"markers\", \"name\": \"Jamaica\", \"textfont\": {\"color\": \"#4D5663\"}, \"type\": \"scatter\", \"uid\": \"7aff1299-5717-4a4d-852c-30c39e70ed99\", \"x\": [66.625], \"y\": [1901406.25]}, {\"marker\": {\"color\": \"rgba(128, 0, 128, 0.6097560975609757)\", \"line\": {\"width\": 1.3}, \"opacity\": 0.8, \"size\": 12, \"symbol\": \"circle\"}, \"mode\": \"markers\", \"name\": \"Japan\", \"textfont\": {\"color\": \"#4D5663\"}, \"type\": \"scatter\", \"uid\": \"830d6c3f-f250-4424-a4ee-3643cdbd04de\", \"x\": [62.62133891213389], \"y\": [831422.5941422594]}, {\"marker\": {\"color\": \"rgba(219, 64, 82, 0.6097560975609757)\", \"line\": {\"width\": 1.3}, \"opacity\": 0.8, \"size\": 12, \"symbol\": \"circle\"}, \"mode\": \"markers\", \"name\": \"Jordan\", \"textfont\": {\"color\": \"#4D5663\"}, \"type\": \"scatter\", \"uid\": \"e327d097-88b6-4577-9312-0a3b71b01576\", \"x\": [63.0], \"y\": [425000.0]}, {\"marker\": {\"color\": \"rgba(0, 128, 128, 0.6097560975609757)\", \"line\": {\"width\": 1.3}, \"opacity\": 0.8, \"size\": 12, \"symbol\": \"circle\"}, \"mode\": \"markers\", \"name\": \"Kazakhstan\", \"textfont\": {\"color\": \"#4D5663\"}, \"type\": \"scatter\", \"uid\": \"fa7d64c7-dd73-4296-aa15-ce5fdde81b98\", \"x\": [64.75], \"y\": [587500.0]}, {\"marker\": {\"color\": \"rgba(255, 255, 51, 0.6097560975609757)\", \"line\": {\"width\": 1.3}, \"opacity\": 0.8, \"size\": 12, \"symbol\": \"circle\"}, \"mode\": \"markers\", \"name\": \"Kenya\", \"textfont\": {\"color\": \"#4D5663\"}, \"type\": \"scatter\", \"uid\": \"4885e17f-6093-4dd7-862b-b05c64d2249c\", \"x\": [65.4], \"y\": [2261000.0]}, {\"marker\": {\"color\": \"rgba(128, 128, 0, 0.6097560975609757)\", \"line\": {\"width\": 1.3}, \"opacity\": 0.8, \"size\": 12, \"symbol\": \"circle\"}, \"mode\": \"markers\", \"name\": \"Korea DPR\", \"textfont\": {\"color\": \"#4D5663\"}, \"type\": \"scatter\", \"uid\": \"0e9bb57e-b2ce-4d80-81a8-41d3bda7ace2\", \"x\": [65.5], \"y\": [950000.0]}, {\"marker\": {\"color\": \"rgba(251, 128, 114, 0.6097560975609757)\", \"line\": {\"width\": 1.3}, \"opacity\": 0.8, \"size\": 12, \"symbol\": \"circle\"}, \"mode\": \"markers\", \"name\": \"Korea Republic\", \"textfont\": {\"color\": \"#4D5663\"}, \"type\": \"scatter\", \"uid\": \"82bcebff-ca63-4ecf-904e-0ce69f04d4b7\", \"x\": [64.1951951951952], \"y\": [874159.1591591592]}, {\"marker\": {\"color\": \"rgba(128, 177, 211, 0.6097560975609757)\", \"line\": {\"width\": 1.3}, \"opacity\": 0.8, \"size\": 12, \"symbol\": \"circle\"}, \"mode\": \"markers\", \"name\": \"Kosovo\", \"textfont\": {\"color\": \"#4D5663\"}, \"type\": \"scatter\", \"uid\": \"a4b715ca-3590-4e58-b2b1-d9b2d3088668\", \"x\": [66.03030303030303], \"y\": [1842424.2424242424]}, {\"marker\": {\"color\": \"rgba(255, 153, 51, 0.6097560975609757)\", \"line\": {\"width\": 1.3}, \"opacity\": 0.8, \"size\": 12, \"symbol\": \"circle\"}, \"mode\": \"markers\", \"name\": \"Kuwait\", \"textfont\": {\"color\": \"#4D5663\"}, \"type\": \"scatter\", \"uid\": \"7d3058c7-f089-44ad-a50b-49ab4f6a2d23\", \"x\": [70.0], \"y\": [1200000.0]}, {\"marker\": {\"color\": \"rgba(55, 128, 191, 0.6097560975609757)\", \"line\": {\"width\": 1.3}, \"opacity\": 0.8, \"size\": 12, \"symbol\": \"circle\"}, \"mode\": \"markers\", \"name\": \"Latvia\", \"textfont\": {\"color\": \"#4D5663\"}, \"type\": \"scatter\", \"uid\": \"85c2eb9d-69ed-4a6e-aaf3-cb146e19d141\", \"x\": [63.166666666666664], \"y\": [445833.3333333333]}, {\"marker\": {\"color\": \"rgba(55, 128, 191, 0.5609756097560976)\", \"line\": {\"width\": 1.3}, \"opacity\": 0.8, \"size\": 12, \"symbol\": \"circle\"}, \"mode\": \"markers\", \"name\": \"Lebanon\", \"textfont\": {\"color\": \"#4D5663\"}, \"type\": \"scatter\", \"uid\": \"0d1991db-8dcc-4b5b-88f1-858df7cea2be\", \"x\": [66.0], \"y\": [500000.0]}, {\"marker\": {\"color\": \"rgba(50, 171, 96, 0.5609756097560976)\", \"line\": {\"width\": 1.3}, \"opacity\": 0.8, \"size\": 12, \"symbol\": \"circle\"}, \"mode\": \"markers\", \"name\": \"Liberia\", \"textfont\": {\"color\": \"#4D5663\"}, \"type\": \"scatter\", \"uid\": \"fd8107a3-c0fc-4db7-9b04-ea923422d286\", \"x\": [68.0], \"y\": [1200000.0]}, {\"marker\": {\"color\": \"rgba(128, 0, 128, 0.5609756097560976)\", \"line\": {\"width\": 1.3}, \"opacity\": 0.8, \"size\": 12, \"symbol\": \"circle\"}, \"mode\": \"markers\", \"name\": \"Libya\", \"textfont\": {\"color\": \"#4D5663\"}, \"type\": \"scatter\", \"uid\": \"0bc902e8-7d62-4dc8-8423-00aa12af8b7a\", \"x\": [70.0], \"y\": [2400000.0]}, {\"marker\": {\"color\": \"rgba(219, 64, 82, 0.5609756097560976)\", \"line\": {\"width\": 1.3}, \"opacity\": 0.8, \"size\": 12, \"symbol\": \"circle\"}, \"mode\": \"markers\", \"name\": \"Liechtenstein\", \"textfont\": {\"color\": \"#4D5663\"}, \"type\": \"scatter\", \"uid\": \"9fe3f989-b78a-4adb-809a-2cd00dd78a00\", \"x\": [64.66666666666667], \"y\": [1078333.3333333333]}, {\"marker\": {\"color\": \"rgba(0, 128, 128, 0.5609756097560976)\", \"line\": {\"width\": 1.3}, \"opacity\": 0.8, \"size\": 12, \"symbol\": \"circle\"}, \"mode\": \"markers\", \"name\": \"Lithuania\", \"textfont\": {\"color\": \"#4D5663\"}, \"type\": \"scatter\", \"uid\": \"aba44bd2-b4c8-429b-a59c-74ca9d0bbdcf\", \"x\": [63.5], \"y\": [875625.0]}, {\"marker\": {\"color\": \"rgba(255, 255, 51, 0.5609756097560976)\", \"line\": {\"width\": 1.3}, \"opacity\": 0.8, \"size\": 12, \"symbol\": \"circle\"}, \"mode\": \"markers\", \"name\": \"Luxembourg\", \"textfont\": {\"color\": \"#4D5663\"}, \"type\": \"scatter\", \"uid\": \"9507a698-713e-4385-bf99-f4f6b6c187ac\", \"x\": [63.875], \"y\": [853750.0]}, {\"marker\": {\"color\": \"rgba(128, 128, 0, 0.5609756097560976)\", \"line\": {\"width\": 1.3}, \"opacity\": 0.8, \"size\": 12, \"symbol\": \"circle\"}, \"mode\": \"markers\", \"name\": \"Madagascar\", \"textfont\": {\"color\": \"#4D5663\"}, \"type\": \"scatter\", \"uid\": \"70a0e9eb-7ce5-4b98-b76a-d758e9bc0d61\", \"x\": [66.91666666666667], \"y\": [1014166.6666666666]}, {\"marker\": {\"color\": \"rgba(251, 128, 114, 0.5609756097560976)\", \"line\": {\"width\": 1.3}, \"opacity\": 0.8, \"size\": 12, \"symbol\": \"circle\"}, \"mode\": \"markers\", \"name\": \"Mali\", \"textfont\": {\"color\": \"#4D5663\"}, \"type\": \"scatter\", \"uid\": \"843f9f08-6e70-496d-a9f4-975494370572\", \"x\": [68.97674418604652], \"y\": [2688372.093023256]}, {\"marker\": {\"color\": \"rgba(128, 177, 211, 0.5609756097560976)\", \"line\": {\"width\": 1.3}, \"opacity\": 0.8, \"size\": 12, \"symbol\": \"circle\"}, \"mode\": \"markers\", \"name\": \"Malta\", \"textfont\": {\"color\": \"#4D5663\"}, \"type\": \"scatter\", \"uid\": \"9d9c0172-f812-4ce9-ae37-ae6078faebd6\", \"x\": [61.0], \"y\": [300000.0]}, {\"marker\": {\"color\": \"rgba(255, 153, 51, 0.5609756097560976)\", \"line\": {\"width\": 1.3}, \"opacity\": 0.8, \"size\": 12, \"symbol\": \"circle\"}, \"mode\": \"markers\", \"name\": \"Mauritania\", \"textfont\": {\"color\": \"#4D5663\"}, \"type\": \"scatter\", \"uid\": \"7cb864e9-e0f0-4d7a-8aa4-e8fd627621e4\", \"x\": [64.5], \"y\": [600000.0]}, {\"marker\": {\"color\": \"rgba(255, 153, 51, 0.5121951219512195)\", \"line\": {\"width\": 1.3}, \"opacity\": 0.8, \"size\": 12, \"symbol\": \"circle\"}, \"mode\": \"markers\", \"name\": \"Mauritius\", \"textfont\": {\"color\": \"#4D5663\"}, \"type\": \"scatter\", \"uid\": \"a93d01f6-7b9c-48db-abbf-e67848ca2ec3\", \"x\": [68.0], \"y\": [875000.0]}, {\"marker\": {\"color\": \"rgba(55, 128, 191, 0.5121951219512195)\", \"line\": {\"width\": 1.3}, \"opacity\": 0.8, \"size\": 12, \"symbol\": \"circle\"}, \"mode\": \"markers\", \"name\": \"Mexico\", \"textfont\": {\"color\": \"#4D5663\"}, \"type\": \"scatter\", \"uid\": \"de27b6cf-5904-487d-9231-b184491bee80\", \"x\": [65.42739726027398], \"y\": [1687876.7123287672]}, {\"marker\": {\"color\": \"rgba(50, 171, 96, 0.5121951219512195)\", \"line\": {\"width\": 1.3}, \"opacity\": 0.8, \"size\": 12, \"symbol\": \"circle\"}, \"mode\": \"markers\", \"name\": \"Moldova\", \"textfont\": {\"color\": \"#4D5663\"}, \"type\": \"scatter\", \"uid\": \"9738ac7c-3345-4d1c-a4eb-25defa74d9ec\", \"x\": [66.2], \"y\": [2359000.0]}, {\"marker\": {\"color\": \"rgba(128, 0, 128, 0.5121951219512195)\", \"line\": {\"width\": 1.3}, \"opacity\": 0.8, \"size\": 12, \"symbol\": \"circle\"}, \"mode\": \"markers\", \"name\": \"Montenegro\", \"textfont\": {\"color\": \"#4D5663\"}, \"type\": \"scatter\", \"uid\": \"48eb3ffe-e0f0-4c93-b32d-5a5211ea1afa\", \"x\": [68.47826086956522], \"y\": [3405869.565217391]}, {\"marker\": {\"color\": \"rgba(219, 64, 82, 0.5121951219512195)\", \"line\": {\"width\": 1.3}, \"opacity\": 0.8, \"size\": 12, \"symbol\": \"circle\"}, \"mode\": \"markers\", \"name\": \"Montserrat\", \"textfont\": {\"color\": \"#4D5663\"}, \"type\": \"scatter\", \"uid\": \"3112004f-15d7-46bb-ab82-1b5546326893\", \"x\": [64.75], \"y\": [587500.0]}, {\"marker\": {\"color\": \"rgba(0, 128, 128, 0.5121951219512195)\", \"line\": {\"width\": 1.3}, \"opacity\": 0.8, \"size\": 12, \"symbol\": \"circle\"}, \"mode\": \"markers\", \"name\": \"Morocco\", \"textfont\": {\"color\": \"#4D5663\"}, \"type\": \"scatter\", \"uid\": \"3c9d75a2-5904-4693-9902-ce684c8403f9\", \"x\": [69.94117647058823], \"y\": [3948352.9411764704]}, {\"marker\": {\"color\": \"rgba(255, 255, 51, 0.5121951219512195)\", \"line\": {\"width\": 1.3}, \"opacity\": 0.8, \"size\": 12, \"symbol\": \"circle\"}, \"mode\": \"markers\", \"name\": \"Mozambique\", \"textfont\": {\"color\": \"#4D5663\"}, \"type\": \"scatter\", \"uid\": \"94fb7272-63ce-4ccb-8949-dc9842a33b80\", \"x\": [71.0], \"y\": [2850000.0]}, {\"marker\": {\"color\": \"rgba(128, 128, 0, 0.5121951219512195)\", \"line\": {\"width\": 1.3}, \"opacity\": 0.8, \"size\": 12, \"symbol\": \"circle\"}, \"mode\": \"markers\", \"name\": \"Namibia\", \"textfont\": {\"color\": \"#4D5663\"}, \"type\": \"scatter\", \"uid\": \"3e528a8a-aca6-433d-b0a4-95f1f881a803\", \"x\": [66.0], \"y\": [783333.3333333334]}, {\"marker\": {\"color\": \"rgba(251, 128, 114, 0.5121951219512195)\", \"line\": {\"width\": 1.3}, \"opacity\": 0.8, \"size\": 12, \"symbol\": \"circle\"}, \"mode\": \"markers\", \"name\": \"Netherlands\", \"textfont\": {\"color\": \"#4D5663\"}, \"type\": \"scatter\", \"uid\": \"9a7bcaa9-36d1-4000-9037-7faabf0378ff\", \"x\": [67.66592920353982], \"y\": [2875287.610619469]}, {\"marker\": {\"color\": \"rgba(128, 177, 211, 0.5121951219512195)\", \"line\": {\"width\": 1.3}, \"opacity\": 0.8, \"size\": 12, \"symbol\": \"circle\"}, \"mode\": \"markers\", \"name\": \"New Caledonia\", \"textfont\": {\"color\": \"#4D5663\"}, \"type\": \"scatter\", \"uid\": \"89afeb3a-192b-4931-a822-bb4fc3ee90f2\", \"x\": [71.0], \"y\": [1800000.0]}, {\"marker\": {\"color\": \"rgba(128, 177, 211, 0.4634146341463417)\", \"line\": {\"width\": 1.3}, \"opacity\": 0.8, \"size\": 12, \"symbol\": \"circle\"}, \"mode\": \"markers\", \"name\": \"New Zealand\", \"textfont\": {\"color\": \"#4D5663\"}, \"type\": \"scatter\", \"uid\": \"db6add54-2b84-4f94-a8b2-159a903189a4\", \"x\": [62.61363636363637], \"y\": [957727.2727272727]}, {\"marker\": {\"color\": \"rgba(255, 153, 51, 0.4634146341463417)\", \"line\": {\"width\": 1.3}, \"opacity\": 0.8, \"size\": 12, \"symbol\": \"circle\"}, \"mode\": \"markers\", \"name\": \"Nicaragua\", \"textfont\": {\"color\": \"#4D5663\"}, \"type\": \"scatter\", \"uid\": \"f148d02a-a963-4e32-95bf-f33e45967d24\", \"x\": [66.0], \"y\": [500000.0]}, {\"marker\": {\"color\": \"rgba(55, 128, 191, 0.4634146341463417)\", \"line\": {\"width\": 1.3}, \"opacity\": 0.8, \"size\": 12, \"symbol\": \"circle\"}, \"mode\": \"markers\", \"name\": \"Niger\", \"textfont\": {\"color\": \"#4D5663\"}, \"type\": \"scatter\", \"uid\": \"c9a403d5-20fe-499b-9ff7-aa0c8923ebc0\", \"x\": [62.333333333333336], \"y\": [578333.3333333334]}, {\"marker\": {\"color\": \"rgba(50, 171, 96, 0.4634146341463417)\", \"line\": {\"width\": 1.3}, \"opacity\": 0.8, \"size\": 12, \"symbol\": \"circle\"}, \"mode\": \"markers\", \"name\": \"Nigeria\", \"textfont\": {\"color\": \"#4D5663\"}, \"type\": \"scatter\", \"uid\": \"7ec7cca0-16c9-4840-b7ef-f4e96570d99a\", \"x\": [67.14876033057851], \"y\": [2534462.8099173554]}, {\"marker\": {\"color\": \"rgba(128, 0, 128, 0.4634146341463417)\", \"line\": {\"width\": 1.3}, \"opacity\": 0.8, \"size\": 12, \"symbol\": \"circle\"}, \"mode\": \"markers\", \"name\": \"Northern Ireland\", \"textfont\": {\"color\": \"#4D5663\"}, \"type\": \"scatter\", \"uid\": \"598da137-a3ac-4806-90bf-72262b54423b\", \"x\": [63.50632911392405], \"y\": [874683.5443037974]}, {\"marker\": {\"color\": \"rgba(219, 64, 82, 0.4634146341463417)\", \"line\": {\"width\": 1.3}, \"opacity\": 0.8, \"size\": 12, \"symbol\": \"circle\"}, \"mode\": \"markers\", \"name\": \"Norway\", \"textfont\": {\"color\": \"#4D5663\"}, \"type\": \"scatter\", \"uid\": \"5717dab6-6a79-4dc5-a8cb-481ae6e61960\", \"x\": [63.16129032258065], \"y\": [1007434.0175953079]}, {\"marker\": {\"color\": \"rgba(0, 128, 128, 0.4634146341463417)\", \"line\": {\"width\": 1.3}, \"opacity\": 0.8, \"size\": 12, \"symbol\": \"circle\"}, \"mode\": \"markers\", \"name\": \"Oman\", \"textfont\": {\"color\": \"#4D5663\"}, \"type\": \"scatter\", \"uid\": \"860b4cfb-18fd-44d3-a2f6-f84b962d43ae\", \"x\": [72.0], \"y\": [425000.0]}, {\"marker\": {\"color\": \"rgba(255, 255, 51, 0.4634146341463417)\", \"line\": {\"width\": 1.3}, \"opacity\": 0.8, \"size\": 12, \"symbol\": \"circle\"}, \"mode\": \"markers\", \"name\": \"Palestine\", \"textfont\": {\"color\": \"#4D5663\"}, \"type\": \"scatter\", \"uid\": \"07665570-b4c8-4e31-8b73-6492e5c9f450\", \"x\": [66.0], \"y\": [575000.0]}, {\"marker\": {\"color\": \"rgba(128, 128, 0, 0.4634146341463417)\", \"line\": {\"width\": 1.3}, \"opacity\": 0.8, \"size\": 12, \"symbol\": \"circle\"}, \"mode\": \"markers\", \"name\": \"Panama\", \"textfont\": {\"color\": \"#4D5663\"}, \"type\": \"scatter\", \"uid\": \"d5c53f66-4f81-4d83-a7c7-0ad661b4fdec\", \"x\": [67.66666666666667], \"y\": [1163333.3333333333]}, {\"marker\": {\"color\": \"rgba(251, 128, 114, 0.4634146341463417)\", \"line\": {\"width\": 1.3}, \"opacity\": 0.8, \"size\": 12, \"symbol\": \"circle\"}, \"mode\": \"markers\", \"name\": \"Paraguay\", \"textfont\": {\"color\": \"#4D5663\"}, \"type\": \"scatter\", \"uid\": \"d89e9c15-0031-41a3-bd24-4fc3b4a2a344\", \"x\": [69.70238095238095], \"y\": [2717083.3333333335]}, {\"marker\": {\"color\": \"rgba(251, 128, 114, 0.4146341463414636)\", \"line\": {\"width\": 1.3}, \"opacity\": 0.8, \"size\": 12, \"symbol\": \"circle\"}, \"mode\": \"markers\", \"name\": \"Peru\", \"textfont\": {\"color\": \"#4D5663\"}, \"type\": \"scatter\", \"uid\": \"e5d1b252-06b7-4fc1-8222-3ef5df4cff96\", \"x\": [70.21621621621621], \"y\": [2568243.243243243]}, {\"marker\": {\"color\": \"rgba(128, 177, 211, 0.4146341463414636)\", \"line\": {\"width\": 1.3}, \"opacity\": 0.8, \"size\": 12, \"symbol\": \"circle\"}, \"mode\": \"markers\", \"name\": \"Philippines\", \"textfont\": {\"color\": \"#4D5663\"}, \"type\": \"scatter\", \"uid\": \"393900cd-f119-4874-8be0-d9b103d2aff7\", \"x\": [65.0], \"y\": [1725000.0]}, {\"marker\": {\"color\": \"rgba(255, 153, 51, 0.4146341463414636)\", \"line\": {\"width\": 1.3}, \"opacity\": 0.8, \"size\": 12, \"symbol\": \"circle\"}, \"mode\": \"markers\", \"name\": \"Poland\", \"textfont\": {\"color\": \"#4D5663\"}, \"type\": \"scatter\", \"uid\": \"ebc97b0a-0cc9-42c0-b03c-884fc78bcb18\", \"x\": [63.235632183908045], \"y\": [1346968.3908045976]}, {\"marker\": {\"color\": \"rgba(55, 128, 191, 0.4146341463414636)\", \"line\": {\"width\": 1.3}, \"opacity\": 0.8, \"size\": 12, \"symbol\": \"circle\"}, \"mode\": \"markers\", \"name\": \"Portugal\", \"textfont\": {\"color\": \"#4D5663\"}, \"type\": \"scatter\", \"uid\": \"ee69a364-6ad4-44dd-b28a-a6963d1d5666\", \"x\": [71.34472049689441], \"y\": [5063664.596273292]}, {\"marker\": {\"color\": \"rgba(50, 171, 96, 0.4146341463414636)\", \"line\": {\"width\": 1.3}, \"opacity\": 0.8, \"size\": 12, \"symbol\": \"circle\"}, \"mode\": \"markers\", \"name\": \"Puerto Rico\", \"textfont\": {\"color\": \"#4D5663\"}, \"type\": \"scatter\", \"uid\": \"cb1d209a-97e0-4e5d-a57c-59eb284c08ef\", \"x\": [63.0], \"y\": [110000.0]}, {\"marker\": {\"color\": \"rgba(128, 0, 128, 0.4146341463414636)\", \"line\": {\"width\": 1.3}, \"opacity\": 0.8, \"size\": 12, \"symbol\": \"circle\"}, \"mode\": \"markers\", \"name\": \"Qatar\", \"textfont\": {\"color\": \"#4D5663\"}, \"type\": \"scatter\", \"uid\": \"d4e8ff47-47e9-488e-b35c-93758359a0a9\", \"x\": [63.0], \"y\": [425000.0]}, {\"marker\": {\"color\": \"rgba(219, 64, 82, 0.4146341463414636)\", \"line\": {\"width\": 1.3}, \"opacity\": 0.8, \"size\": 12, \"symbol\": \"circle\"}, \"mode\": \"markers\", \"name\": \"Republic of Ireland\", \"textfont\": {\"color\": \"#4D5663\"}, \"type\": \"scatter\", \"uid\": \"6fef6a8c-e7fc-4783-8b5a-092b69f0a753\", \"x\": [60.88586956521739], \"y\": [671657.6086956522]}, {\"marker\": {\"color\": \"rgba(0, 128, 128, 0.4146341463414636)\", \"line\": {\"width\": 1.3}, \"opacity\": 0.8, \"size\": 12, \"symbol\": \"circle\"}, \"mode\": \"markers\", \"name\": \"Romania\", \"textfont\": {\"color\": \"#4D5663\"}, \"type\": \"scatter\", \"uid\": \"046f1e5a-677d-4135-8fbd-5f91d75495bb\", \"x\": [69.16666666666667], \"y\": [2166111.111111111]}, {\"marker\": {\"color\": \"rgba(255, 255, 51, 0.4146341463414636)\", \"line\": {\"width\": 1.3}, \"opacity\": 0.8, \"size\": 12, \"symbol\": \"circle\"}, \"mode\": \"markers\", \"name\": \"Russia\", \"textfont\": {\"color\": \"#4D5663\"}, \"type\": \"scatter\", \"uid\": \"b912a291-a944-404a-b63a-9b062e3c9156\", \"x\": [70.0632911392405], \"y\": [3238227.8481012657]}, {\"marker\": {\"color\": \"rgba(128, 128, 0, 0.4146341463414636)\", \"line\": {\"width\": 1.3}, \"opacity\": 0.8, \"size\": 12, \"symbol\": \"circle\"}, \"mode\": \"markers\", \"name\": \"Rwanda\", \"textfont\": {\"color\": \"#4D5663\"}, \"type\": \"scatter\", \"uid\": \"2743b2fd-ac51-45eb-9800-342d774c0af9\", \"x\": [63.0], \"y\": [475000.0]}, {\"marker\": {\"color\": \"rgba(128, 128, 0, 0.3658536585365855)\", \"line\": {\"width\": 1.3}, \"opacity\": 0.8, \"size\": 12, \"symbol\": \"circle\"}, \"mode\": \"markers\", \"name\": \"Saudi Arabia\", \"textfont\": {\"color\": \"#4D5663\"}, \"type\": \"scatter\", \"uid\": \"f01ca116-45f2-407c-9eca-da2eef80f4f4\", \"x\": [60.7566765578635], \"y\": [417522.25519287837]}, {\"marker\": {\"color\": \"rgba(251, 128, 114, 0.3658536585365855)\", \"line\": {\"width\": 1.3}, \"opacity\": 0.8, \"size\": 12, \"symbol\": \"circle\"}, \"mode\": \"markers\", \"name\": \"Scotland\", \"textfont\": {\"color\": \"#4D5663\"}, \"type\": \"scatter\", \"uid\": \"323373b6-085e-47db-a9ea-e89162a1164a\", \"x\": [64.0], \"y\": [1233056.5371024734]}, {\"marker\": {\"color\": \"rgba(128, 177, 211, 0.3658536585365855)\", \"line\": {\"width\": 1.3}, \"opacity\": 0.8, \"size\": 12, \"symbol\": \"circle\"}, \"mode\": \"markers\", \"name\": \"Senegal\", \"textfont\": {\"color\": \"#4D5663\"}, \"type\": \"scatter\", \"uid\": \"71627fdc-e1e2-4ff0-bf3b-23c0acdd9f33\", \"x\": [68.61538461538461], \"y\": [3545076.923076923]}, {\"marker\": {\"color\": \"rgba(255, 153, 51, 0.3658536585365855)\", \"line\": {\"width\": 1.3}, \"opacity\": 0.8, \"size\": 12, \"symbol\": \"circle\"}, \"mode\": \"markers\", \"name\": \"Serbia\", \"textfont\": {\"color\": \"#4D5663\"}, \"type\": \"scatter\", \"uid\": \"71a2b25d-c379-4edc-b359-235d1bc9d8fc\", \"x\": [69.92857142857143], \"y\": [4157817.4603174604]}, {\"marker\": {\"color\": \"rgba(55, 128, 191, 0.3658536585365855)\", \"line\": {\"width\": 1.3}, \"opacity\": 0.8, \"size\": 12, \"symbol\": \"circle\"}, \"mode\": \"markers\", \"name\": \"Sierra Leone\", \"textfont\": {\"color\": \"#4D5663\"}, \"type\": \"scatter\", \"uid\": \"44585f39-b7a9-4dd6-ba96-fcc586dedd02\", \"x\": [65.33333333333333], \"y\": [1092500.0]}, {\"marker\": {\"color\": \"rgba(50, 171, 96, 0.3658536585365855)\", \"line\": {\"width\": 1.3}, \"opacity\": 0.8, \"size\": 12, \"symbol\": \"circle\"}, \"mode\": \"markers\", \"name\": \"Slovakia\", \"textfont\": {\"color\": \"#4D5663\"}, \"type\": \"scatter\", \"uid\": \"74c58059-61bc-4766-bd76-5b1782793eb6\", \"x\": [68.4074074074074], \"y\": [3826111.111111111]}, {\"marker\": {\"color\": \"rgba(128, 0, 128, 0.3658536585365855)\", \"line\": {\"width\": 1.3}, \"opacity\": 0.8, \"size\": 12, \"symbol\": \"circle\"}, \"mode\": \"markers\", \"name\": \"Slovenia\", \"textfont\": {\"color\": \"#4D5663\"}, \"type\": \"scatter\", \"uid\": \"814ac54a-d6d3-4661-b49c-90ab89039ab4\", \"x\": [69.52727272727273], \"y\": [4469545.454545454]}, {\"marker\": {\"color\": \"rgba(219, 64, 82, 0.3658536585365855)\", \"line\": {\"width\": 1.3}, \"opacity\": 0.8, \"size\": 12, \"symbol\": \"circle\"}, \"mode\": \"markers\", \"name\": \"South Africa\", \"textfont\": {\"color\": \"#4D5663\"}, \"type\": \"scatter\", \"uid\": \"5c9fa7c3-83ed-4119-adb8-dc349de5b804\", \"x\": [67.47887323943662], \"y\": [1138169.014084507]}, {\"marker\": {\"color\": \"rgba(0, 128, 128, 0.3658536585365855)\", \"line\": {\"width\": 1.3}, \"opacity\": 0.8, \"size\": 12, \"symbol\": \"circle\"}, \"mode\": \"markers\", \"name\": \"South Sudan\", \"textfont\": {\"color\": \"#4D5663\"}, \"type\": \"scatter\", \"uid\": \"7b2ae385-3fb1-4d74-ad21-bb0296dfd453\", \"x\": [60.0], \"y\": [260000.0]}, {\"marker\": {\"color\": \"rgba(255, 255, 51, 0.3658536585365855)\", \"line\": {\"width\": 1.3}, \"opacity\": 0.8, \"size\": 12, \"symbol\": \"circle\"}, \"mode\": \"markers\", \"name\": \"Spain\", \"textfont\": {\"color\": \"#4D5663\"}, \"type\": \"scatter\", \"uid\": \"6bc39e92-5dbf-46b6-9018-8f18c898e13a\", \"x\": [69.70588235294117], \"y\": [4394421.101774043]}, {\"marker\": {\"color\": \"rgba(255, 255, 51, 0.31707317073170743)\", \"line\": {\"width\": 1.3}, \"opacity\": 0.8, \"size\": 12, \"symbol\": \"circle\"}, \"mode\": \"markers\", \"name\": \"St Kitts Nevis\", \"textfont\": {\"color\": \"#4D5663\"}, \"type\": \"scatter\", \"uid\": \"dcc49a8e-766f-4608-b88b-7042eba7858e\", \"x\": [62.0], \"y\": [1023333.3333333334]}, {\"marker\": {\"color\": \"rgba(128, 128, 0, 0.31707317073170743)\", \"line\": {\"width\": 1.3}, \"opacity\": 0.8, \"size\": 12, \"symbol\": \"circle\"}, \"mode\": \"markers\", \"name\": \"St Lucia\", \"textfont\": {\"color\": \"#4D5663\"}, \"type\": \"scatter\", \"uid\": \"250900b4-48e8-4b26-bd92-1b615d6ddfaa\", \"x\": [64.0], \"y\": [500000.0]}, {\"marker\": {\"color\": \"rgba(251, 128, 114, 0.31707317073170743)\", \"line\": {\"width\": 1.3}, \"opacity\": 0.8, \"size\": 12, \"symbol\": \"circle\"}, \"mode\": \"markers\", \"name\": \"Sudan\", \"textfont\": {\"color\": \"#4D5663\"}, \"type\": \"scatter\", \"uid\": \"40d1cde8-7e22-46f2-b72d-75e0aa881bb8\", \"x\": [62.666666666666664], \"y\": [456666.6666666667]}, {\"marker\": {\"color\": \"rgba(128, 177, 211, 0.31707317073170743)\", \"line\": {\"width\": 1.3}, \"opacity\": 0.8, \"size\": 12, \"symbol\": \"circle\"}, \"mode\": \"markers\", \"name\": \"Suriname\", \"textfont\": {\"color\": \"#4D5663\"}, \"type\": \"scatter\", \"uid\": \"7ec5969c-d784-4bc5-9177-7dce663b2d8b\", \"x\": [67.0], \"y\": [868750.0]}, {\"marker\": {\"color\": \"rgba(255, 153, 51, 0.31707317073170743)\", \"line\": {\"width\": 1.3}, \"opacity\": 0.8, \"size\": 12, \"symbol\": \"circle\"}, \"mode\": \"markers\", \"name\": \"Sweden\", \"textfont\": {\"color\": \"#4D5663\"}, \"type\": \"scatter\", \"uid\": \"1f79935a-7e82-4fd5-add8-f0dda374673a\", \"x\": [63.62626262626262], \"y\": [1139027.7777777778]}, {\"marker\": {\"color\": \"rgba(55, 128, 191, 0.31707317073170743)\", \"line\": {\"width\": 1.3}, \"opacity\": 0.8, \"size\": 12, \"symbol\": \"circle\"}, \"mode\": \"markers\", \"name\": \"Switzerland\", \"textfont\": {\"color\": \"#4D5663\"}, \"type\": \"scatter\", \"uid\": \"5b450ebd-cdc5-48fb-ab5d-3303a2428369\", \"x\": [65.47727272727273], \"y\": [2119545.4545454546]}, {\"marker\": {\"color\": \"rgba(50, 171, 96, 0.31707317073170743)\", \"line\": {\"width\": 1.3}, \"opacity\": 0.8, \"size\": 12, \"symbol\": \"circle\"}, \"mode\": \"markers\", \"name\": \"Syria\", \"textfont\": {\"color\": \"#4D5663\"}, \"type\": \"scatter\", \"uid\": \"ab98f3e4-7f9c-40ee-8a4b-24c97c2c34ab\", \"x\": [68.55555555555556], \"y\": [2983888.888888889]}, {\"marker\": {\"color\": \"rgba(128, 0, 128, 0.31707317073170743)\", \"line\": {\"width\": 1.3}, \"opacity\": 0.8, \"size\": 12, \"symbol\": \"circle\"}, \"mode\": \"markers\", \"name\": \"S\\u00e3o Tom\\u00e9 & Pr\\u00edncipe\", \"textfont\": {\"color\": \"#4D5663\"}, \"type\": \"scatter\", \"uid\": \"a5ca5bb2-3d3a-4eb8-818a-530ddcde6c0a\", \"x\": [72.0], \"y\": [2800000.0]}, {\"marker\": {\"color\": \"rgba(219, 64, 82, 0.31707317073170743)\", \"line\": {\"width\": 1.3}, \"opacity\": 0.8, \"size\": 12, \"symbol\": \"circle\"}, \"mode\": \"markers\", \"name\": \"Tanzania\", \"textfont\": {\"color\": \"#4D5663\"}, \"type\": \"scatter\", \"uid\": \"cba5dc8e-b514-4625-99ae-c7702ddb91ed\", \"x\": [67.0], \"y\": [3675000.0]}, {\"marker\": {\"color\": \"rgba(0, 128, 128, 0.31707317073170743)\", \"line\": {\"width\": 1.3}, \"opacity\": 0.8, \"size\": 12, \"symbol\": \"circle\"}, \"mode\": \"markers\", \"name\": \"Thailand\", \"textfont\": {\"color\": \"#4D5663\"}, \"type\": \"scatter\", \"uid\": \"976e0db2-a1a4-49a9-9dde-6b9fa1ecda8b\", \"x\": [62.4], \"y\": [490000.0]}, {\"marker\": {\"color\": \"rgba(0, 128, 128, 0.26829268292682956)\", \"line\": {\"width\": 1.3}, \"opacity\": 0.8, \"size\": 12, \"symbol\": \"circle\"}, \"mode\": \"markers\", \"name\": \"Togo\", \"textfont\": {\"color\": \"#4D5663\"}, \"type\": \"scatter\", \"uid\": \"102eb547-fb9b-44e1-8eb9-bfb324b420f1\", \"x\": [71.33333333333333], \"y\": [3770833.3333333335]}, {\"marker\": {\"color\": \"rgba(255, 255, 51, 0.26829268292682956)\", \"line\": {\"width\": 1.3}, \"opacity\": 0.8, \"size\": 12, \"symbol\": \"circle\"}, \"mode\": \"markers\", \"name\": \"Trinidad & Tobago\", \"textfont\": {\"color\": \"#4D5663\"}, \"type\": \"scatter\", \"uid\": \"e066c9e1-3a1b-449a-ab1f-bcb3a83d2d2f\", \"x\": [66.75], \"y\": [2450000.0]}, {\"marker\": {\"color\": \"rgba(128, 128, 0, 0.26829268292682956)\", \"line\": {\"width\": 1.3}, \"opacity\": 0.8, \"size\": 12, \"symbol\": \"circle\"}, \"mode\": \"markers\", \"name\": \"Tunisia\", \"textfont\": {\"color\": \"#4D5663\"}, \"type\": \"scatter\", \"uid\": \"cd587baa-e8b6-494e-9aa5-83179d614f8c\", \"x\": [68.25], \"y\": [2073125.0]}, {\"marker\": {\"color\": \"rgba(251, 128, 114, 0.26829268292682956)\", \"line\": {\"width\": 1.3}, \"opacity\": 0.8, \"size\": 12, \"symbol\": \"circle\"}, \"mode\": \"markers\", \"name\": \"Turkey\", \"textfont\": {\"color\": \"#4D5663\"}, \"type\": \"scatter\", \"uid\": \"6f73d11a-fb56-4e0a-bf65-e87ac784d63e\", \"x\": [66.07260726072607], \"y\": [1882392.7392739274]}, {\"marker\": {\"color\": \"rgba(128, 177, 211, 0.26829268292682956)\", \"line\": {\"width\": 1.3}, \"opacity\": 0.8, \"size\": 12, \"symbol\": \"circle\"}, \"mode\": \"markers\", \"name\": \"Uganda\", \"textfont\": {\"color\": \"#4D5663\"}, \"type\": \"scatter\", \"uid\": \"fe71da9c-a94f-49d7-9c5a-aa0553579c56\", \"x\": [62.5], \"y\": [553333.3333333334]}, {\"marker\": {\"color\": \"rgba(255, 153, 51, 0.26829268292682956)\", \"line\": {\"width\": 1.3}, \"opacity\": 0.8, \"size\": 12, \"symbol\": \"circle\"}, \"mode\": \"markers\", \"name\": \"Ukraine\", \"textfont\": {\"color\": \"#4D5663\"}, \"type\": \"scatter\", \"uid\": \"8d096977-42c3-41bd-974b-cea131d015bd\", \"x\": [70.42465753424658], \"y\": [4092328.7671232875]}, {\"marker\": {\"color\": \"rgba(55, 128, 191, 0.26829268292682956)\", \"line\": {\"width\": 1.3}, \"opacity\": 0.8, \"size\": 12, \"symbol\": \"circle\"}, \"mode\": \"markers\", \"name\": \"United Arab Emirates\", \"textfont\": {\"color\": \"#4D5663\"}, \"type\": \"scatter\", \"uid\": \"bee6747a-df52-4f1c-a0dc-4f4f8fb2d884\", \"x\": [77.0], \"y\": [10500000.0]}, {\"marker\": {\"color\": \"rgba(50, 171, 96, 0.26829268292682956)\", \"line\": {\"width\": 1.3}, \"opacity\": 0.8, \"size\": 12, \"symbol\": \"circle\"}, \"mode\": \"markers\", \"name\": \"United States\", \"textfont\": {\"color\": \"#4D5663\"}, \"type\": \"scatter\", \"uid\": \"7d5f6c9e-707f-4054-a31d-46d8711d8b47\", \"x\": [65.1728045325779], \"y\": [1183696.8838526912]}, {\"marker\": {\"color\": \"rgba(128, 0, 128, 0.26829268292682956)\", \"line\": {\"width\": 1.3}, \"opacity\": 0.8, \"size\": 12, \"symbol\": \"circle\"}, \"mode\": \"markers\", \"name\": \"Uruguay\", \"textfont\": {\"color\": \"#4D5663\"}, \"type\": \"scatter\", \"uid\": \"7360ed84-8107-4245-96bb-bb2289efab17\", \"x\": [70.42953020134229], \"y\": [4811073.825503356]}, {\"marker\": {\"color\": \"rgba(219, 64, 82, 0.26829268292682956)\", \"line\": {\"width\": 1.3}, \"opacity\": 0.8, \"size\": 12, \"symbol\": \"circle\"}, \"mode\": \"markers\", \"name\": \"Uzbekistan\", \"textfont\": {\"color\": \"#4D5663\"}, \"type\": \"scatter\", \"uid\": \"ae7d5866-efb7-4b7e-87c4-6c6cefb163c7\", \"x\": [67.5], \"y\": [3100000.0]}, {\"marker\": {\"color\": \"rgba(219, 64, 82, 0.21951219512195147)\", \"line\": {\"width\": 1.3}, \"opacity\": 0.8, \"size\": 12, \"symbol\": \"circle\"}, \"mode\": \"markers\", \"name\": \"Venezuela\", \"textfont\": {\"color\": \"#4D5663\"}, \"type\": \"scatter\", \"uid\": \"4f761042-78f8-4547-a640-c5dd7f3d9f1b\", \"x\": [67.34848484848484], \"y\": [2265530.303030303]}, {\"marker\": {\"color\": \"rgba(0, 128, 128, 0.21951219512195147)\", \"line\": {\"width\": 1.3}, \"opacity\": 0.8, \"size\": 12, \"symbol\": \"circle\"}, \"mode\": \"markers\", \"name\": \"Wales\", \"textfont\": {\"color\": \"#4D5663\"}, \"type\": \"scatter\", \"uid\": \"c5cee0cd-5985-4fcc-b80a-393138f8fb96\", \"x\": [64.13953488372093], \"y\": [1755542.6356589147]}, {\"marker\": {\"color\": \"rgba(255, 255, 51, 0.21951219512195147)\", \"line\": {\"width\": 1.3}, \"opacity\": 0.8, \"size\": 12, \"symbol\": \"circle\"}, \"mode\": \"markers\", \"name\": \"Zambia\", \"textfont\": {\"color\": \"#4D5663\"}, \"type\": \"scatter\", \"uid\": \"45c3671c-4916-4e50-a47f-79feeeb06eab\", \"x\": [65.22222222222223], \"y\": [1129444.4444444445]}, {\"marker\": {\"color\": \"rgba(128, 128, 0, 0.21951219512195147)\", \"line\": {\"width\": 1.3}, \"opacity\": 0.8, \"size\": 12, \"symbol\": \"circle\"}, \"mode\": \"markers\", \"name\": \"Zimbabwe\", \"textfont\": {\"color\": \"#4D5663\"}, \"type\": \"scatter\", \"uid\": \"054f45d0-b5f9-4267-9716-7aadae020814\", \"x\": [69.76923076923077], \"y\": [2780769.230769231]}],\n",
       "                        {\"legend\": {\"bgcolor\": \"#FFFFFF\", \"font\": {\"color\": \"#4D5663\"}}, \"paper_bgcolor\": \"#FFFFFF\", \"plot_bgcolor\": \"#FFFFFF\", \"title\": {\"font\": {\"color\": \"#4D5663\"}, \"text\": \"Average Overall and Average Value by Nationality\"}, \"xaxis\": {\"gridcolor\": \"#E1E5ED\", \"showgrid\": true, \"tickfont\": {\"color\": \"#4D5663\"}, \"title\": {\"font\": {\"color\": \"#4D5663\"}, \"text\": \"Overall\"}, \"zerolinecolor\": \"#E1E5ED\"}, \"yaxis\": {\"gridcolor\": \"#E1E5ED\", \"showgrid\": true, \"tickfont\": {\"color\": \"#4D5663\"}, \"title\": {\"font\": {\"color\": \"#4D5663\"}, \"text\": \"Value in euros\"}, \"zerolinecolor\": \"#E1E5ED\"}},\n",
       "                        {\"showLink\": true, \"linkText\": \"Export to plot.ly\", \"plotlyServerURL\": \"https://plot.ly\", \"responsive\": true}\n",
       "                    ).then(function(){\n",
       "                            \n",
       "var gd = document.getElementById('e2d7f50a-3244-47b5-8158-52962b97fc98');\n",
       "var x = new MutationObserver(function (mutations, observer) {{\n",
       "        var display = window.getComputedStyle(gd).display;\n",
       "        if (!display || display === 'none') {{\n",
       "            console.log([gd, 'removed!']);\n",
       "            Plotly.purge(gd);\n",
       "            observer.disconnect();\n",
       "        }}\n",
       "}});\n",
       "\n",
       "// Listen for the removal of the full notebook cells\n",
       "var notebookContainer = gd.closest('#notebook-container');\n",
       "if (notebookContainer) {{\n",
       "    x.observe(notebookContainer, {childList: true});\n",
       "}}\n",
       "\n",
       "// Listen for the clearing of the current output cell\n",
       "var outputEl = gd.closest('.output');\n",
       "if (outputEl) {{\n",
       "    x.observe(outputEl, {childList: true});\n",
       "}}\n",
       "\n",
       "                        })\n",
       "                };\n",
       "                });\n",
       "            </script>\n",
       "        </div>"
      ]
     },
     "metadata": {},
     "output_type": "display_data"
    }
   ],
   "source": [
    "data3.iplot(x='Overall', y='Value_euros', categories='Nationality',\n",
    "           xTitle='Overall', yTitle='Value in euros',\n",
    "           title='Average Overall and Average Value by Nationality')"
   ]
  },
  {
   "cell_type": "code",
   "execution_count": null,
   "metadata": {},
   "outputs": [],
   "source": []
  }
 ],
 "metadata": {
  "kernelspec": {
   "display_name": "Python 3",
   "language": "python",
   "name": "python3"
  },
  "language_info": {
   "codemirror_mode": {
    "name": "ipython",
    "version": 3
   },
   "file_extension": ".py",
   "mimetype": "text/x-python",
   "name": "python",
   "nbconvert_exporter": "python",
   "pygments_lexer": "ipython3",
   "version": "3.7.3"
  },
  "varInspector": {
   "cols": {
    "lenName": 16,
    "lenType": 16,
    "lenVar": 40
   },
   "kernels_config": {
    "python": {
     "delete_cmd_postfix": "",
     "delete_cmd_prefix": "del ",
     "library": "var_list.py",
     "varRefreshCmd": "print(var_dic_list())"
    },
    "r": {
     "delete_cmd_postfix": ") ",
     "delete_cmd_prefix": "rm(",
     "library": "var_list.r",
     "varRefreshCmd": "cat(var_dic_list()) "
    }
   },
   "types_to_exclude": [
    "module",
    "function",
    "builtin_function_or_method",
    "instance",
    "_Feature"
   ],
   "window_display": false
  }
 },
 "nbformat": 4,
 "nbformat_minor": 2
}
